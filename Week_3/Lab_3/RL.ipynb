{
  "cells": [
    {
      "cell_type": "markdown",
      "metadata": {
        "id": "jrI6q7RmWQam"
      },
      "source": [
        "<table align=\"center\">\n",
        "  <td align=\"center\"><a target=\"_blank\" href=\"http://introtodeeplearning.com\">\n",
        "        <img src=\"https://i.ibb.co/Jr88sn2/mit.png\" style=\"padding-bottom:5px;\" />\n",
        "      Visit MIT Deep Learning</a></td>\n",
        "  <td align=\"center\"><a target=\"_blank\" href=\"https://colab.research.google.com/github/aamini/introtodeeplearning/blob/master/lab3/RL.ipynb\">\n",
        "        <img src=\"https://i.ibb.co/2P3SLwK/colab.png\"  style=\"padding-bottom:5px;\" />Run in Google Colab</a></td>\n",
        "  <td align=\"center\"><a target=\"_blank\" href=\"https://github.com/aamini/introtodeeplearning/blob/master/lab3/RL.ipynb\">\n",
        "        <img src=\"https://i.ibb.co/xfJbPmL/github.png\"  height=\"70px\" style=\"padding-bottom:5px;\"  />View Source on GitHub</a></td>\n",
        "</table>\n",
        "\n",
        "# Copyright Information"
      ]
    },
    {
      "cell_type": "code",
      "execution_count": 1,
      "metadata": {
        "id": "wkd375upWYok"
      },
      "outputs": [],
      "source": [
        "# Copyright 2022 MIT 6.S191 Introduction to Deep Learning. All Rights Reserved.\n",
        "# \n",
        "# Licensed under the MIT License. You may not use this file except in compliance\n",
        "# with the License. Use and/or modification of this code outside of 6.S191 must\n",
        "# reference:\n",
        "#\n",
        "# © MIT 6.S191: Introduction to Deep Learning\n",
        "# http://introtodeeplearning.com\n",
        "#"
      ]
    },
    {
      "cell_type": "markdown",
      "metadata": {
        "id": "WoXYKhfZMHiw"
      },
      "source": [
        "# Laboratory 3: Reinforcement Learning\n",
        "\n",
        "Reinforcement learning (RL) is a subset of machine learning which poses learning problems as interactions between agents and environments. It often assumes agents have no prior knowledge of a world, so they must learn to navigate environments by optimizing a reward function. Within an environment, an agent can take certain actions and receive feedback, in the form of positive or negative rewards, with respect to their decision. As such, an agent's feedback loop is somewhat akin to the idea of \"trial and error\", or the manner in which a child might learn to distinguish between \"good\" and \"bad\" actions.\n",
        "\n",
        "In practical terms, our RL agent will interact with the environment by taking an action at each timestep, receiving a corresponding reward, and updating its state according to what it has \"learned\".  \n",
        "\n",
        "![alt text](https://www.kdnuggets.com/images/reinforcement-learning-fig1-700.jpg)\n",
        "\n",
        "While the ultimate goal of reinforcement learning is to teach agents to act in the real, physical world, simulated environments -- like games and simulation engines -- provide a convenient proving ground for developing RL algorithms and agents.\n",
        "\n",
        "In previous labs, we have explored both supervised (with LSTMs, CNNs) and unsupervised / semi-supervised (with VAEs) learning tasks. Reinforcement learning is fundamentally different, in that we are training a deep learning algorithm to govern the actions of our RL agent, that is trying, within its environment, to find the optimal way to achieve a goal. The goal of training an RL agent is to determine the best next step to take to earn the greatest final payoff or return. In this lab, we focus on building a reinforcement learning algorithm to master two different environments with varying complexity. \n",
        "\n",
        "1.   **Cartpole**:   Balance a pole, protruding from a cart, in an upright position by only moving the base left or right. Environment with a low-dimensional observation space.\n",
        "2.   [**Driving in VISTA**](https://www.mit.edu/~amini/pubs/pdf/learning-in-simulation-vista.pdf): Learn a driving control policy for an autonomous vehicle, end-to-end from raw pixel inputs and entirely in the data-driven simulation environment of VISTA. Environment with a high-dimensional observation space -- learning directly from raw pixels.\n",
        "\n",
        "Let's get started! First we'll import TensorFlow, the course package, and some dependencies.\n"
      ]
    },
    {
      "cell_type": "code",
      "execution_count": 2,
      "metadata": {
        "id": "KR9QHuleJ9Bh",
        "outputId": "748de081-6176-4a0a-a88f-a189070b3a08",
        "colab": {
          "base_uri": "https://localhost:8080/"
        }
      },
      "outputs": [
        {
          "output_type": "stream",
          "name": "stdout",
          "text": [
            "Installing MIT deep learning package... Done\n"
          ]
        }
      ],
      "source": [
        "# Import Tensorflow 2.0\n",
        "%tensorflow_version 2.x\n",
        "import tensorflow as tf\n",
        "\n",
        "gpus = tf.config.experimental.list_physical_devices('GPU')\n",
        "if gpus:\n",
        "    for gpu in gpus:\n",
        "        tf.config.experimental.set_memory_growth(gpu, True)\n",
        "\n",
        "# Download and import the MIT 6.S191 package\n",
        "!printf \"Installing MIT deep learning package... \"\n",
        "!pip install --upgrade git+https://github.com/aamini/introtodeeplearning.git &> /dev/null\n",
        "!echo \"Done\""
      ]
    },
    {
      "cell_type": "code",
      "execution_count": 3,
      "metadata": {
        "id": "EvdePP-VyVWp"
      },
      "outputs": [],
      "source": [
        "#Install some dependencies for visualizing the agents\n",
        "!apt-get install -y xvfb python-opengl x11-utils &> /dev/null\n",
        "!pip install gym pyvirtualdisplay scikit-video ffio pyrender &> /dev/null\n",
        "!pip install tensorflow_probability==0.12.0 &> /dev/null\n",
        "import os\n",
        "os.environ['PYOPENGL_PLATFORM'] = 'egl'\n",
        "\n",
        "import numpy as np\n",
        "import matplotlib, cv2\n",
        "import matplotlib.pyplot as plt\n",
        "import base64, io, os, time, gym\n",
        "import IPython, functools\n",
        "import time\n",
        "from tqdm import tqdm\n",
        "import tensorflow_probability as tfp\n",
        "\n",
        "import mitdeeplearning as mdl"
      ]
    },
    {
      "cell_type": "markdown",
      "metadata": {
        "id": "zmrHSiXKTXTY"
      },
      "source": [
        "Before we dive in, let's take a step back and outline our approach, which is generally applicable to reinforcement learning problems in general:\n",
        "\n",
        "1. **Initialize our environment and our agent**: here we will describe the different observations and actions the agent can make in the environemnt.\n",
        "2. **Define our agent's memory**: this will enable the agent to remember its past actions, observations, and rewards.\n",
        "3. **Define a reward function**: describes the reward associated with an action or sequence of actions.\n",
        "4. **Define the learning algorithm**: this will be used to reinforce the agent's good behaviors and discourage bad behaviors.\n"
      ]
    },
    {
      "cell_type": "markdown",
      "metadata": {
        "id": "UT7YL8KBJIIc"
      },
      "source": [
        "# Part 1: Cartpole\n",
        "\n",
        "## 3.1 Define the Cartpole environment and agent\n",
        "\n",
        "### Environment \n",
        "\n",
        "In order to model the environment for the Cartpole task, we'll be using a toolkit developed by OpenAI called [OpenAI Gym](https://gym.openai.com/). It provides several pre-defined environments for training and testing reinforcement learning agents, including those for classic physics control tasks, Atari video games, and robotic simulations. To access the Cartpole environment, we can use `env = gym.make(\"CartPole-v0\")`, which we gained access to when we imported the `gym` package. We can instantiate different [environments](https://gym.openai.com/envs/#classic_control) by passing the enivronment name to the `make` function.\n",
        "\n",
        "One issue we might experience when developing RL algorithms is that many aspects of the learning process are inherently random: initializing game states, changes in the environment, and the agent's actions. As such, it can be helpful to set a initial \"seed\" for the environment to ensure some level of reproducibility. Much like you might use `numpy.random.seed`, we can call the comparable function in gym, `seed`, with our defined environment to ensure the environment's random variables are initialized the same each time."
      ]
    },
    {
      "cell_type": "code",
      "execution_count": 4,
      "metadata": {
        "id": "quv9SC0iIYFm",
        "outputId": "de79b28b-dfb6-4c68-cce2-c14ee430334d",
        "colab": {
          "base_uri": "https://localhost:8080/"
        }
      },
      "outputs": [
        {
          "output_type": "execute_result",
          "data": {
            "text/plain": [
              "[1]"
            ]
          },
          "metadata": {},
          "execution_count": 4
        }
      ],
      "source": [
        "### Instantiate the Cartpole environment ###\n",
        "\n",
        "env = gym.make(\"CartPole-v1\")\n",
        "env.seed(1)"
      ]
    },
    {
      "cell_type": "markdown",
      "metadata": {
        "id": "mhEITUcKK455"
      },
      "source": [
        "In Cartpole, a pole is attached by an un-actuated joint to a cart, which moves along a frictionless track. The pole starts upright, and the goal is to prevent it from falling over. The system is controlled by applying a force of +1 or -1 to the cart. A reward of +1 is provided for every timestep that the pole remains upright. The episode ends when the pole is more than 15 degrees from vertical, or the cart moves more than 2.4 units from the center of the track. A visual summary of the cartpole environment is depicted below:\n",
        "\n",
        "<img width=\"400px\" src=\"https://danielpiedrahita.files.wordpress.com/2017/02/cart-pole.png\"></img>\n",
        "\n",
        "Given this setup for the environment and the objective of the game, we can think about: 1) what observations help define the environment's state; 2) what actions the agent can take. \n",
        "\n",
        "First, let's consider the observation space. In this Cartpole environment our observations are:\n",
        "\n",
        "1. Cart position\n",
        "2. Cart velocity\n",
        "3. Pole angle\n",
        "4. Pole rotation rate\n",
        "\n",
        "We can confirm the size of the space by querying the environment's observation space:\n"
      ]
    },
    {
      "cell_type": "code",
      "execution_count": 5,
      "metadata": {
        "id": "UVJaEcbdIX82",
        "outputId": "00b6c367-2503-4652-e9d0-fdc8b5025af6",
        "colab": {
          "base_uri": "https://localhost:8080/"
        }
      },
      "outputs": [
        {
          "output_type": "stream",
          "name": "stdout",
          "text": [
            "Environment has observation space = Box(-3.4028234663852886e+38, 3.4028234663852886e+38, (4,), float32)\n"
          ]
        }
      ],
      "source": [
        "n_observations = env.observation_space\n",
        "print(\"Environment has observation space =\", n_observations)"
      ]
    },
    {
      "cell_type": "markdown",
      "metadata": {
        "id": "ZibGgjrALgPM"
      },
      "source": [
        "Second, we consider the action space. At every time step, the agent can move either right or left. Again we can confirm the size of the action space by querying the environment:"
      ]
    },
    {
      "cell_type": "code",
      "execution_count": 6,
      "metadata": {
        "id": "qc9SIPxBIXrm",
        "outputId": "48286d23-7176-4409-ac53-d2d7cc023e84",
        "colab": {
          "base_uri": "https://localhost:8080/"
        }
      },
      "outputs": [
        {
          "output_type": "stream",
          "name": "stdout",
          "text": [
            "Number of possible actions that the agent can choose from = 2\n"
          ]
        }
      ],
      "source": [
        "n_actions = env.action_space.n\n",
        "print(\"Number of possible actions that the agent can choose from =\", n_actions)"
      ]
    },
    {
      "cell_type": "markdown",
      "metadata": {
        "id": "pPfHME8aRKkb"
      },
      "source": [
        "### Cartpole agent\n",
        "\n",
        "Now that we have instantiated the environment and understood the dimensionality of the observation and action spaces, we are ready to define our agent. In deep reinforcement learning, a deep neural network defines the agent. This network will take as input an observation of the environment and output the probability of taking each of the possible actions. Since Cartpole is defined by a low-dimensional observation space, a simple feed-forward neural network should work well for our agent. We will define this using the `Sequential` API.\n"
      ]
    },
    {
      "cell_type": "code",
      "execution_count": 7,
      "metadata": {
        "id": "W-o_XK4oQ4eu"
      },
      "outputs": [],
      "source": [
        "### Define the Cartpole agent ###\n",
        "\n",
        "# Defines a feed-forward neural network\n",
        "def create_cartpole_model():\n",
        "    model = tf.keras.models.Sequential([\n",
        "        # First Dense layer\n",
        "        tf.keras.layers.Dense(units=32, activation='relu'),\n",
        "        \n",
        "        # TODO: Define the last Dense layer, which will provide the network's output.\n",
        "        # Think about the space the agent needs to act in!\n",
        "        tf.keras.layers.Dense(units=n_actions, activation=None) # TODO\n",
        "    ])\n",
        "    return model\n",
        "\n",
        "cartpole_model = create_cartpole_model()"
      ]
    },
    {
      "cell_type": "markdown",
      "metadata": {
        "id": "d5D5NSIYS2IW"
      },
      "source": [
        "Now that we have defined the core network architecture, we will define an *action function* that executes a forward pass through the network, given a set of observations, and samples from the output. This sampling from the output probabilities will be used to select the next action for the agent. We will also add support so that the `choose_action` function can handle either a single observation or a batch of observations.\n",
        "\n",
        "**Critically, this action function is totally general -- we will use this function for learning control algorithms for Cartpole, but it is applicable to other RL tasks, as well!**"
      ]
    },
    {
      "cell_type": "code",
      "execution_count": 8,
      "metadata": {
        "id": "E_vVZRr8Q4R_"
      },
      "outputs": [],
      "source": [
        "### Define the agent's action function ###\n",
        "\n",
        "# Function that takes observations as input, executes a forward pass through model, \n",
        "#   and outputs a sampled action.\n",
        "# Arguments:\n",
        "#   model: the network that defines our agent\n",
        "#   observation: observation(s) which is/are fed as input to the model\n",
        "#   single: flag as to whether we are handling a single observation or batch of\n",
        "#     observations, provided as an np.array\n",
        "# Returns:\n",
        "#   action: choice of agent action\n",
        "def choose_action(model, observation, single=True):\n",
        "    # add batch dimension to the observation if only a single example was provided\n",
        "    observation = np.expand_dims(observation, axis=0) if single else observation\n",
        "\n",
        "    '''TODO: feed the observations through the model to predict the log probabilities of each possible action.'''\n",
        "    logits = model.predict(observation) # TODO\n",
        "\n",
        "    '''TODO: Choose an action from the categorical distribution defined by the log \n",
        "       probabilities of each possible action.'''\n",
        "    action = tf.random.categorical(logits, num_samples=1) # TODO\n",
        "\n",
        "    action = action.numpy().flatten()\n",
        "\n",
        "    return action[0] if single else action"
      ]
    },
    {
      "cell_type": "markdown",
      "metadata": {
        "id": "_tR9uAWcTnkr"
      },
      "source": [
        "## 3.2 Define the agent's memory\n",
        "\n",
        "Now that we have instantiated the environment and defined the agent network architecture and action function, we are ready to move on to the next step in our RL workflow:\n",
        "1. **Initialize our environment and our agent**: here we will describe the different observations and actions the agent can make in the environemnt.\n",
        "2. **Define our agent's memory**: this will enable the agent to remember its past actions, observations, and rewards.\n",
        "3. **Define the learning algorithm**: this will be used to reinforce the agent's good behaviors and discourage bad behaviors.\n",
        "\n",
        "In reinforcement learning, training occurs alongside the agent's acting in the environment; an *episode* refers to a sequence of actions that ends in some terminal state, such as the pole falling down or the cart crashing. The agent will need to remember all of its observations and actions, such that once an episode ends, it can learn to \"reinforce\" the good actions and punish the undesirable actions via training. Our first step is to define a simple `Memory` buffer that contains the agent's observations, actions, and received rewards from a given episode. We will also add support to combine a list of `Memory` objects into a single `Memory`. This will be very useful for batching, which will help you accelerate training later on in the lab.\n",
        "\n",
        "**Once again, note the modularity of this memory buffer -- it can and will be applied to other RL tasks as well!**"
      ]
    },
    {
      "cell_type": "code",
      "execution_count": 10,
      "metadata": {
        "id": "8MM6JwXVQ4JG"
      },
      "outputs": [],
      "source": [
        "### Agent Memory ###\n",
        "\n",
        "class Memory:\n",
        "    def __init__(self): \n",
        "        self.clear()\n",
        "\n",
        "  # Resets/restarts the memory buffer\n",
        "    def clear(self): \n",
        "        self.observations = []\n",
        "        self.actions = []\n",
        "        self.rewards = []\n",
        "\n",
        "  # Add observations, actions, rewards to memory\n",
        "    def add_to_memory(self, new_observation, new_action, new_reward): \n",
        "        self.observations.append(new_observation)\n",
        "        \n",
        "        '''TODO: update the list of actions with new action'''\n",
        "        self.actions.append(new_action) # TODO\n",
        "        \n",
        "        '''TODO: update the list of rewards with new reward'''\n",
        "        self.rewards.append(new_reward) # TODO\n",
        "        \n",
        "\n",
        "    def __len__(self):\n",
        "        return len(self.actions)\n",
        "\n",
        "# Instantiate a single Memory buffer\n",
        "memory = Memory()"
      ]
    },
    {
      "cell_type": "markdown",
      "metadata": {
        "id": "D4YhtPaUVj5m"
      },
      "source": [
        "## 3.3 Reward function\n",
        "\n",
        "We're almost ready to begin the learning algorithm for our agent! The next step is to compute the rewards of our agent as it acts in the environment. Since we (and the agent) is uncertain about if and when the game or task will end (i.e., when the pole will fall), it is useful to emphasize getting rewards **now** rather than later in the future -- this is the idea of discounting. This is a similar concept to discounting money in the case of interest. Recall from lecture, we use reward discount to give more preference at getting rewards now rather than later in the future. The idea of discounting rewards is similar to discounting money in the case of interest.\n",
        "\n",
        "To compute the expected cumulative reward, known as the **return**, at a given timestep in a learning episode, we sum the discounted rewards expected at that time step $t$, within a learning episode, and projecting into the future. We define the return (cumulative reward) at a time step $t$, $R_{t}$ as:\n",
        "\n",
        ">$R_{t}=\\sum_{k=0}^\\infty\\gamma^kr_{t+k}$\n",
        "\n",
        "where  $0 < \\gamma < 1$ is the discount factor and $r_{t}$ is the reward at time step $t$, and the index $k$ increments projection into the future within a single learning episode. Intuitively, you can think of this function as depreciating any rewards received at later time steps, which will force the agent prioritize getting rewards now. Since we can't extend episodes to infinity, in practice the computation will be limited to the number of timesteps in an episode -- after that the reward is assumed to be zero.\n",
        "\n",
        "Take note of the form of this sum -- we'll have to be clever about how we implement this function. Specifically, we'll need to initialize an array of zeros, with length of the number of time steps, and fill it with the real discounted reward values as we loop through the rewards from the episode, which will have been saved in the agents memory. What we ultimately care about is which actions are better relative to other actions taken in that episode -- so, we'll normalize our computed rewards, using the mean and standard deviation of the rewards across the learning episode.\n",
        "\n",
        "We will use this definition of the reward function in both parts of the lab so make sure you have it executed!\n"
      ]
    },
    {
      "cell_type": "code",
      "execution_count": 11,
      "metadata": {
        "id": "5_Q2OFYtQ32X"
      },
      "outputs": [],
      "source": [
        "### Reward function ###\n",
        "\n",
        "# Helper function that normalizes an np.array x\n",
        "def normalize(x):\n",
        "    x -= np.mean(x)\n",
        "    x /= np.std(x)\n",
        "    return x.astype(np.float32)\n",
        "\n",
        "# Compute normalized, discounted, cumulative rewards (i.e., return)\n",
        "# Arguments:\n",
        "#   rewards: reward at timesteps in episode\n",
        "#   gamma: discounting factor\n",
        "# Returns:\n",
        "#   normalized discounted reward\n",
        "def discount_rewards(rewards, gamma=0.95): \n",
        "    discounted_rewards = np.zeros_like(rewards)\n",
        "    R = 0\n",
        "    for t in reversed(range(0, len(rewards))):\n",
        "        # update the total discounted reward\n",
        "        R = R * gamma + rewards[t]\n",
        "        discounted_rewards[t] = R\n",
        "      \n",
        "    return normalize(discounted_rewards)"
      ]
    },
    {
      "cell_type": "markdown",
      "metadata": {
        "id": "QzbY-mjGYcmt"
      },
      "source": [
        "## 3.4 Learning algorithm\n",
        "\n",
        "Now we can start to define the learing algorithm which will be used to reinforce good behaviors of the agent and discourage bad behaviours. In this lab, we will focus on *policy gradient* methods which aim to **maximize** the likelihood of actions that result in large rewards. Equivalently, this means that we want to **minimize** the negative likelihood of these same actions. We achieve this by simply **scaling** the probabilities by their associated rewards -- effectively amplifying the likelihood of actions that resujlt in large rewards.\n",
        "\n",
        "Since the log function is monotonically increasing, this means that minimizing **negative likelihood** is equivalent to minimizing **negative log-likelihood**.  Recall that we can easily compute the negative log-likelihood of a discrete action by evaluting its [softmax cross entropy](https://www.tensorflow.org/api_docs/python/tf/nn/sparse_softmax_cross_entropy_with_logits). Like in supervised learning, we can use stochastic gradient descent methods to achieve the desired minimization. \n",
        "\n",
        "Let's begin by defining the loss function."
      ]
    },
    {
      "cell_type": "code",
      "execution_count": 12,
      "metadata": {
        "id": "fsgZ3IDCY_Zn"
      },
      "outputs": [],
      "source": [
        "### Loss function ###\n",
        "\n",
        "# Arguments:\n",
        "#   logits: network's predictions for actions to take\n",
        "#   actions: the actions the agent took in an episode\n",
        "#   rewards: the rewards the agent received in an episode\n",
        "# Returns:\n",
        "#   loss\n",
        "def compute_loss(logits, actions, rewards): \n",
        "    '''TODO: complete the function call to compute the negative log probabilities'''\n",
        "    neg_logprob = tf.nn.sparse_softmax_cross_entropy_with_logits(\n",
        "        logits=logits, labels=actions) # TODO\n",
        "  \n",
        "    '''TODO: scale the negative log probability by the rewards'''\n",
        "    loss = tf.reduce_mean( neg_logprob * rewards ) # TODO\n",
        "    return loss"
      ]
    },
    {
      "cell_type": "markdown",
      "metadata": {
        "id": "Rr5vQ9fqbPpp"
      },
      "source": [
        "Now let's use the loss function to define a training step of our learning algorithm. This is a very generalizable definition which we will use "
      ]
    },
    {
      "cell_type": "code",
      "execution_count": 13,
      "metadata": {
        "id": "_50ada7nbZ7L"
      },
      "outputs": [],
      "source": [
        "### Training step (forward and backpropagation) ###\n",
        "\n",
        "def train_step(model, loss_function, optimizer, observations, actions, discounted_rewards, custom_fwd_fn=None):\n",
        "    with tf.GradientTape() as tape:\n",
        "        # Forward propagate through the agent network\n",
        "        if custom_fwd_fn is not None:\n",
        "            prediction = custom_fwd_fn(observations)\n",
        "        else: \n",
        "            prediction = model(observations)\n",
        "\n",
        "        '''TODO: call the compute_loss function to compute the loss'''\n",
        "        loss = loss_function(prediction, actions, discounted_rewards) # TODO\n",
        "\n",
        "    '''TODO: run backpropagation to minimize the loss using the tape.gradient method. \n",
        "             Unlike supervised learning, RL is *extremely* noisy, so you will benefit \n",
        "             from additionally clipping your gradients to avoid falling into \n",
        "             dangerous local minima. After computing your gradients try also clipping\n",
        "             by a global normalizer. Try different clipping values, usually clipping \n",
        "             between 0.5 and 5 provides reasonable results. '''\n",
        "    grads = tape.gradient(loss, model.trainable_variables) # TODO\n",
        "    \n",
        "    grads, _ = tf.clip_by_global_norm(grads, 2) # TODO\n",
        "    optimizer.apply_gradients(zip(grads, model.trainable_variables))"
      ]
    },
    {
      "cell_type": "markdown",
      "metadata": {
        "id": "XsjKXh6BcgjR"
      },
      "source": [
        "## 3.5 Run cartpole!\n",
        "\n",
        "Having had no prior knowledge of the environment, the agent will begin to learn how to balance the pole on the cart based only on the feedback received from the environment! Having defined how our agent can move, how it takes in new observations, and how it updates its state, we'll see how it gradually learns a policy of actions to optimize balancing the pole as long as possible. To do this, we'll track how the rewards evolve as a function of training -- how should the rewards change as training progresses?"
      ]
    },
    {
      "cell_type": "code",
      "execution_count": 14,
      "metadata": {
        "id": "-hZ7E6JOJ9Bn"
      },
      "outputs": [],
      "source": [
        "## Training parameters ##\n",
        "## Re-run this cell to restart training from scratch ##\n",
        "\n",
        "# TODO: Learning rate and optimizer\n",
        "learning_rate = 1e-3 # TODO\n",
        "\n",
        "optimizer = tf.keras.optimizers.Adam(learning_rate) # TODO\n",
        "\n",
        "# instantiate cartpole agent\n",
        "cartpole_model = create_cartpole_model()\n",
        "\n",
        "# to track our progress\n",
        "smoothed_reward = mdl.util.LossHistory(smoothing_factor=0.95)\n",
        "plotter = mdl.util.PeriodicPlotter(sec=2, xlabel='Iterations', ylabel='Rewards')"
      ]
    },
    {
      "cell_type": "code",
      "execution_count": 15,
      "metadata": {
        "id": "XmOzc2rrcn8Q",
        "scrolled": false,
        "outputId": "7f6d53c7-6b18-4283-d620-ebc483068c1a",
        "colab": {
          "base_uri": "https://localhost:8080/",
          "height": 541
        }
      },
      "outputs": [
        {
          "output_type": "display_data",
          "data": {
            "text/plain": [
              "<Figure size 432x288 with 1 Axes>"
            ],
            "image/png": "[encoded data removed]"
          },
          "metadata": {}
        },
        {
          "output_type": "display_data",
          "data": {
            "text/plain": [
              "<Figure size 432x288 with 1 Axes>"
            ],
            "image/png": "[encoded data removed]"
          },
          "metadata": {
            "needs_background": "light"
          }
        }
      ],
      "source": [
        "## Cartpole training! ##\n",
        "## Note: stoping and restarting this cell will pick up training where you\n",
        "#        left off. To restart training you need to rerun the cell above as \n",
        "#        well (to re-initialize the model and optimizer)\n",
        "\n",
        "if hasattr(tqdm, '_instances'): tqdm._instances.clear() # clear if it exists\n",
        "for i_episode in range(500):\n",
        "\n",
        "    plotter.plot(smoothed_reward.get())\n",
        "    # Restart the environment\n",
        "    observation = env.reset()\n",
        "    memory.clear()\n",
        "\n",
        "    while True:\n",
        "        # using our observation, choose an action and take it in the environment\n",
        "        action = choose_action(cartpole_model, observation)\n",
        "        next_observation, reward, done, info = env.step(action)\n",
        "        # add to memory\n",
        "        memory.add_to_memory(observation, action, reward)\n",
        "\n",
        "        # is the episode over? did you crash or do so well that you're done?\n",
        "        if done:\n",
        "            # determine total reward and keep a record of this\n",
        "            total_reward = sum(memory.rewards)\n",
        "            smoothed_reward.append(total_reward)\n",
        "          \n",
        "            # initiate training - remember we don't know anything about how the \n",
        "            #   agent is doing until it has crashed!\n",
        "            g = train_step(cartpole_model, compute_loss, optimizer, \n",
        "                       observations=np.vstack(memory.observations),\n",
        "                       actions=np.array(memory.actions),\n",
        "                       discounted_rewards = discount_rewards(memory.rewards))\n",
        "          \n",
        "            # reset the memory\n",
        "            memory.clear()\n",
        "            break\n",
        "        # update our observatons\n",
        "        observation = next_observation"
      ]
    },
    {
      "cell_type": "markdown",
      "metadata": {
        "id": "mkcUtGF1VE-K"
      },
      "source": [
        "To get a sense of how our agent did, we can save a video of the trained model working on balancing the pole. Realize that this is a brand new environment that the agent has not seen before!\n",
        "\n",
        "Let's display the saved video to watch how our agent did!\n"
      ]
    },
    {
      "cell_type": "code",
      "execution_count": 16,
      "metadata": {
        "id": "PAYBkv6Zbk0J",
        "scrolled": true,
        "outputId": "5c5e8fdd-bc3a-49b1-9416-3e49400f7ad3",
        "colab": {
          "base_uri": "https://localhost:8080/",
          "height": 439
        }
      },
      "outputs": [
        {
          "output_type": "stream",
          "name": "stdout",
          "text": [
            "Successfully saved 438 frames into CartPole-v1.mp4!\n"
          ]
        },
        {
          "output_type": "execute_result",
          "data": {
            "text/plain": [
              "<IPython.core.display.HTML object>"
            ],
            "text/html": [
              "\n",
              "        <video controls >\n",
              "            <source src=\"data:video/mp4;base64,AAAAIGZ0eXBpc29tAAACAGlzb21pc28yYXZjMW1wNDEAAAAIZnJlZQAAe5xtZGF0AAACrQYF//+p3EXpvebZSLeWLNgg2SPu73gyNjQgLSBjb3JlIDE1MiByMjg1NCBlOWE1OTAzIC0gSC4yNjQvTVBFRy00IEFWQyBjb2RlYyAtIENvcHlsZWZ0IDIwMDMtMjAxNyAtIGh0dHA6Ly93d3cudmlkZW9sYW4ub3JnL3gyNjQuaHRtbCAtIG9wdGlvbnM6IGNhYmFjPTEgcmVmPTMgZGVibG9jaz0xOjA6MCBhbmFseXNlPTB4MToweDExMSBtZT1oZXggc3VibWU9NyBwc3k9MSBwc3lfcmQ9MS4wMDowLjAwIG1peGVkX3JlZj0xIG1lX3JhbmdlPTE2IGNocm9tYV9tZT0xIHRyZWxsaXM9MSA4eDhkY3Q9MCBjcW09MCBkZWFkem9uZT0yMSwxMSBmYXN0X3Bza2lwPTEgY2hyb21hX3FwX29mZnNldD00IHRocmVhZHM9MyBsb29rYWhlYWRfdGhyZWFkcz0xIHNsaWNlZF90aHJlYWRzPTAgbnI9MCBkZWNpbWF0ZT0xIGludGVybGFjZWQ9MCBibHVyYXlfY29tcGF0PTAgY29uc3RyYWluZWRfaW50cmE9MCBiZnJhbWVzPTMgYl9weXJhbWlkPTIgYl9hZGFwdD0xIGJfYmlhcz0wIGRpcmVjdD0xIHdlaWdodGI9MSBvcGVuX2dvcD0wIHdlaWdodHA9MiBrZXlpbnQ9MjUwIGtleWludF9taW49MjUgc2NlbmVjdXQ9NDAgaW50cmFfcmVmcmVzaD0wIHJjX2xvb2thaGVhZD00MCByYz1jcmYgbWJ0cmVlPTEgY3JmPTIzLjAgcWNvbXA9MC42MCBxcG1pbj0wIHFwbWF4PTY5IHFwc3RlcD00IGlwX3JhdGlvPTEuNDAgYXE9MToxLjAwAIAAAAJBZYiEADv//vb8/AptFl7/LZ/+iL/lb+9P2a61uFE7M7QacwPQAAADAAADAAADAAAjQ+qT+e/gphQJpan+7xpsKAAAAwAAAwAApWgAAQZcHCmGj4LeQfpCY0NmiVbQpv/ONtwgJmiYKi6quGNBQKC/vkg1tTDw3mYtWv+1Ki3xbUT/fGUe5efOihUt0+jokPg8327cBm/nkoTKd7fFDjO0TezUL5FiU7oyiFK4J1RCsghm0A0wGRsL2L34lXjuze9AGTRaiheL0Ad79g8RTdf3TXlx0YPIJnK4s9YbvqzIk85q+A2q1+dPsvVvue1fd0aIbELJfWrto7rrANPXoTy+6WM5S7B+u4SVWypG1/BhHU98oRnzhb+XSSUuJQHtjR1Zy399kACnlugq7hQHuRcgtqAQAV1HqS5ilxPVeZgVHGCCQpooaBgPUhhFlyWiKoMoTzaj3pLdy1oFqOxxuXoZfjBuQ19j2b6p5xXdku/k23QaOJw00VelOu6IyygV+5WZwiO1PKohMmY7ypZcNSf3nzvxQwVZU2P1ufhTJ6WPLbAaokrI5lL7LUFXlbs4WmUaUvby2dm8WS4YJxmRcYLZkS93u0BudJE1YtngA+1knTWWWQuFrD0ropTsyt+7YvL4rwRFNBCCikBhZHRA2aDWAhJv+Hab+11p9zXEoXorw/ZewABr7NkEAArCSRWRVCsj47DiA3np+JpiA/1QHFNG8DGhYn5BcSRDguUyQKkuoz9bdHaGAAADAAADAAADAACfgQAAAJFBmiRsQ7/+qZYAAAjC5sAJ8+2FuIubxqrnhQvP7J9FJ2b/bLimBDIT31E4oX3X5LRO0BxeiC+M+By+C8ekbd40NssTmlfmMFc40b6tRnkA7J3GlFSikJoXI58Zzh/4bpJ5AEx+UUq+hsMi9vzZCTlkQWskgIgbeQK4MPOijaR8Ui+2SNIJVjq+Sn7UP/yeJbCOAAAAV0GeQniF/wAACoMo13XCNw4meduZWGCBs7WAAcbfAftWA/e9j95KZ+Z4xA10GR+uS7W2WJqaJmwcfstvxovcsBmqEIPGGh79FFJ3OOn4tIXZ4g95vVt24QAAAC4BnmF0Qr8AAAWLoR+R4o9cJQeI6YEFB1+ifiAYMgAFvaZOf1gICdpqvesKFd+6AAAAKgGeY2pCvwAABYmtvS9t0TdqQq2JQ4lCSgD1NK8pIQAmvv2MexWWn3OLbwAAAKRBmmZJqEFomUwU8O/+qZYAAAjBxqIBNK71S7y/zMobu64gm7gzn1Ey0ffJMfs+yX/ZibaMszX5AAmn3/hXOor+gSXGcvWPDRqjaXqbWm697cnEkparAqIc/uChB3qiAIBUtWQoN1EC3flAM2MOOIuKH0qNC8VXAUzBRbF7lL1MP0QC3eN5/+Q+Si7+q2MWc0oYpUw07Xrf1C1h1uAwel1KuEfExwAAACUBnoVqQr8AAA4oP5QZDUIzGnsmRDjjYvQlrwOHbqnVI3TgSLBhAAAAW0GaiknhClJlMCHf/qmWAAAIwcaiATX4aVx95KnVqD1N6Fyarq2f7RNT1tFd+qxd83R5PM7P17xHatR7r33HX+sOJF0KOivScQ6VTyIiP4sImlp/exjzsqmejHEAAABAQZ6oRTRML/8AAAqFAAy+LV1FBiF2Na6Sykka8HogAF1HZjrFzJdxfmhwcmbSEwfJl8u8j9ixxOUMCaD3dG5bbgAAADcBnsd0Qr8AAAMCCxGRs3wT+EKseLAfATmkKpk3KAFvEjBR7o7NUBfxQiDLW+7/0QKOy1S1OvLgAAAALwGeyWpCvwAADis68rvM1/baGxqiDQMD7YgA5LcYK3T/gBxbxZvKt3yl7LfmbztnAAAAV0GazkmoQWiZTAh3//6plgAACMFf2veuMwtUc5yPvqzhKGYALhVNgF9fuQRS6/z+vImUd+fbkjt1szqrveTQGpEYHhUvCusMhdmHshi9J1AGJRxZMG7MLgAAADxBnuxFESwv/wAACoYxxgyF2gAJnDFFI0Yw0ne4/P5nQqqHPil9VaKaixtBfCpatzMkjCQzvZEBfeBartAAAAA6AZ8LdEK/AAAOJxIIEcd4KOVivLQCHGBYHjXmNAELoC2IKwf7rdixbaMoV7GnnnuxSTsK4umuINoFbQAAACwBnw1qQr8AAA4rOmTD1/7rUFAATrPcJG6jP+QvSOjLyLDmkjhaUZzF6qFswQAAAE9BmxJJqEFsmUwId//+qZYAAAjCiseQsGhHVXTGwABdg9FhVjX53kS/uaM/sHXMuRbXYiCBrEOfEOIn7nwUrcNgN9c2hho3fqx6YpPpWcfJAAAAQEGfMEUVLC//AAAKhP+uVBfgYzGFgKQzIAC+ZUoPHuP2dnmxcuucOrn8d8D7WQ433vuVh325lAp90n/1A6lrR4QAAAAkAZ9PdEK/AAADAEldiwwRACW3Y5CVlbOZrDfz+ZufRNmophXwAAAARgGfUWpCvwAADig5vgbf0ACZRgseX6L+QrMWIn8za3cN0k58cdolYDOfiOezjeoQFMhbwiKf1WKaZkPQAS2DwzANMOqtbBkAAABqQZtWSahBbJlMCHf//qmWAAAIx8nb1t+Z7AoaoAJeZZYQ87jXebPM0c01y5bb62nG58nz7gfMAztf8TmZsvqxYKyq2AS32Wv5V9ESRsCjDDjawm9m74mYkBfXocm14LPnnAzWiqDPWdESTgAAACFBn3RFFSwv/wAACoKSvXjDixp76VVDwk3s/eWby0Kq62YAAAAtAZ+TdEK/AAAOJxLxqasJYeVAB7K7sCeKdap8ZPz+XhGLqmyanj3axs6aautnAAAAFAGflWpCvwAADis6jGZSK0kOAEDAAAAAQkGbmkmoQWyZTAh3//6plgAAAwFBBcJtPtpfy13FmoVM4vNkjlfXssho2vFBHizG7q6e1ADfniYfLI4uXfMGQBCaUQAAACFBn7hFFSwv/wAACoWf6czToxJvDD61vFRLPfxxSCBgdvUAAAAoAZ/XdEK/AAAOLF/aEFcmn1Z1uo8MAJpIZHdztfwHI2GkmaGrBqOb0AAAABEBn9lqQr8AAA4oPlpXrwAbMQAAAD5Bm91JqEFsmUwId//+qZYAAAjBX9rsUXetPjmkrmxdaifkdBDPSH4avPn9kD4i00hGNI6IfkO0cu1TeHremAAAADdBn/tFFSwr/wAADi1b3ZGT7/i7/leSrhvJACWRiJVCxJhYlmhhpZ/MeRR2K4mA244LQxs1sr5XAAAAMAGeHGpCvwAADfybLeekNfqiZpDoC4zruJHs6+kAIVNIu40x2JjMcZLHf+XhLAq3oQAAADhBmgFJqEFsmUwId//+qZYAAAjBX9s8+r1qrENeWO1ZVlAUSIsgsVNa1BkmuULfSl7Dep1vqAhzIAAAAChBnj9FFSwv/wAACoMnN3TN17og16/6DVcA3hN9ACa/c9cbEJXJ4ikLAAAAUgGeXnRCvwAADiQkuziAAWrYBrWa/VnA0f5ShBYwSFL11ca7kn+Y00blPTXLkkQ+XnbWDg9T8ZgY+wSaHlodGhfFiVjhCy5UwrMUpxpmmGT263sAAAA6AZ5AakK/AAAOImVvpNACyZT5XGSbnGl8/8yeg6XFrLEGBvocR0u1CW4sOrsdmkW8dOujTIiqO/h64AAAAINBmkRJqEFsmUwId//+qZYAAAjDg72qoAvxoW0K6A46Wp9Qb6JYcYnchyX+QgUTSdnXfyyABAK83M+NsTT0H7zJ4QpbJ/FJKpHCk4qj/IzIx2cCzBOzeCC9SBQh/2TYF240JfUyLYiqKvqp+7vYXKsV3YXOgjOkT5QbXW/xhpWYPTVPRQAAADhBnmJFFSwr/wAADidspIsdN6tNVMrBCOkAH3syPBPE+U+wYdyloODrIyJwCe4EO2TfSNuZwHLkLAAAADIBnoNqQr8AAA4iSJWAALoLSY+Yk2wN5NFhk3x2xQ7rFfcBBMnes2P7bpzRDzzk1ou+kQAAAEtBmohJqEFsmUwId//+qZYAAAjNZeNtWiKWTcC/MDzuiuHyrbI8yl1WyXlg5U/XAFh9O9DeSpjt+5/xIy2goFYhJ0PwUyA+VTBoWIEAAAA8QZ6mRRUsL/8AAAp82gbf9sp0dwC5y3TuAAiD0CO9ohgP6fKJG3//rtLfQNGDsMEUAMWGmaz6D11rUdcrAAAAHwGexXRCvwAADixf2hJx2LS0aoC9ZnkZkL2RBdUxhT8AAAAXAZ7HakK/AAAOKCt0HC6CFY8wBpWv7VgAAAB1QZrMSahBbJlMCHf//qmWAAAIwV+2Ft2AVVwvYIXTPVN2Wb4yAOWhErjuMJ0Sub6v+6cPrmIaNxWvHuWC6ZhgB2/wxlNQW/JLhxEiWcz86iHlL0KkK1C7WkRtWpScXtUOtH58bk3faJ9w7WrP87tqBHhT8OHQAAAAKkGe6kUVLC//AAAKfNoG3/bKdHcAuhLff+CZYoziLLgQ6s4kM/sYTKjPBQAAAB0Bnwl0Qr8AAA4sX9oRZUj+Dk86B1mqaNGMvHxCwAAAAB0BnwtqQr8AAA4oK20OSXIb7iU8Frm6B2EPIlgQsAAAAGpBmxBJqEFsmUwId//+qZYAAAjBX7w1DiATQ3IGNdzeSEP/4jFF0l1fJgvTR0QvEvBZP5byBDPIRQGtNzfiUm3nd8TCmGxOPGNsLPHeK62vlQbGmD+l/f1GDNiEu8KC5DJ/6F+Fc33KIDTBAAAALEGfLkUVLC//AAAKhjHBVUqDd6SnTCZyEQWF8Z+BrEDaXjJtwVDhNjYiTohZAAAAHgGfTXRCvwAADixf2hFlSP4OTzoDMIV+WpDvcBzPgQAAAC4Bn09qQr8AAA4rM+KSrtAB7/N+Xr/5j5iwVskjDnBBFVWjQu5KMoVyJrOVXT3oAAAAQ0GbVEmoQWyZTAh3//6plgAACMKKuCSp8broEv92QZGoSUhZA1zAAgS593/8YHIPXJJ1zvHyC9sfy4P78POXEd09IpQAAAAyQZ9yRRUsL/8AAAqDG2zd013Yfd1KADZ6YGUAHL9ng9cTTnw0nawdId5iRzZ2JBtJ0hcAAAAoAZ+RdEK/AAAOLEs8MX6Ng/bQ+CuEAJpIZHgn3viP5E8E+yzWt+BdwAAAACsBn5NqQr8AAAMCC7H/YgBNM1XWmDEH/4GqfmiLBqFjlcbUs2Luv+Jo4h0wAAAAUkGbmEmoQWyZTAh3//6plgAACMFfv48El5azMglNHx0eXJ5NVigBNf7hvjtGNr2HvoLbysXMNtjK6A7s6ppsZXgS/w4O3t1jg7/rN7e7Hu/Q4dEAAABSQZ+2RRUsL/8AAAqFn+NSWoD35Vn4eYKV7oATSVo7fjufexO84NMGY81dEijjYMkpxfBWDCmLwypd8Qp5zlb/Qf0tkmYVTQP1tmV0GR+bmKXvBAAAADgBn9V0Qr8AAA4nDEDmQADiO0hkP/LzyHEzZPryywLwYiorgXIdDHsoIIX9Mx23AqIc4pCBF0g5CwAAADQBn9dqQr8AAA4oPlpXzOMGyHnqv5XrIGdwL4gA5ot9HJFVv+AVkauIVFUGdsflFvf7zvf5AAAAYkGb3EmoQWyZTAhv//6nhAAAENPbuABPnQK2FsKaP8f/09KI7zBsyPdxlGAznpzVQGfMlxd89ZiRvXdYcyXqLpDndut31yEfPMS9pnCxmz9hxu2h9vK1WB5o/JytmI57/lmAAAAAR0Gf+kUVLC//AAAKPQBrg8VdoChHGPI7QxgNQAfuhmvmY3h+GX3QtmASeVoIqm8wMPdN68ir+jIKLSOI2dEg0j7uaTUZVC4JAAAALwGeGXRCvwAAAwIK6zUEgNXkaaurB8AATrPZPPAfopiDOUIO1oug2Q+qX52tf8WAAAAAIAGeG2pCvwAADdEtAjW++Cgfn2z4t1/Q36hnVsGZ/mLBAAAAKkGaHUmoQWyZTAh3//6plgAAAwNRUasvsxcsEj19xMlVGPpUjwC5ELwGBQAAAG1BmiFJ4QpSZTAh3/6plgAACMFf0E2kQbrcwb3RmINN5R92lch546/s5dD0CpIO8R+Mlqh2uTvrChWy+8CAMBYZPsOuZL0LCuk3ji86IKV+TPnLm4Cv3PVL6qS/lUsQN4mNA8Xo/jdUEB5B4/GAAAAAQ0GeX0U0TC//AAAKRB4ABdIRH5CE/0cYCXPnhb6CUpNZ3w7oSy2BLWLx9lRcWd35xWSj7TV79UKQz080eYz8TNZmJ8AAAAAqAZ5+dEK/AAAOLFP4UpgUAiiNV6l032Qoasb6useiNhYlQ3PpqLcwzXvRAAAAOQGeYGpCvwAADigremNQhAmcc9dPlTx3GZiNvH7AAnHVIrjcp/g85gf+zYEkG4XTp2f+DXdjeJMbMAAAAFhBmmVJqEFomUwId//+qZYAAAjBX7+aOAAsFd3cMv+TCt867xm/4mKSVE90nyEXj/nanX4k6ndo4EHcjWCxbWvPy+D2rB5RCfitKJYaI+Qvonw4vp9U+xpVAAAAJkGeg0URLC//AAAKhPr0qI/jKwMcCO5hshRD6bHvsf0AZzCOjZCwAAAAIQGeonRCvwAABWcsqnRnRRF7Q3dOYIbX/P5XLdTijTsynwAAACMBnqRqQr8AAA3b3UALYXd07f/89tNvlLLscK2y+IGZ2/bVgQAAAD5BmqlJqEFsmUwId//+qZYAAAMABnsWU1aX9Dy/6G4J8cHxTB2QAsWeJehfnNPnR57ryxJ0P2oeWUsXfNnOgQAAADpBnsdFFSwv/wAAAwAHl+0JX0T1GBn2yqgBCnqTX6iDnRCqN4zebee53860IBv7eJPSb7CMpo0K8zSBAAAAGgGe5nRCvwAAAwAKgmf8dKn6HGay4vrctN6AAAAAEgGe6GpCvwAAAwABfq2sI1wpoAAAAJ5Bmu1JqEFsmUwId//+qZYAAAjLRgTVvHAAdE0LXyvHy6npnaCwelgowcJEc6pE+hGFr4S/HB3r5nRMgD2RBtbd9B9o66O4GbCKsmCTNmq3Gvu3X4Ig0rnlcf4BBT6p6rPXfRIzyNyHZSkO/LSEUO5+rlcOOVWhnghRSUMDWlziMffdeGPlYiElNRHlitlxfyyhUqgvlv2oaa2kbAnqbwAAACxBnwtFFSwv/wAACoMbbKJ002GA9kHKRLxfxACyeUJl0Sa0mlff/3n+QRPnwAAAABMBnyp0Qr8AAA4nCLvsH1ah6DqQAAAAKAGfLGpCvwAAAwAD+AdtcPSADmhrPgPP7/rc0F/YLZOpOUfbXdnRmGkAAAB7QZsxSahBbJlMCHf//qmWAAAIwV+/mjgAbZBpXIcoG/Ww5K1/b4z6NrCYpDw/iTl4CBPXb3sUBjQzmA0C1fMXvoWEcMa2Yf8OHD1lvGJL4IKiXiuILXaLn654c2d7/QO8O56EwpBbRfIEP8nWDxM3TLdlDRhTf2zsT74HAAAAOUGfT0UVLC//AAAKgxtqOrQAlqwzTCi9f/+m7MNT4D80MhZpjL9ik/xlfiIC0SiVBjJ6wjJCcGz/DwAAABwBn250Qr8AAA4nCLqB0+X6hT53/G8X2iIEgsUkAAAAHQGfcGpCvwAABWWtukY7ZLeu/Mr71G0L3fTtYW6YAAAAKkGbdUmoQWyZTAh3//6plgAAAwFC99WdtKOCxcimU0qOtIIUqRkpfPsF5QAAAEFBn5NFFSwv/wAAAwF+D0K/jZh+RN5v4KixsmbUojAAIP1htez6kaf3xfV+T2E8Lvi9xZTBBCzt5Y+zJYbLq5HviwAAACABn7J0Qr8AAAMB+/g61KKiZSMtOL9KB6AbnoYwS/tvQAAAAB8Bn7RqQr8AAAMAxEL+/L7YvR4ZAKBWKHta8bePv6QtAAAAZEGbuUmoQWyZTAh3//6plgAACMFfv48EOHgQActxT9dSx2P/j2aOuvOytLdf6VH0T69sW4vVbgAPOhutO6JldAB8Rb7i/636t3eYhSinHEju3QY/K8elaY18RLeZ/TU76QdLVoAAAABUQZ/XRRUsL/8AAAqE+wxQAEYGkjp5DqR/n3b6U+1HPob7qa3y2UJLDnyld539UDtjkbijiv9Jgjd4frvuJEtCqD/CgPxzg1BQUPRmF5L4Yzw3G1t7AAAAPAGf9nRCvwAADdSUOfROxpPGhxh2SrmvMI+5U+GiEAJbCoaZXrPYXlhDiVqntb+6+X9ZwCbDFvodzqFrgwAAACoBn/hqQr8AAA4rM+M2WVXD3XhnA8it27gv++AATt3U36Fzdm/jRClkpeAAAABTQZv9SahBbJlMCHf//qmWAAAIhKLx9f76sf7lHEq4uk3KIJD4zw5xNdWo0DgADRuVPRwJv1PwFqlp3os2CHI3WeyHVhq8qq26X36us1mEPe5QdoEAAAA3QZ4bRRUsL/8AAAo9AGrXgPKCkAH88aQZIS5z5MQgw1LlX//G/Fch3qEJUorRf+TR4RfQGW7lQAAAAB0Bnjp0Qr8AAAVmIrAuNaHD0fU5gvMYURPxLbRt6QAAABYBnjxqQr8AAA3TtE1abjWTMfx0dELbAAAAgEGaIEmoQWyZTAh3//6plgAACMIyRbH93XIxEA09+OCWkF4j////KUe50T73YyDDqQqA041RMqjyCMZBG/HxCvd5iIdkHsb5F4wn5m1nwKdbur4ZmSTNMX5zDQbrRHvu2Vu5PU5HwW4PCZONKRz/1uZLIQ8MV7hOd19RA1GbH4FiAAAAP0GeXkUVLCv/AAAOKCY9SEgAIuCsxEmPnP0K5Sstx0jzuBg2h0MY6CdmZy3jWIDUtIot/eCpDdqHZYjuPxW29AAAABUBnn9qQr8AAA4tfjA9g+1RcttA+MEAAABYQZpjSahBbJlMCHf//qmWAAAIgcaiATR/gNMf/HUAw/UoTtA8lnAAKYrh+I2v1s5+0TDdKR/3ClLQYHcznxf3XFNql5s8j7JXDG1dguZqF/j5prZm7ReFiAAAAEFBnoFFFSwr/wAABWbD8ZrMn5z2Eqj8qHjwVTeu+ABcWSh6+eGuTRLn/s8ZXnwxlX48u23l1dCh/mYyvDkc28429QAAADYBnqJqQr8AAAVmw/GazNc6QA2wsX4VaDd+q7TX5KYvgXTvi5BxeXmaUGf+eQxcQNxNdVKwyY0AAAA8QZqnSahBbJlMCHf//qmWAAAIwV++MmlKEkQIFNadrcFHZ3wWN51Yo2K76XAzxjFENlM7+/xkZZ5NMnaBAAAAMEGexUUVLC//AAAKgxtqLbSeJKOOu4vxAC3j0wDIUjwN7nSM9ldI2B3wXOU8idbwQQAAAB4BnuR0Qr8AAA4sU/pNzr6xZCHpM63RHMb7DMMeNcEAAAAUAZ7makK/AAADAEl2Pxf98XA/ErEAAACEQZrrSahBbJlMCHf//qmWAAAIhKLx9ascAAO0udQhnW37B/b7H0mhu0y0nVjJTfcoZ83UL87n9O6WaEwkBgYekRdlZCAbe8fKA1jgIQZGOSQP6v+7lLqB/J1c6XkSVXZET5Rj/OpfZuBlW4bdQLqxzoCI8qDptlnv4Jajsynx0YxlCHfjAAAARUGfCUUVLC//AAAKOyjXCO6toj3ymncsIBA+FCYNJ5mXen/kNyA64JBryNmX/zqQ8u/CBURF631laMO8XLAuVSvBAIbBwAAAADkBnyh0Qr8AAA3QBvKW6PUvZweVL0LAoURYavHp0pJ7KyzAmIIwgBAAWRFO7TWBJJUHG8/9XKh6+9EAAAA3AZ8qakK/AAAFZsPxSVdoAcFqCKknvqf/4U6h6GsvC16xoL0My9rvnAOENufR5UpSJJ1F3QQnwAAAAIpBmy9JqEFsmUwId//+qZYAAAjPyOohyP93QwEj22ftsBBxVfXpV4jigPlHcDKbP0SK4oLWz5mquSQQeCal9LgYmZvO7nTxoXI7jMBUZWlzi0YGc5fzfN7uWB21DtsdjZudA7KV0NOE8/ihAeBfVrk4S4HfnM4Xl2qmz0d4kjf4w04gt/CjqEhe+LAAAAAdQZ9NRRUsL/8AAAqDHzdhv6B/JwWxdWaYjDvYlPkAAAAZAZ9sdEK/AAAOJwi6bkxDLJj9TlIfkScVBQAAABEBn25qQr8AAA3RKyCCvI5NwQAAAGlBm3NJqEFsmUwId//+qZYAAAiBYFGIA5l0Avt90uZeeIAb/wbCcAV/X0zlW1Tj4iqPAbedgbjcc1pHDoHz4cpRqWgEbr+0PTbqdOxbkyrP6Ea9HYz2loXe/yujxBnG8K4H2ht/jfQSpboAAABJQZ+RRRUsL/8AAAo7JRKfQqgAgHP3JtAaBg/aU3QuzRm5S6qO2s4jbLLXnYFz3Uy7DtRM93M7FibBF6hcXoPWWUAobOg4f3yO4AAAADUBn7B0Qr8AAA3biQAlkV3raucpqY8/mSZEtECu9Kf671SvWnBnX9QMYLcZKIgS1vhzo0bFgQAAACUBn7JqQr8AAAVBtXgjywQACZ2J80f/oGlixf0Iwwot6KyLHguAAAAATEGbt0moQWyZTAh3//6plgAACIL0G2j/99Xb35hLklZs7xSksakjmVzc5nQpSjPQ2U91ZeLty33WlBggwW8Ta5C3ZVW/vesf6olmAaQAAAAuQZ/VRRUsL/8AAAo9AAt+fEyIqEAIFx5oIaXDVVv1/P5eDYlFI5gpYQeNm9CifQAAACoBn/R0Qr8AAAMB8OJA7bJf/h0jV5aAx147R2/Y750LZgu9Qs2EdqWE+EAAAAAtAZ/2akK/AAAN0Ss5wEwwz9VuhACW3W7SK4rWN2rC3lvLdurlvqWTZwLoS1h5AAAAVkGb+0moQWyZTAh3//6plgAACIFf2uxrCqZVjfEqPp6oAJVbhhhXn+yLs93//n9eeaFy4XReeaNFma3+ErB++WDCpMBjqNmOdkeiX1HjgNWw2V1O0LKBAAAAKkGeGUUVLC//AAAKPP+uVBfgJeM38n4c3ZEcMKfPAC69mRuAv6IbpX/ELAAAABgBnjh0Qr8AAAMACjpynasGWwgNlpEvxYEAAAAYAZ46akK/AAAN07PIB7yLsV5wQr+6G4E+AAAAfEGaP0moQWyZTAh3//6plgAACIV0t3aoAv9rZPXcBxmrgjHiF82fQ76J+nukMBerIPLkaa1HYWXYzm/q+X8ywN3q0t+zk0oEINRPqp/JsONtFqODwFSBHCIUQA1TGMQHayOrFsqR+Y98nWlUIP1+EMH/OH86WF5PtBz0uOEAAAAhQZ5dRRUsL/8AAAo7J7OtQ5IA+5Oo3RF4iKlO39e6h2FRAAAAGQGefHRCvwAADdAG1NU1YZ/BXVwmvJAQ3BAAAAApAZ5+akK/AAADAAP4FLJafAwAalGPar+qd3MFc2bf/Pt2Iz7ifW6RfHAAAABeQZpjSahBbJlMCHf//qmWAAAIgcaiAK38NK43LZX1Pw//+rYa5LywmS0ajGC+9oLDe+8CSSGfsT4QsqbdBOVNi/RC6/qANk/sAlpgEw9uie83iQIeBV2lnMzzjxzKgQAAADhBnoFFFSwv/wAACjsoGZaM4Kugx0AGouBlVbRTbhofnP55najEnqzgOUc4scPqRRByHXEREIi44AAAACkBnqB0Qr8AAA3UlDoSW3OTpW2pQACZRfXmwqlBKmJBxh/PHgAhMNSyvwAAAD4BnqJqQr8AAAMB/GNov/NRBGAD9uwTPVO+GaXjiT+V5MMucR3P+DG2/TE5mhpNZrlgo0jxDs4UYOrVphhP2gAAAGVBmqdJqEFsmUwId//+qZYAAAiGBocrmEiM0S+tkT+r1ESGXDne1IDts8R4eKNbQAce2CZi1H/shAbmJR67M91Ft+7g3IU0z6Va5UUCCbmTiNFa0Hc5YWwP5eF7o+++4k+6bpjKgQAAAC9BnsVFFSwv/wAACj2f6VoM9eZWJ9XwruXYcxMZxOlAB/c7CgiuOhKqoIx8bv9//QAAAB0BnuR0Qr8AAA3QBlneHCIn3qKW2eJvi6Gw/+GWfQAAABYBnuZqQr8AAA3RK9pXsLByqv+R7vzBAAAAMkGa60moQWyZTAh3//6plgAACIFf2uxRd60+OfSZQAS5GzlLQmxdL2K5VlbHeIcH72HHAAAAPUGfCUUVLC//AAAKO0sQA3NajHRAATb+Y2labf6z94HDwELS0umiwroKaHQpxNhoqiY9ZJUKi8GxV9gwDAgAAAAvAZ8odEK/AAAN0AahgiAEsjFqfQGaRp9LwAkuq90Sopz7OYloAKUYneoqMKfUQ8EAAAAsAZ8qakK/AAAN0SvaUFnOzvlFAAJndkmEgjcPoVnPP55ahGjrM5/+X5EQZUAAAABiQZsvSahBbJlMCHf//qmWAAADACyitKNkZgVROfAQB/fewLWqMYHKNi2/Shk/pQxZk9GA91PSXSdExpM/d9MmN/GDs+596/LLfb+w3jRT1uvhLe3Tl9PHR4vhkoB2/srGqOIAAAA6QZ9NRRUsL/8AAAoa5h8VDwfkzxwzR1pNWIzS2UvwUyFjMoT0GoAATvd74AMrtyq1nuqh/8jkQ0uXHQAAADcBn2x0Qr8AAA3LccpAABdBb6egT7+ZPDM52eTr2B3dEcHA5l64wyBCWee5965IfEVys7piNcnHAAAAOwGfbmpCvwAADdEr2le6XRWDMbOqgBebuAEBn/ls3Ct1DWhh7Di9mj7jN0gyWPed7ENOyyvm9EUNgPSBAAAAYkGbc0moQWyZTAh3//6plgAACIb07rJiAHGQEhBpBoOtCucPpYQkV866APuHBcSncBUbXexeKizOgB7zkIxHTG4Id5mI5yhjxwpf/RB07dO7CrThtq9vFMdiUwb+0e9iolz4AAAAJUGfkUUVLC//AAAKPP+ubTOOcLViiA/wjAOmzXupOYa9xTs/m/4AAAAWAZ+wdEK/AAADAfviZMlMv8ByCJOHwQAAAB8Bn7JqQr8AAA3QYKXZ+4P4K7LpgZOYQ+agrgIY9zGBAAAAMkGbt0moQWyZTAh3//6plgAACIKKx61DAkBHw6xADkTBK7NwsettafeTBLhR43H+c0UkAAAAGkGf1UUVLC//AAAKPQAM08XJ1at9VNj4NuLvAAAAFgGf9HRCvwAAAwH74mTJS/cIHG8M7cAAAAAWAZ/2akK/AAAN0SvaV7pdE7M2MplCbwAAAExBm/tJqEFsmUwId//+qZYAAAiEoqPwABGGoocCKs7pGIFN/pEr4Aboc2OwuX7ylhe9bA1k9Swuu+lTJl50tymMguq2wPOI1xnyEYiZAAAAMUGeGUUVLC//AAAKOyc3dM2T7dxFosYT+p0ACIXoITLjTwxYpuEZCmu9Qu3/KhZfBtwAAABGAZ44dEK/AAAN0AYHl6ABONacCNvV3LoQfn82FsaaHRSsSRtmE1VG3lqy5nmpUQPb39/xeTSRCLYJmltW7HBIEIJstBfbFwAAABkBnjpqQr8AAAMB/GYuhuGbdrAnZjjxw5kgAAAAfUGaP0moQWyZTAh3//6plgAACIL0c/RIArVJW0K6A46pnmQb6JbCTj/Bgf6SH+fnJIfn5qBXcnKXmKq/8w936TvcgY1rp/KDae4tUDPRHpQFAZEUl7RkjQKUykbEBvJ+8awhIROYgSNpWwshyj9KWHj7segV5v5vTsbEXZl9AAAAIkGeXUUVLC//AAAKPZ/pzNO3TuHRU4Y2Nvb1AkBjRbT5tqkAAAAdAZ58dEK/AAAN0ActCmV+4bUzFSyYhdhR9itPJ/wAAAAWAZ5+akK/AAAN0SvaV687V1XEhMjkgAAAAGlBmmNJqEFsmUwId//+qZYAAAiBX861IkTz6BJGPV6Km28r2Q7bvoWQ67gBYsmcs8AL1mhdHpbxerBRcAYRMkBp7yef/OBI6bPtWfikYloo2UFzSvIx2+bytkjiFm3Pk5P4+eruZvqKhdkAAAA8QZ6BRRUsL/8AAAo8+vSjls3ble/iAEHYgZVW0f4tRTK267AGWuNw3T9ucCzTTD61DHhRCfBPw/DF/ZSAAAAANAGeoHRCvwAAAwH74ZZKEe4jbIAB+KVdcl4x3/4AglW6C7b+D69XQ5JlQeLosEz1VQiMMjEAAABJAZ6iakK/AAANyetCTd4gAE7d1N+hc3nmaaubgcBVWT5myAO1ulBPwIOncZdzXLCABSFNP1U8+VPmnc7qKBdJJBxjJLTz9vURUAAAAIpBmqdJqEFsmUwId//+qZYAAAiPVvwW71AHLW//CNeJOqZMzbnDat/23U0V3/wMZjuSPc2gAxlUXl9cbTv52YG5INL2N9cRqePzwvtK0Z6RtsFsUSIrLUIOrkLe35VTcjM1FbVM1tBUxZS1nL7fW+cqzLYIfafxJovSKgMBl8/gS7UNEgILj3NpQQcAAAAhQZ7FRRUsL/8AAAoz3GBEFAHer7AFHk80uk/Q4/Jxiq8dAAAAGQGe5HRCvwAAAwH74lqaqAewA7EsaaAmyYEAAAAaAZ7makK/AAANy5LJTwoDxyt8ZCK60lng8yUAAABgQZrrSahBbJlMCHf//qmWAAAIgbWIAv9rdXH0KBIssVh6hgDpSQJHdv9CujaaT3BTjHjvp7ZIPLzK92rMl2X39LZ4sknyrIp+KKGNqrXOGL5My6js2UNKLd3mJl85jlBAAAAAWEGfCUUVLC//AAAKPRGIAW7gX7PmMrFujjy83cPae73JdfbqMXZuOWCPvfdizHJY/cna7nDQS7YfxMNJhvh3T+NKTh7tGNoaqIjIUEMTJ5rhoKVWxAasAwIAAAA3AZ8odEK/AAAFQTUN4gFI8AAnbzhK2me8w1vD8Rwzjd0ULVQlve9ptxKzRx/z4Un3uxH/LtY5UQAAADABnypqQr8AAA3RK2NddaBA8AAnHVJg1lZ/+3rNJB+JNNV5mJQRHvkaSi7ylA6eJWYAAABQQZsvSahBbJlMCHf//qmWAAAIgoq4JJlcY8++mZMEcLZv3xeKR508CnWiWXxEBEpzUCAI5cukmLmBnnzPaKB+myMbACq8IPV++ffC32wee4AAAAAjQZ9NRRUsL/8AAAo8+vSjlmIlziy14EH8mdjM9MLavDodYeEAAAAaAZ9sdEK/AAADABr/+XTcmdupyDULK3sX/x0AAAAYAZ9uakK/AAAN063jNZk/OexsKX4SrQyRAAAAekGbc0moQWyZTAh3//6plgAACIKLvaqgFrtKtrEU3BTvTutdhDNZ++YmPNbU6XfRPv+1iERrnmS+DbvRTfFUOZ9ps46M2g2aVyaxlgNX/cpRJHne7vubSeR0CN3PfH3n1o9OZhhb89qKkxwrAF3/u8GWvqsTC45fPIuAAAAAJUGfkUUVLC//AAAKPjHBVYcKXJ+BrW1IGmv75TFuIIGaoJSI44AAAAAxAZ+wdEK/AAAN0lY0AN15i18QhWflx4jflaylCaNFKW6ZtUxGUjQgcC2IPXcBNX6zJQAAABkBn7JqQr8AAA3RGfnuyvVR5kSsClBfQi7gAAAAgUGbt0moQWyZTAh3//6plgAACIFfv48FlWY/1eVxdT452LEHns3LVt2T9w0QrTSSmAIbuP/b2qGAiaiIaBYXA+DSb/IbaeMLF78RjXuk+FmEzpptdEXfXdcTFKOJJc0ya5mlXb2KvAhG+CS3R5haUlkPS2vZyGp3QM1C+vgBAV25cAAAAD5Bn9VFFSwv/wAACj0RiAImBiPCIemV9bCzf/ic1QJGKmqCTJI1awt7ff4mvkj7ZqDXUMy9nolWsrp6r4c2UwAAADUBn/R0Qr8AAA3UlJb1cp1Tn0+KAEsjFzld9dIm7po487P/tDwZVa/+LDcpWatCp7cnxoXjgAAAAEUBn/ZqQr8AAA3TreM42QAmlTF6cv+u/vkyITiH4sV0s4eamUwIAA5mgLXww22qC5eHCvi5Z19LaTx0xsXcbNCvCRkseSEAAAA/QZv7SahBbJlMCHf//qmWAAADAHT94iZABYxywm0af/zoE+2XhPZ7H/r9UhOIgRSssKlZdPcDi1ntdORhHvCxAAAANUGeGUUVLC//AAAKPjG+7RhQNguWG5IIunxMUYMMQ/AAHWTtfnMRy/8ZfQLS/Wf0y09TtuSAAAAAHAGeOHRCvwAADdSJfODPSHAm6JZ655CsXYw/HbEAAAAxAZ46akK/AAAN06t0+Dfc6iRMHfT4ACZRfXmwqmPivP6oycJ9AB6UPjf+F3bE50zIwAAAAERBmj9JqEFsmUwId//+qZYAAAiBYpqNZe+W31VJmQ5cnh5sviAKsdYIOQKLM/e7oU9IEVB/nNKrk/ExPGOel7/mVN12UQAAAD9Bnl1FFSwv/wAACjtLEALePTAeBUOkew2yMg9djzL/ltwiqfzdHbEsBnkPrzVhUTrpFtfrQ7jJoViUeqFazckAAAA0AZ58dEK/AAAN0kmPNepXx5tZx6SZdcACdZqutp7/z/zHuB4l64j+zplI+uWkEgAflrgdsAAAABoBnn5qQr8AAA3SZ9X4a6O6G5d9w7O980qtcAAAADpBmmNJqEFsmUwId//+qZYAAAiBX7+PBJdndSSMf+/EgAslU4wRr/zb5htrMr1rqaKbC9ICBwPuK6t7AAAAK0GegUUVLC//AAAKOyA3xjCCYzaADVXXvAdf/ljvdR2BQ5mRGBfMErOMrh8AAAATAZ6gdEK/AAAN1Il6GHRGfuAUkQAAACkBnqJqQr8AAA2DtE1abdR7OkgBLIv4vpIv8dzV4NH6JhvAZx11zRNn6QAAAHFBmqdJqEFsmUwId//+qZYAAAiCMjmHiMAAnWuhJVADg/9ZwrXxzSxM6KyD92GNevVkvZWI5dEHZFU48O+EfMSRAzqU5GoFZ8WKQZxxpRlZ4OJICqhGPQXgpWPjTa4e8FBHPKmEgq6qtw353XBR4PS3NwAAACxBnsVFFSwv/wAACjz69SlKZTKWpkxgSMYEMJACW/NRnn5FORNJcDqEig95IQAAABkBnuR0Qr8AAAMAGv/5dNyZ26nINQqOWTyZAAAAEwGe5mpCvwAADdEZ+bB9brKB9oEAAABKQZrrSahBbJlMCHf//qmWAAAIgoq4JJlRFYH1Yadfl2fLnHvjhWfIIoGpP3LsNWk0NEIArn/lRXlkVb7hPBvt4Shejc7lmevz0NgAAAAvQZ8JRRUsL/8AAAo8FOg27zllAV1A+LUXX5kTLr0t9AC37V/i3KIohjTrz/kG44AAAAA2AZ8odEK/AAAN1In0iAG5qdAwLu9fzRmaDONjdtDt0Kj/5l80oJ/i1jj3TaqnCMrGjNrTI9cdAAAAGwGfKmpCvwAADdEZ+bB9bu3WABCvqTfgA/5dmAAAAEdBmy9JqEFsmUwId//+qZYAAAiCir0Ttt0JP/+rC+5qTRlOMOLKFSt27JTHaNO+pW22wrh/SADj+/FJbO6B41Nbk4qVtnjtGAAAACpBn01FFSwv/wAACjz7DFAAOKaHv0BqePz7t8joqU1EkPd41v8ZP8SzkVEAAAAnAZ9sdEK/AAAN1aSOAIABxZ673ALh/HsH19VxjwIlSVzvg42riYOzAAAAMQGfbmpCvwAADdBgWrDeBcGpAC1u669Lfov/6v0NG6E9BCg9VQ/KHlf2swGlmOP+UYEAAAAuQZtzSahBbJlMCHf//qmWAAAIgjFxxztRwhnTfMKvr+iQBE+3YMaG/tBClmrCtgAAACpBn5FFFSwv/wAACjsbbKJ05oAb22aTj2fQAlvFUPIS6ZShxm93bBayccAAAAAuAZ+wdEK/AAANz/y77N7+MzUABcWSXXVDPP+7w7yYKvoLOzCoXhcbOZOfy+oTyQAAABYBn7JqQr8AAAMAA+IK0Y9vJCiuOdFgAAAASUGbt0moQWyZTAh3//6plgAACIL0Fl8zKRbYH1YW9fl1/LnHdjhV/nTdVugEQx2cA7NskgBu+P0UFvPoxEgEOqWbW76E4FIvILsAAAA4QZ/VRRUsL/8AAAo7F/kZLLgAHDWn+jkn+eud/6XnFe76dG664+ky1jF25PyWwuiM8QlJQeYn9KMAAAA/AZ/0dEK/AAAN1aSVp8QMztdrfHpimNqAEqRLTqNTx3/1pp9u6ClJ2Ja4fERnuxK65L19esUBMXNIHfi7RpRgAAAAEQGf9mpCvwAADYErIIK8jlBBAAAAQUGb+0moQWyZTAh3//6plgAACI/I+h3WNVhh1lL0+RF9CL2QJMzH8B3RcY45IsmAY3uwSeumLMsNz+qakyu2pjdXAAAAI0GeGUUVLC//AAAKOpKJkS8Jg5NoAifDuQd0HQgm3nWgxGm4AAAAEwGeOHRCvwAADc/8u+wfVqHoOzEAAAAbAZ46akK/AAAN06gBlVyVl1nWigpcTlI8fK2AAAAAYkGaP0moQWyZTAh3//6plgAACEFgUYgCt/DSuP7ewfPA5t/1GAqETyTAeLikpemoqWnOTfRCR/FA2DTcNdfRsKz/k95k14lbFUxnnq+kkuGHLcv/0ry2J3ANJ+TlH1bcRWK9AAAAJ0GeXUUVLC//AAAJ9Z/pfSNtq3mQ3aqr9iyRugAE19h69v+H7AVO2QAAABsBnnx0Qr8AAA2ABtHasJWhqn6J763kfNt2tcAAAAASAZ5+akK/AAANhYqo8tN5pAM+AAAAOUGaY0moQWyZTAh3//6plgAACEL0G2v/HnSOO797g3hvxQPO20o0lr6iCz+zKPtcVJT/h3YsDGbueQAAACxBnoFFFSwv/wAACfT/mOOOoagAAQ/Ko1Gu90Jea6M/mAOR8ckgiIObC/YCpAAAACEBnqB0Qr8AAA2CTHuXaM/V+YaAD9yoUtX/5HAjj/AYN0kAAAAZAZ6iakK/AAANgSs5wFXAKNG1Rn06yZbjgAAAAHZBmqdJqEFsmUwId//+qZYAAAhEpKC1zBUAOPa2T13AgWuf05gwRCjqpoQFNJkcEFyz2dRqWUdZFGRL8P5OGeS0Ofsf4GcYH1c4smt0Ru9r/UPQNh33ix7nmmKCW3colXwrcYKtvFGX4dBnwpjxfAaNmsQqi6SvAAAAPEGexUUVLC//AAAJ4XBv4TRADc/U24jf80NLOZzpW5MyLStIgk/nUJ/lewGWG1q3au+iwCMObJK3Fh4AgQAAABQBnuR0Qr8AAA2CJl5AcWVQMzVUwQAAADQBnuZqQr8AAA1mtsDJgAF0SDGv8R+UqAqyqUmhkmBCwXtf8zPFSrnquJr+4sWcZ8/FafKNAAAAQ0Ga60moQWyZTAh3//6plgAACELxsjiAImugF8KtUmDeD/4KUt8kGPCT8qwzsHq3tBSG6wwSSpa/11nmKzLWaJUG9ccAAAAlQZ8JRRUsL/8AAAn1n+l9KVrbxkTZh2wU1AB/W2jt7qX2dW/VgAAAABIBnyh0Qr8AAA2ABtBDUsDVVTEAAAAWAZ8qakK/AAANg7PILOPHSQ6TqKG/VgAAAEVBmy9JqEFsmUwId//+qZYAAAhC9Bto/ZwS/S+tHDM4QQePA120eiSLCvhJeAAXX/Z15Gl524vTEmT0f127/TfT44VFeSoAAAAiQZ9NRRUsL/8AAAnQq+wqm2oe4XHAaZzpa2hmJvAyiN5FYQAAAB4Bn2x0Qr8AAA2CTMapEEc/ykK9J4PrsWgrmkMBGfEAAAATAZ9uakK/AAANgSvaV687WBx9oQAAAEdBm3NJqEFsmUwId//+qZYAAAhCiseI6KUQhJ1z6lt321AP73gMe99SJkCayzO15fGQd1KUFDI/44aubC9PH2+N+vHvPI/cNgAAADBBn5FFFSwv/wAACfMnN3TN15dJgAhx5KCnVo0wSjZCSlT9Bdwrwp+/jvB5JhkvnYAAAAAwAZ+wdEK/AAANcFda6xoAWwx5hbP333vGe6UdmZZqQvGDq3l/gtUqqnuwkccBfwMPAAAAHAGfsmpCvwAAAwHxZ3b9aAzlgNd7jnNkw+alz9MAAABoQZu3SahBbJlMCHf//qmWAAAIRgaHdwvoIAcZARAHhJHbTI9f9Xjjfqu3Qh5z4hBeUznUqehXG0xfzXL/uDux2QH4FyJ0fzp/U73p17h4lSjS35MZU/M4JvWVcmPdff+WnrAfR36ENIAAAAAqQZ/VRRUsL/8AAAn0/65tM45wtWVV29HrWNN8WwAJ3y1wtxbrmSuB5iR9AAAAEwGf9HRCvwAAAwHw4lo4ljtsPjgAAAA2AZ/2akK/AAANe9pvAABdBcJEJZ/JosMm+O12dBo9qgjTMiKjtPgplYZ7zxaH5Q3MBgGGyPKtAAAAPkGb+UmoQWyZTBRML//+jLAAAEAr/8oABxZ/UshWiR/9J4T1DsKJKz5D+C+eMIyCQfWV/KgtcO8Xn78FPmxpAAAAFAGeGGpCvwAADYEr2nnfcVQdphWwAAACIGWIggAEf/73UfwKbdAgP8x7/9M//mr/cj7oek9Ed2hxXZBuy1TwAAADAAADAAADAADUv52X7uHRFNdq+0msLHWGcxAAAAMAAAMABvdkAAQV2FvWEkgG1IPwhL6GxRKaB//EGrfAARhi+atvRGFcW6wljtATWbLe5ksWOigjD2W9weL3T09NLWH5TOQboIymeHG1Ch1GH4IN5hSsmPef0NbvIHMU54JHPqaVaZHQMvMpolN/In/3shsvrC9/L4f5hyONxiO4AAADAAAFg2PIHlYLii0TFShMxgnE9gXovH7zJ0Bkb2wM9lhDabq3bSLV+orIHD4UKssSDO0tJTxzByXMMn3jZVdJ3xgqGc+Osys7KmKNqWf/toxhF7tsfU8xh4Ofdm1Bh7+sTON/t3vPF5rqCQO/7eRnDJUNvCfv/eLrNrhn2871F0GpB/EN4pXW+MD9Rfn3KUJ95Fokbr/DuvZQHZkeB+9fjuqElJPzFKijAQS4Da8JY6p4WKCHwVVVzdCeMUZdT3gc23/Vj1mcpEtIRusjmjof6xP/Pf5/zSAm+zE7R9MyYUdzKYWQKu+Tsqg4OYHXn/fVJPPAnYfBOOeWNfLMwcXnUG7GWkPA+hiFaWJhxv6TvBIRL+N85TubMKfHf/yvqjDhO09KMgcLR9OD1X/M3tPu2G3MD5cGLLRqwn+7U+knA15c6U1P160HgjROiA4JAAADAAADAAADAYkAAAB6QZokbEO//qmWAAAISBjgqQEABb7j3munI/h54BNYJM8/5ZJ0L/+6JLVKovaSXj/3+B0JDvK//4rQo397Pyi+OnG0qwdDmwIbIRTNUGOY9UUsXb3oCn4vi9d/EkzjFadvakUERrraABj/gbIM4M+Gyn5tTL4gM1viEjAAAABAQZ5CeIX/AAAJ8yc3B9lAhnc8vveYJiaUAAADAAI5ut5HhAQAcnSXXnUrrcNvnezEzGqpLmDrESfzlVb4Sqgk4QAAADUBnmF0Qr8AAA2EkzEBpnoTAAJ2yNzoPMsvXl0/mHOmGPAjxZneSNJAAAADAAEoYCe1PCAHdQAAACsBnmNqQr8AAAT/7VP5EpaPMGtuoin9UCRENQTvf8u5V2az2SIzHxZv+bpgAAAAdUGaaEmoQWiZTAh3//6plgAACEFin6JAETPiDe6Dxs42b4j7NiGERysIRgCeu6m8obpk/mM/b5GphylqOBV4wvXx2TRJAL1x7x5hWhOHIH/bjWLzc97xnck1wB3INuKTwirgfSP7kmU5vNaAT+v/t7qU6eEXYAAAADxBnoZFESwv/wAACfKSmTo1PsQAg/YR3CGMd/8XV/ggPGDH1Hjgzo+mvCL3o/1FzuBLyh6gQqlB/VOhOVcAAAAxAZ6ldEK/AAANhJOoAOqfyJMGdv+t6fXH3EO7oEhECdK4kOpdEaie36fHJSthYt66YAAAACwBnqdqQr8AAA2BWBAC3fJR1sF06xh6RBUaUQ2gX+TZJn+1ET+6TpTEObefSQAAAHdBmqxJqEFsmUwId//+qZYAAAhGBlu4VO0mUb0AEjgY6Ey2oB8wkmJSdcc0YrV4eZewCx1npe4wMRF+ZH7KE69lKEWY8UXtE5LcEHFQ4+UqHSJLqx/Numv/a5QqER1wayFW6zC2U19IhYUZdXE16bWwhDb9OZMAQAAAADtBnspFFSwv/wAACfMbaT1dAABEELV3sPMpObKFQG+ZT5FmylpTQS/3g8SC2zlzVSY43CVA/0kJ48xDFwAAABoBnul0Qr8AAA19SldGdoFwF7BNmzA1YAQ53QAAAB4BnutqQr8AAAUdrboOAyyZ1NVkW5ppeWg46HpMcqEAAABJQZrwSahBbJlMCHf//qmWAAAIQvGoO5mgSZXjWRlVboo9XPD8AKNcFDwJ1QJMALbFplpTHH9lt//XTLZc5BMT/UkZe+RWX6BYgQAAADVBnw5FFSwv/wAACfURiAImNp2gm5N/1sLN/+LnFt1ZN+7xr82Ip6uydUkMQ7Tsl5vej6ymgAAAADgBny10Qr8AAA2ABtC1k31GG2y9K8RfaABEHnA0gcaN3b7+XuDaRRFUMKAB9bRmANDLIZ9q4kO1YAAAAC4Bny9qQr8AAA2C5/QAlkWCTtV/Rdh3kalnX/M1E7Yup0tgsDUAvUZiAiLZ+tSrAAAANUGbNEmoQWyZTAh3//6plgAACELxqDuZ8FahUq91ABKrcMMK9P/xUBjvmyRQ+hj+zYziIVMaAAAAIUGfUkUVLC//AAAJ9Pr0o5ZiJrhlIDJvgA4/MfiXnBnHwAAAAB0Bn3F0Qr8AAA2CMIwAC58mLHw/0njv2D6+q3QH8wAAABYBn3NqQr8AAA2DreM1mT8/v1C76tWxAAAAWUGbeEmoQWyZTAh3//6plgAACEG1iAL/c/ofy8pZvXqPCyMd4xRWPZ5/W+TgTHH2pPbkL0rh8Zftddc7l4WzPp7jKUKa3l33fJX+iUX2jba1/2M6ORnQsZc5AAAAO0GflkUVLC//AAAJ8ygW/0L7mtRKO7QEDO4lABfMqRm+Cv15Dqb5rvkuTSjoHjhHIYoqpnxZUWADc7zYAAAAKQGftXRCvwAADYAHKsnAmodq6UAJbCmHm33/xuwrUEf0M3I/MVHMUs+AAAAAJAGft2pCvwAAAwADzMxWmKNcv0oAQq1XbDe1oSQt7tGU/BcPYQAAAElBm7xJqEFsmUwId//+qZYAAAhBX9BNpEeAcQEog5Hep+g3r7jbG4WUAUHnEgG3F0sFSq+vCa3Mi/bLxDuEHTk/8C/V2+jtoQ0gAAAAIUGf2kUVLC//AAAJ8xtqLaux+29Pc/x9tPU91mQqc0VvgAAAADQBn/l0Qr8AAA2AH4ABxvLqhMovM9tJyFFPtRQ+ugW4ILadu8Acev7HLqDer9KNUPqWl8eVAAAADwGf+2pCvwAAAwAAAwCtgAAAAJBBm+BJqEFsmUwId//+qZYAAAhBYp83X+wFRgAFz5aqlQDwjuA/UqaMs/LMfjWeMWWYb9RF4k8dyL/0fhsNXqqUdrCimjA64S+Wp0fBE0+ksscxbeTGsoYC1wKQSne23G6SCuQmxuoSf6uWzl9sLxqvKV8GNTDtpk9+yR5xAq7EKHknQuNOtIKr8FNwKT9p2R8AAAAeQZ4eRRUsL/8AAAnzG2otq7H7b09z/H209qGfKGw3AAAAMgGePXRCvwAADYP1U1kKmzMgogBLYW2Wh/8GrCFaMML5pusDDrQt4UyDr6FCFFaL1lWAAAAAFwGeP2pCvwAADYJlLt3KQK5z43gdaJMPAAAAZEGaJEmoQWyZTAh3//6plgAACELxqDuZzzU81vRSpfOg6xrMb3tUhjpTIArmbMwt4WYaC7OTdXsTO9mhzqKD3E6Pmo/nZheO48oU2O7q2t7/+4IEoR/n2yJP9iSp8pb5/OWG29AAAAAjQZ5CRRUsL/8AAAn0FNfOk1zjXga0brZg3m+Y9OJsOKa/iQsAAAA3AZ5hdEK/AAANgiZQHGtD3PkCg0lCskZuVSacueAATvqoapsluc6ajzmoNmvURl0nHwNI1C4a8QAAABUBnmNqQr8AAA2DreRsH2QtCd9jIIAAAABoQZpoSahBbJlMCHf//qmWAAAIQV+/mjgA+v86VFOJijOYW39+L9h1nEO89t6SDpRzVffa7oxxVtF6IeaMdrUKtzA+nplA6TpooaLqPa//Jzb0T9wPwCPg01hGXe8coqL6sea19HSohpAAAABLQZ6GRRUsL/8AAAnzG8lAAOKaHvrxu6Pzy4vB17qSi1YP2/oCfpCaFGONWUmJa8tUu45+OqQiDAFe7/NSMtcRdrAZPQtoLk+l0X3BAAAAMgGepXRCvwAADYJJjzYfbedIAWroL8UX+tRGjTJo0YkV/U1dpmRj6SxYvU3y+g6bkKFgAAAAMwGep2pCvwAADTErOmALDXoABdQrF8a3dLdLgzOKceBG8EmqLu3kevNNAy161EEtCgm6YQAAAC1BmqxJqEFsmUwId//+qZYAAAhBX7LJOqyq+f5vnPsGo6BmgA7wun55z9peA94AAAA4QZ7KRRUsL/8AAAnzG2otq7H7cGkAAuoW8/CrPnkfx47hvdRhDzE38fvsmZLQN8T8Nv1Y+EPs0ZkAAAAoAZ7pdEK/AAANf/fql6CQA3XkJGwJTv4xLfVche0MzNlVBStyAEBlQQAAAC0BnutqQr8AAAMARWTboOAzIwABwKnqgspiv2SgwVPWf460zRXLjNwtQFrW6YEAAABeQZrwSahBbJlMCHf//qmWAAAIT8jqIcMWPkOLOUvyLeejIboqma9IWoFapN0ky1f+4G++F4ZsR7/mWSt7MFRZ/+c1qg9dWvH1ic1k+UA8E45JhVaD/xxdSpA/AzepVwAAAERBnw5FFSwv/wAACfMbai2rsftvT3axZ1ADg0oxbfbI3eSJg9+vc4wLDZwT9j/5mWorTVoGXVOH3yKhDE6aepdanEJ6YAAAADMBny10Qr8AAA1/9+qXoJAHMO5KzWBwOlkkbUUpp0S3cDh4awUKif5w4QMyyHe/POSu/csAAAAlAZ8vakK/AAADAAnzW3vccsAfTA73AAg42O4DY3n/+/YsaU+fuQAAAD1BmzRJqEFsmUwId//+qZYAAAgBX9rsUXetPjmkrmxdahcjXCgkswucu8/LAEZtR3m9tBYNQ7ZqYjZBUgtIAAAAKUGfUkUVLC//AAAJrP4AmK0oDdugEOP5R8XEgBCr+lbDP42hhhDteKrMAAAALAGfcXRCvwAADTAGWZhIrAAJ1nsl4uRLOU1NVmjIP2IQ2fAFBO38TPMHE16BAAAAEAGfc2pCvwAAAwAAfEHtNmEAAABGQZt4SahBbJlMCHf//qmWAAAIAV/a7FF3rT45pK5sXWoXJUWYpMEjtFGf0xUzXUCnd9lhRFYOCzyXPmiFaz5vchJU/DRJwQAAABxBn5ZFFSwv/wAACaz+AJitKA3boBDj7rpw/b3TAAAALwGftXRCvwAADTAGWaRiJ0/darUACdV1pn4g2GahW68/mHVcZDSFZ+QnDlomrsizAAAAEAGft2pCvwAAAwABa7HAHzEAAABzQZu8SahBbJlMCHf//qmWAAAIAUxV5Bp6ivFlywY+zwAWSr4yRJ2/FJgE6YhV/P69J32o6ouVj2yPv/3BBoDZQJx7tBkDILuo/dXI7W+qsWJvoFkoE6YzkYVo2SK6DR+tWDPWdRt1X3f1/6XKU3it8mV8IAAAACRBn9pFFSwv/wAACayXCPCCMSdgbK4g03EdxXTf0EPnLGE5hBgAAAAxAZ/5dEK/AAANMDHgAF1HTtWafJJ2w7vKn/vZRroYWBwGKunsbbE32BKCKW9MI41PuwAAABgBn/tqQr8AAA0zs8gHvIuo+NmXY5qITjQAAACCQZvgSahBbJlMCHf//qmWAAAIBKSgugSAL8gIqCjo+EA1c/bBmh8DgBIm+fE0CC5haxEdTD9QQFsU/iOL5IBAtQOLGnBg/iDMcQTFAv8vg6LWbTBVib5LdGgG4OOlNEA5g0UIbedtDaA/gqiJNOuQ/gBVm+Yndj/gW6LkD1j98YGyYQAAACVBnh5FFSwv/wAACayXCW3RS1xqGcMrnPdbPOiKnPIUzJ0kJCAxAAAALgGePXRCvwAADTSUFZILI1eseKw8P+W77BmAARDmiX0AODPuGcLbdOSDbomjztIAAAAmAZ4/akK/AAANNYqo8W/RROtbgQF83m2ew+2ADa6sLCHDKhHSAlMAAABBQZokSahBbJlMCHf//qmWAAAIAvGqvIzAqfpIyMsf+uwjHHHJMmfhDfLEAROmiUw1fm12FIc+UC/iZ6u48Onpx2AAAAAgQZ5CRRUsL/8AAAmufPpFHhCMZfbasfo2mC/pcck4u6EAAAATAZ5hdEK/AAANMiZeQG6N36tgQQAAAB0BnmNqQr8AAA0xKlM8GdV6CEO5wTAFYpPQaDWbugAAAEdBmmhJqEFsmUwId//+qZYAAAgBX7+PBJdndSSMa+0lPuFgfIu/e2+hHyQFGgE1XBmxyd4nkSot+69uQxr5FD9NfWW+jwAQ5gAAAB9BnoZFFSwv/wAACa552B7mYiXOI1S9AZbv8ZP8SzkpAAAADwGepXRCvwAAAwAAAwCtgAAAADIBnqdqQr8AAA0JRjKsswZ7FAHb+yvqABNWWSO7na7I/tuxW63p4wRqG6Rwd2tY+266QQAAAE5BmqxJqEFsmUwId//+qZYAAAgBTG9QCa/DSuP7pCNw9PpaPyRj4vmBgkG3uYGvcXaS+O03eCkFTipN31kU7PHFAQ1cNWQ2b4X07Id0vswAAABFQZ7KRRUsL/8AAAmuS3ppdzVlZXk6r/ZjA+ypfEq11zRKheyADnD1wj1+dGEZL6Vf7Kemt7rm0uD13EYfaBUz4Z3VIT2xAAAAHAGe6XRCvwAADTSJehh0RjDQDoKcta6ZHmzMu6EAAAAqAZ7rakK/AAANM63jNZqsEOyEJJBLDC1lR+aAE7vfkAJWtqGcwlojV9GBAAAAckGa8EmoQWyZTAh3//6plgAACAFfv48PCMbJ7FfdAAAuvzb5ZvaEhVd3EaJVGBFmA+dSyorxM/dC2A8oECEeKXF+Gfo+wZ9mAbI6Z/g2ZMkZXx455KNNJNVfw9QrKeJAAhd32880fdOkAqLEmL35nPt3PQAAADxBnw5FFSwv/wAACa552ARbYZoSXSS0xuacACH6J/JOH6q/lMGqGdewc6qhSeZpYX1P+6G4CLYh9iDE9sAAAAAhAZ8tdEK/AAAE+TP9NyVJUwhXhFU8UxlK2XknCwLV9zejAAAAMAGfL2pCvwAADTEZ9YktRoVouV4Udeur8QAJ1nyj+Fff/snxd/onvBRucKteFW/sCQAAAGtBmzRJqEFsmUwId//+qZYAAAgBX7+PBJeSoxrU1PO4tU3Ge9MwAXCCoSS9H/rBngPBtlzgY0Xgtf/3YSDxhaX/RNngnEYZJFDiPCN43q0M/rOiG8AVwApuHeZ4Vteb/+nLBLA3TVpL0K/XhAAAACpBn1JFFSwv/wAACaz1prfHRUqWJ9f/8IkAPZDwkinljpmE/oFs3EVMHSAAAAApAZ9xdEK/AAANNIl6GHYpgVpQAftItOgeq/H7PbyNYvVJREXTBRk89sEAAAAtAZ9zakK/AAAE+a26xJSXoVouROen3KdOgA9/kw82+/2mf9URqIXIUn4Yj/rBAAAAkUGbeEmoQWyZTAh3//6plgAACAFMSCeCS8OXgMQAc5c6hyLQ/lPuEur/DadjdD9pKL4qOz+1hcR8UgbchqY2nwT9Aq2tH3/IzZrdE5KBSm2FYSk/8ZHiUa3GoRvg0DdGc5/kyXpUExIt9JTa7hedwcAwypBRssIYsHWEY58wuapZHF/l3USaKoA/2udi2PUngk8AAABFQZ+WRRUsL/8AAAmsluaSShFwif0MTjUAGquveA6//XNIKStvU1cXZgZvUcnhzSKL4eJqpxPtvebV0imiw0ESOhp2CJpgAAAAPAGftXRCvwAADS/8um5KkqYQEk5hvtgA/FbKfO3+woQmOJ5NCqRMjynncossbEuXMBKwKT0YAAWcJKxxmAAAACgBn7dqQr8AAA0xKnjYu1SfF5LUMeFgdC+M3zmbV1YPnLGCgIAEu8VhAAAAgkGbvEmoQWyZTAh3//6plgAACAFMR3rX6SlLQAF1WtoY+ywmqdb+H07ffPmeXWomzvSjJ2LILa75b53wlUwPdrsuDZpiY4+hmzZjgEtxLT2Mw78Zc1LOah4KNysAr34PCfmbeTveUE4GdU6XsSuIqkaO/osA97+4Aop9Ne95J/Q3kuAAAABKQZ/aRRUsL/8AAAmuS0RYCNaun05CQWyMngbcxACZcUQDmU1P4x1kicBt4tVTZMz6cKmE6WX6r1wzt81sV0Ph5kM5+sKhOJ3ETTAAAABJAZ/5dEK/AAANL/6x9/eGABcWSXXVDPP/up0VaZ6Czsy0225MsPM5t66qek3s3E5t0Jt2EhJilcWzyFKFEnq2lBWXFdjH94xLYQAAADcBn/tqQr8AAA0xGfUBJtJpWcQAtbJLrqhnn/wd+8qZ6CzsvIGVomS+YRaxHDQYfJi2aFZZQCDYAAAAd0Gb4EmoQWyZTAh3//6plgAACA/I6OXpbFYYdZjR43/IcFBL9+Lz+x6gqODHKInPE0mtQlCrWF6vGke1EjsbZve9WEMu6DY8NOgnx2492vAugMedP06PSJOKdk75mFDQF9OfTPlR5uzbsmlrtZxRURnSkoKz4F4hAAAAQEGeHkUVLC//AAAJrPTZjemEgH6+6YTUqAnRycASDU0dUT277TqADYucVtc/8+WFD92Mg2MrpqtBDQjOuehvsoEAAAA4AZ49dEK/AAANL/y6nebziAAExxkcQ7R/8iHWCGtmW7PeeQvQMNLCbNytjTUcNulrfBYD+Gqz5LYAAABFAZ4/akK/AAAM4XzAALoLhQwkP57egjyz4Iv5BbLKFsPyvBz10adomdOs5Ad0gfXqFQ8jc/L5cWXOtVmHyQpxco49Pd3pAAAAikGaJEmoQWyZTAh3//6plgAAB86qi8gqAAjINGiemPzKf/xEc/6t6/Q40YCq98FoHxRIDPpLBrdPD32dvXOCWI0RtuyvdxfQ+TfphzP8azZqeHeoSkmnawpRSpDP5olXJ9lhxL5slR1HQmSxUoxBakBm2msfGTgK0EeSZnVaVF5b96tfomcZvgo2nAAAAE9BnkJFFSwv/wAACW5L5cAAueyXnURYr+G2lGdNpNr/nBQqWPQA6ArUGE+UcvKO/qPBayJG08+XgoSxBgfu+Q6NwQ2KkWniz9+x/96za0+3AAAAPgGeYXRCvwAADOIekgAKcOhA7KFzc+d/zV5aAQ4wSvziFC9YOU9gbFrax+FS+NSQAXgOjZg2+7T8YDJ6GAmZAAAALAGeY2pCvwAADOBgpU3RgSTHPtPpnzNJYH/SwBw9QT2jGq7Yxdwg6SuMue2AAAAAmkGaaEmoQWyZTAh3//6plgAAB9HKdznLR4eY+lan3e62XTKxwb+8UQNYMGIOHndQAZh+yfcoe4VU7jj5WYwoh5IGnuwsqqk2hXqN8HDwrq+5avvxWj3ADXWiojkfvF//G04GdFLkl+E152MvalYQdM9UBDFgYRUsiCL4LSqArOMAr6gcKYIzFMWdgYe2NecHPow3onBXnic77oAAAABRQZ6GRRUsL/8AAAluS4BoooLmBg+YX4UHNPavN+lbPJu2abe4pUYmxMIvD5489mwAODwoTKZxpmu5AjeFO0lJKTnkXPGWGNUmfhPWkvPJT9mBAAAANQGepXRCvwAADOIek1z99GGVHFQCp0M+z7OEcYwE+XkVt+E6wEePUAGp3K6MuP/XS0Yvm8VAAAAASgGep2pCvwAADOBgb40813Gj6O2yppf6uR4xLUZssXxPEBLJSzsywiQIDYADrEcVHHL+X05zUmp/NfMK6yliNbaoAJ7jCStrVKKhAAAAc0GarEmoQWyZTAh3//6plgAAB8xqM1ht9MsMn6dyPygAjP/E0N/1R+im2/4CuR9V0IFJ84kMGBcoQo3lOzx1a51iUX1mzHk+4HLceTurXd+D3zSKCR0WeOlDLVpHaU0lkckGNRDNCCRdCp5eZdKoIEOMKesAAABaQZ7KRRUsL/8AAAlQEmAAXQaFyA14/pj67vBlVSXzNA9XJldRBPnxkOhUTuMh1Kmt6Lh4aK+Ue29R+buaqS8YAJX5c5/ENAZrOesRHdL6tn3ZrVnMYrvZKA+BAAAAMwGe6XRCvwAADOP1U1j48sZCFXELrbyyTbDh2nBX03k6Bt+hToNGgR2XCIDIyyVxXjhuOQAAADUBnutqQr8AAAzgYFqwM4nERNM+jLwVHAIVhB7luhUJtgM4+PiyUEiV4JXi/p7sessnp9W44QAAAGFBmu5JqEFsmUwUTDv//qmWAAAHzHg5cNvnCyLCGGaVslBE90/Pruaj0lurfWPBDgN0VJhJWoDmbhifIGMPozACaLEqDJ8Pp4Dn//kVR4vYaNGOxxF58/rth7G+imwqIaAxAAAAPgGfDWpCvwAADOBgWrArjsXEyzM0feFT6WQ+jL1jj6gWOFj6Dv7V64d4tFq6Pd+IAQEbPXMLt7X+9HYH2mmgAAAAiUGbEknhClJlMCHf/qmWAAAH19tQNzwTphZDbDQaWLMarlMezHjziAkBw66AXzFdgcPLf6lhTthNwUiRJgLXsshJHm17UCeAIP//EWX22eDUnltZnFE+oPTIfYT/MMA/5eqS1WOs3XBDa7+yzhDbH4XN1U0pry894nVr/yATO/9i1UeT1Dd8F0zoAAAAVkGfMEU0TC//AAAJbIFiQyb/94AmiNX/QUU+nyEc2HGYSNtsmuBC0lH7TBgsV0CcBDmDsjQ4jffQ5/8AAnb1KEv8KfOaX9TQwDX+c7N+fxYbOeUZGM33AAAANgGfT3RCvwAADOP1U1kqnOq+m5WpR1bjUIKP1nzxjrYxfONWu/n7V9CtV3n9O4xXDVCe/E5gsAAAADgBn1FqQr8AAAzgYFqwO8Q5Um7Eq+5d/GWOzYVn7Yauz0/PbdxMcK+ABEOfaZmO2YP52T7EQHRMwAAAAHBBm1ZJqEFomUwId//+qZYAAAegb73tf7ah88p5GkyyrFpSFGRCqwlqIvGHARyOF+vi6fCbjUh5eGWCCUwzjJfHPKgSMPH/fnont2qQ6Yf6lA/uNxeetEoLncRQ6ddNYZyztUH/S9VzlT53XkjwT2JfAAAAXUGfdEURLC//AAAJLwWXuq26801acWW+ENugaIpIY915qsQYW9ykNE++yOA+CQ3AAJmMMXXKP/ibauWaJzGv0y3MG2fpxl1s2sDS2iSqR9IjS8LZpIWO4CRUxKtJmQAAACwBn5N0Qr8AAAyT9X+iKn8BvdrNW5Uao5wna2tDEo9+5olWh2V4+fYUF3D9IQAAAEUBn5VqQr8AAAyQVCEAC5XQubUoH8zhZoyUjF1p4yYRxltQ7j+KwVvQyPBsykM4wSGN3e3d5IAuVGIX/KzsdwIINBZiTMAAAACKQZuaSahBbJlMCHf//qmWAAAHoG+81ht846HoAV8je9RxB3eR/9vIM1zs9aGCI6rHNTXgvopvvvIqGibYk/XY2ej4GkZ277guy5Fa+MHl/nsy+8kTxbgXf958rS/qqB39gVbxYHf6Uf1DVGrJsO5HDhQWZKrIv5QQ+hfUkeV23CXgNa8FBiE8eMnwAAAAUkGfuEUVLC//AAAJLGZVmmJQ1pjxSLEuK51IEIJqkmHeo1fvYQ/6k1LT2ECOdUL/z4F9AC1xUgozNmjgL1xT/yFmuSwaoPocZfMnmDkRjtggIs0AAAAuAZ/XdEK/AAAMk/VW1sfsB9WUwv8PJPJ5vymTZ0tz9796e0fYLofpCTrCBSXaDgAAAD8Bn9lqQr8AAAyQYFqwMvmL8CRp1Gr69K7QIdfK544+IjPsvaWZrVSUb99PPgAXClZouE9QODf+tBppcJRsc4AAAACGQZveSahBbJlMCHf//qmWAAAHq9tQHN4H7aVrFskYk5L4rxhDgArTtTsPoZpiajJ2Y+kHxHWLjZC3SZxLY6Oyxmy3qmMazM//98KlNDTzWaGMe1BSNZpEG8NS0ebc/qFuREGt/glJmN/GsW4E3RpNxlJBrn/JhPcl539xuOUzjvV4NnD2LUEAAABBQZ/8RRUsL/8AAAksZllNLIYrTye9Fd4k6V8umXrH8uDY7H7/G1yaYLl3KYWO6d7neF3rRsmkzcbnXB1MuCsfP8AAAABeAZ4bdEK/AAAMk9nzIAbgIEIkG/fomCkUDcyZAyNNfz0h9a3PZ6TyzdwZosjRotGQomnB6RmA0ntt4osvrosMMIgopOPsQO8EAaKEYGDGBP3+ozj4x3ODaaOD1yKygQAAAEgBnh1qQr8AAAyQNN0Efj88er6V3UwN9zhRssEq5rMi+/eSFkf58s9wQaWwSAEKedHYnyWhIqwcix3NBzf4iNJTxOGe5AXlLVEAAABqQZoCSahBbJlMCHf//qmWAAAHdHDH7X+2pK+fwFVxniWZVqmlvGrtFMRe5aVT9eZo/rnJ0sQWxWGCVl1qQEGvhpW94uPCNmP7hZdoPQ9u1Bw+QTKuGC87SXMLDcy+07OkCoFTjUdm8nAo6AAAADdBniBFFSwv/wAACOxmZPIIX2z5f4EXYZ/WpIdZtiqTmCOEt1kI1gZQwaJLYDCS4sMz3O6pWqzhAAAATAGeX3RCvwAADEP1f6JS3xm60D83xLvuWCHwCjfHbmufpHecdX+Pq2Nr/oejNWBhD0cw+eAEN1ZdMXQrP/y+0aGgF35YTdMw5gqhAIAAAABhAZ5BakK/AAAMQFQhAAukcI7pGbe7ix/MnSvWTXKpI2HZYrsNG905Lz+eIgF4TZX4zHBFSEiJuIjGgvTZS2HhHLpc1oPw7ZbQ9W2V+HV8mbzK9md6hKaTfEj3jCMCVbJ1IQAAAG1BmkVJqEFsmUwId//+qZYAAAd0cMbWG9xkYaO3aCBtml23n7US6uvvvtaDZ7Q/t03rJxJD+9AcT42eDyJk/rEMa4c6MvH7eCClu7hmVrfYq1hsQfe+RNvhApfz+zEIIwmxh/YNZX1Y5yoGVr6/AAAAU0GeY0UVLCv/AAAMGUXJveWvQ022szWendk0/vXVEu8IBGj7C6g0IIyfOZy50zYrHwAXrSWAndBUg7Z/NjqV2nLlej7vv6s+kHrVVtctR026yC7oAAAATwGehGpCvwAADEA1NPQQJ/LRf0bc6NUgQNXcciaEPB9BwAR5eFZXjjDRjxekuyzn64EoLuzfXwAOP7ugs2quebxJ4NUvCj8mJ7/cDbALUSQAAACZQZqJSahBbJlMCHf//qmWAAAHf9tQNztBAk/ZizvqmxyJFfYvQqX2dQJ9qCO1b9t+zvkkXYK+YgT0mvCZbghKlYH8cZai8BaBVzupEAqXK6EJFM8kmoVPLsO834AgIkRHoIYb5LUk7CYzxf2gX10PTOqHO0l4BK8oINyFd7oObXZ/KFqGhlAHsW4MVnztnkZP1GkYcAvikG2BAAAAaUGep0UVLC//AAAI7PSXE3AqTb16aXVI4XgPILDQBbvJzP2a6lZRB+/ao+BPxb8JgBL/+XDHD+qzwfz+ajXMyK9fOm0qUAVR8hS4YNx9Hl9A72eD8MMw0lZzF6vEOPtrdoMhiSZypnDOOAAAAEkBnsZ0Qr8AAAxD0wPuk8XcYl8hDd1y9qSSuu/PgNIVYDWKwgh+ZwXDV/xTs4xmHzCfSgAEQ5m6Alr6jLiYHjg1KuJypSeZs3uhAAAAUwGeyGpCvwAAC+t+3sJRAC2UEyDNf4x0xjf96Hb03gFCTufuOukabFPVJRQJXCLpDevTPOl5PNzbjXH6Y3yRO3Lo2vfzl3pLMR1CO+w+i73TS3f4AAAAcUGazUmoQWyZTAh3//6plgAAB0hy2tYb4HUNTeFLtp/EAS7QVvL6MZzfjGBjN5Im4kzY5cxXRC4/lw1vDM/CAF1htVD7oo+KaHdCwB7cAL7fdIUv5FpnZ7aH/eRCzy/n9JXAqxJbuAge8WTzg9Ji7WI9AAAAX0Ge60UVLC//AAAIrG6dmmOQwfpDaW21fMZy4iCEu5oOIH+fhpHh9z/U0U0sBwDAAHaG0tiLsr31S/meOWY2GFneTGjoEOJVAvjcDwevukiVlwmKQ4j8bhoQpHFxfBMxAAAASwGfCnRCvwAAC+nBq3sAAulhgtLfYDt+vJkrfFGht5MxZSYHCMy7cXInvRUMpq66TWSc59gakzfnB4qbPMWy5mCKE7BbqeEYAAx8cQAAAEoBnwxqQr8AAAvwNTT0DmhOY3XgaoZiOcQkQbS5BKeMLUydkGXdhOM4vORrPwNTyD4TcHwAODWodvH8VY6Nl/3M7nbd4zgxqQX9MQAAALJBmxFJqEFsmUwId//+qZYAAAdT21Bs9LJ4nQPFIREAagVCY4bf8kOXr+eFJ+PQeVp15jy6/6AFDYQJB0RgyF6i3NEgzCzR2lXZUEqLjpjWb1VidYxxVd3r7C0PQWOiPQVS0Orotfo7v9YtYhapq9cAZUwPf98Bn///+vd6bbdML+HeoH6ERm9G883HyU0y/6VFmso0t18m2lmuGZC2yOwGueLnT3/5u4PmPcVRAGXhPvvzAAAAXUGfL0UVLC//AAAIrPMvu0EokWpqi9G9fU1DVFG7nzk9yrMZ5VwlrtvRSq8o+Sm4+D23vEAG8eUrr/3HyP389a+K54hmt9Csb3rmQO/ExqEw+aoQZi4367MwIYCWfAAAAEEBn050Qr8AAAvz0wPulU5J4tRbCklrn/yZpe7pXzgvzeLRn6lfx4kAIL9si20abnn8QEcvfImd6y8Wb0bEgr06QQAAAEwBn1BqQr8AAAunCIMhvPVLPtOD+8L+AvY7GJgIPmBrJRydDbjcsWg/YbZgBAzcen/IACH/m/NG007Y+MeVhMAEoFh9kbrro2xRRsXAAAAAjkGbVEmoQWyZTAh3//6plgAABxxx0HsFOuAA6UkEIWT9Csj//EocNt/9jCSwyHFrFt0nmqlmbffI7v/XsWQE2Q5pWbqEs12DFi/+BtpER8KYWh7h9+K6XMMaZ/N/VzTKI+KyqAqatJwF28JQdKWdaqp5st0qR47s+u6HH5EFs+h/FPQxrIIqb84Oy1TTk6QAAABnQZ9yRRUsK/8AAAuie/d9TxWdw+P98/zZRCZAjWK2rnfRcb6uG5GxGV3mgcwffR3mW2WoANqKQUdFNrXI+EuKK853SzJNnzkIxgoOPWbJ3lP5hCI2FqlURVHRQM3GPpUYCE5d5ROLgQAAAFsBn5NqQr8AAAuiZhWQA299hGaAH0IvLgI9PdRbdnokupSDtri68ucqyMu8fy5G2zWVwg6etoOptn3N5Y0ZLdYIzcG8IL4VoG7hTPVuSQMaIgtDVTp3udgqo3s/AAAAkEGbmEmoQWyZTAhv//6nhAAADjeyynx/H/EE/Q9ADt9/SsmP1cc8L97fl/75PWsVB1itdh0f8wkp9mw4U/7pXxofp+8U5yExunXofFvyM5P+6uQ6LnKQPxzFAMC46E4ga6EHipnS9bmjnHK8sW6Yp7cZO2qRrixJ5tZ5hgm0B2ZKQQ1/I/zUd+wnUCIxTmMy8QAAADtBn7ZFFSwv/wAACGz3hB9W8sHUFa76jihxnimNXlPaB5Shp1GYUC9yJKuwY80b5IGwKyeC23GeCDr4sAAAAGcBn9V0Qr8AAAuiBGCOXzzUAJWpFPa1Vf4ShQmcFEBPdvrKr/X3s3K9kuFr+xsPtP/ib/NPcNcpSOGwxIgEmKqCutpMxg7U6aZQsf3jxEY9eKmO+PVIrdDagUJ1PyQwP0LKQ+LvekFTAAAAUgGf12pCvwAAC10ZvC85QmfXmnMn06nXFJUMACLdDyCRTT/6UK09X4HmJaQ1iruGZ8SoAL4r4SaXCf1lVO7kOk9fSCxpbggiLu+ABhUEjFUIZXUAAABiQZvbSahBbJlMCG///qeEAAAN37KwxO9i7cz8QNRxsdE7l3/Rd1zE5DxI24sjvxlMGiahbYDp5GI521Otuz8mO3TMWpma75DFIyYwOMT+HXakm2pCR+fC2YeKL+Hm7v+Yr0gAAABFQZ/5RRUsK/8AAAtaf0cOD9AARhn71rNfL4HFXipghq6lsN4zsTg+u/pDb0oZav5r9G0ul3hzRmuj3ZngBoAGwYYrwwLgAAAAXAGeGmpCvwAAC1pix5AESWF//d41KSZKmPjuB70gUg6PB/goU2lDd+PajAaYOipwhCBShg0Z2YXX0dc3HE/cAB3QDKFmBMmoX6Nm613UgtZYqvYljDHW0BZVFM0hAAAAj0GaHUmoQWyZTBRMO//+qZYAAAbOkBvNqAAAjI1vS45MP/ov62Fl1a+il2/WdDA7JJj7V5Pn8fdfYY3PWI2g69tzcZPJUr7HmvL1TtxD01XHXF78p2D0j015U99Vg+wRE3kD91r0tobu4wU4fBv5nu5WRxDDC4AA8hqCy15+fwQqsSjIxP9QkJJ4GBp51ENgAAAAXQGePGpCvwAACwxZ0yl8AAuRj1Ok/ncXsFS/xvjPYzpA105WlAMfqaeyZRmONehqQPoA8QiUkBTd4fzTdvPjfAmvY6h2LGVcLlMGP5U6sB3f387q7bfvSUEUdFDG/QAAAJBBmiBJ4QpSZTAh3/6plgAABtPbUBzdoJGhzjoRjKqXJBehwAwdDugu86zIvHBBSIHxe5iWXOd0gGAPJyDzCgTootA8frzsJbnVQm1xNI9xa98ISmi+PhcMpqryGOKmOBq3bTRYfa45slhGbePvRuQgtO+utQEaCy3aojkEQj93jdubVSpro5cvUx5B36qTqo8AAAA+QZ5eRTRMK/8AAAsVGbuCA36N7hZ7ShvUJ0onkWJQtE3BN8z37eIJWaO6h9p/gmCxgSyWsmj5tIPCWHmdHaYAAAAuAZ5/akK/AAALEmkj6Wk3qqpG9d8pQWXOGADeXjVyD71QzRIlbedvzO9Umga0pwAAAJ9BmmRJqEFomUwIb//+p4QAAA0rqkLqJGqAQeMX46Y48dfUsJUcMe8s1l9/ylz6/7z3oWXxxAPalSgIePr/tN7qEUw6vvzA58DXW+cSnaS+V+GXN2xQ2AP6KImFqlWCydLZQ0HnkLEDjy1C1ZruETojGbIM/qvZth8CB0IlT60xBvXvv5VcXk4pyv/bkTSfwIpQ9Mv9miCTIA6gFbA4I/YAAABEQZ6CRREsL/8AAAfA7WsMyGPq79tpk3gwCw/kbKR8F6MMJpqr5v5mTwI+p30oMMaQYpIspTyXwBVqVG6yAA8L/aKGR8EAAABeAZ6hdEK/AAAKzYXLwAC5/oOA9//r4/RnBNhVmKCfUkgOOaQOk0G7XvxZMMLTe3yGpjNZ4Ufu1b+RFzUHiqhabcSM4Pz3Su0Wy9EJLu7uDLMaSAAxJhj/7003l0Bz4QAAAEgBnqNqQr8AAArNGbhdZgDjPd882Y+x0dePPJmQuvdo1VAdQ4yikn1/HxKtcEmE4tzL6xsACIer2jXJzytSSp6iST/wIQB6tw8AAABqQZqmSahBbJlMFEw7//6plgAABqvbb/pYno/ZjLLQZvKkhuBQcNofjPvL39drLwMkqFxpbgwSTIYeLMnDYzsNiNHUWqLYJVgwTThC9ASFogQ+hG75aqNPthA0aHkP08u1/XuEH0NNnhxgegAAAGQBnsVqQr8AAArLYtKfRxBR7eIbiv2tXLwcO9Cm2ASG3beFna3DlaK09x9IQCRBc2ADTzx8pXRgf1tn8pAc6vMOjhUy69UeppYz/TejLl/SpV+IoALuT6LuaxsAAGW1SLIMY8+BAAAAoEGayknhClJlMCHf/qmWAAAGg9peYNj8pmMgCMiE9MM0jWhZmWXc5X5/ZQh16X53HWye/8Yt1zAZorjgrHUHmcXGhQL9bzTm9h2vz2HRR3FaSP/cHx8kbAwqy1aj5p89N151JETKpGS1dCltxkJp8gKZqyfY3YK/FBlVrGfvMI6Vd6f1bw3c4dNRMZNZB6+GXsNgwmDT2Y4LHraE/d76cUgAAABAQZ7oRTRML/8AAAeY+MXj//bCr9BSD7bBgeCapUfiMkjv22Sj+VcRyAwwfvF65pvdpxTlzSwcOgDukUOXTabi4QAAAG0Bnwd0Qr8AAAp+ByMkAA4siocYAG/zdKtsPEo2ZPqkMM6R1OMFLnqg4ITz9h8W/Qx/piN/IxZzExfPl1sb/tcy/KY1yid2m2yvh6xsMqh39xlE+mzzJZBl+gc467JPEBmFVvhkB9+80PWJzKsXAAAAYwGfCWpCvwAACoNUKnBKkdFczTsV1Q55tC2hjYzM/eC+Aq+gDtZ2qobghJ9yADhuuE9Ae3gCZo1QAaqKb9C5v/qgBlNmBP9ZPuyU8ehShdY5Y2iDpmVmaq7m06JqTrztmDQz5wAAALxBmw5JqEFomUwIb//+p4QAAAyfssp8f4fUmetH0ZyMu0AOS1EWAO2m9hxgKYqzXpNaAe//4APt/9Fo46a4Te7qHx572/Xt9lNCuSb1633F2/47JMmu114AmsXVv5kQxuBwD6GlJfIpZHH5fdywmZU8XeKAz2HjpS36PR4LEDWwRNVFTuRZ+GPqc3JB+D7fVGvUSiH9uOYYm4m72afUAlL0A+7vGqUmj+SkMJrIuEv3wc3djrtLmBGAQwAHtQAAAE9BnyxFESwv/wAAB2tyXGIEPAfHoJY+5qHV+QxXpLbB7fEIfoaE79V7Yu/ihO5sP8QAl5Mq15v30ZhuiW2hSfPQxcfKKYo5IE4UINRysLvRAAAARwGfS3RCvwAACj2RKFO/I3D9ifBWv95009zCkUJK45B8PC1o7IICgLrTf8BfyAAnCRI9lDF/by2YtUvVO1LW1icqDMWqKgmZAAAAZgGfTWpCvwAACjtQgzb3vMWEq7bKpJl4gtpTFKK0JZB91wyZj7/gAE46hIhLP7wlYmyRETGYk4pAHCksALGrGFlopJzM7RD6DyR/A693jmDqk4LujwkcEsRqoRzDyq4s3jIN0GHjHwAAAM9Bm1JJqEFsmUwIZ//+nhAAAC/+x88+chYpauC2p3oeiE4wnPVNSqGuvKPPF80euL6we+NET6M/NZY6kelMQEZMlwnG/JlnMBOkfjXgrRIuwD3RJ3sA2NnDfrwNygcOVYBCbNcWTLm3wi9cijVbnPVEjzeCuCuOEe7mPFJ9b8U+WYN8ZqOSAS+fXUw+QpmQc9auw/02AhbHIpOxUe03K8gJhv1iYOke1l3PpMJKvEUIPaAapNU+FXU4Ql2THm51S8ASpH3JnIbJuiYr6YWigu4AAAB0QZ9wRRUsL/8AAAc/cz3AhgPEAN1C6fxki7DCAlFaiJG3OoJkUTrxJDFGqKW7U7usH07LeZAr5zgninVnzKELMX6Y4bhrNg67s70aJoX99InFZxbZWr7OqSv1g2OZhVmAaCOig16nufL00VSxLE4zgxcFo/kAAABVAZ+PdEK/AAAJ8fQvvWQS1v+6PUU+3kGiH5N+GUvSZAB6gwb/fq/9nbFHGA8PtzTxL3z7OTho+/jnlZ9NcFBP8gbavVTwjUefRwLboQNstLxR89TouAAAAGQBn5FqQr8AAAnzUIX//8ogBuQLLBkLL9ek6Yd4vx2IW5CvZCCwz0nHaiAP0CdgL5e4C+mPVcdaTNhfFPkkpHiwrS89NB3HiJ1It3x77HPgLyOS8z/YDmJICDiktMMvw/B6NA/wAAAArkGblEmoQWyZTBRMM//+nhAAAC514EeL9T+grPnVbgAF1H1cD/Hywmoh/WWtoxD8bU0hLSmKPm+X6I/EDv/ddhx4/FuLRg7gf2iOCL43myEf7uqQk3D1+XBMZxNvcYyf45jWGl2rDJhhp5h612xnkMIsf3Hp8cNu4Xq8BDNwR3BkvZIryEBEAeur+E+lQbzUs/cjo6GVHWYukzIWf+LhDnLU02lnriWAsXyvEvK3xwAAAFQBn7NqQr8AAAmfuQddQdxJbHriAgJ+IxfzSrMnwNou1cyndveXRXU1+3b8zxikFGjRPDOyIwjQAWr5VTArhgP7VA/yAAhqR1uZZ1a/7Nb3YHlAtoEAAACUQZu1SeEKUmUwIZ/+nhAAAC6+8BK/Czd0hgDAup9ePbj+letZ+XiCF/gzoTNHD7CZ4iqSToW1X0GZvOPbA084ToVbT2Cm4UrjLxpfh6o+wIAk9USX/sjtezo0peRmyKBRUd+RMcALnX91nD3/VYkZgCQmPnjjWvrVoOc9pLT9urmrQ+AzIOSl2FSxAIdnEQJYC6SSYQAAAKRBm9ZJ4Q6JlMCGf/6eEAAALVW7/GAAr3uEJXAVwBSHvcEhdJSR64JysnH3QPL8x2+I92twOkLLd0M9pB5TwwNgacK31GUOPWQOIiiDJ0NYSZyWv3FnrzGP5iH3OOVE07uae1bJgrEEf0WxtfzBz40X0Zzf2M8AylOgUfZ49BPdB1trLa+vkh82TWU4mOE6k8rX1Yx2zTUgt72hT73wTp0UxAVqQAAAAKJBm/hJ4Q8mUwURPDP//p4QAAAtnvA/9aIjZAA3icf1NeL/64vpT81uzXxayDPB9NbnH4DdK/xGzzgwo9HE5VbFVRTa8QAvrBTWPwKAUEMOvR8iYTTeXF6k2CsEQpvmo+RbZtvNWCv1BiE+L3mXtRtMYWhkYOFDYzJVUbyClGww7Cc0kMMR1YAxcjdMGiXi3iDwaiAr0Tx2HwmK+AD1w0Kk+bwAAABSAZ4XakK/AAAJa7v6T9f3M/nAg2Ur4R+I0mLnuSLsz+dlgsRXRSEkQ/PYvhbhR6jpTclYABDmMLvdyPvyvpohmBXKFHJibHQwz0Jo+giANQbKQQAAAKBBmhlJ4Q8mUwIZ//6eEAAALEo8sOPQIFGw0isfixRDgpIjIMzHw/iAP51jROC5//a0H/tpYEXR3NmP7bwEOhg+aM+gH4fKh5x/y6nyW5XCfRZ6otA4IdX16ifSKezH2UqeYnc2RgCzvmNWGMost+N54eDvaYdf3qLcgP+lA6IFMfxJMrX00cYIv50ammXbtOqlLJIZdzl9oW4yOCHvedZMAAAAnUGaO0nhDyZTBRE8K//+OEAAAK17O6CgySwA4x/IdT7KjvqnI+55JXOzjPI98o9yjZshfjen5Qatnh56htKOkArwuMWMGjc5ShD0s7ao8kiaPm+B7t/LDnPSfocrSzz+6NHVQWg4HpUyrUFm1r/j8FxI/eLMlG6iBQmNhWZAQRvyWihmNKtJ9tpgfT3IU19AbPlZNaWtoK+pz2lshIAAAAA9AZ5aakK/AAAJK7zcZAFa+30MJ/T8kwK+FO/tSIf9P/MkHzjKduDYY3QMQkLZp0Wz9ZGnhchPTpobUxMScQAAF1dtb292AAAAbG12aGQAAAAAAAAAAAAAAAAAAAPoAABEcAABAAABAAAAAAAAAAAAAAAAAQAAAAAAAAAAAAAAAAAAAAEAAAAAAAAAAAAAAAAAAEAAAAAAAAAAAAAAAAAAAAAAAAAAAAAAAAAAAAAAAAACAAAWgXRyYWsAAABcdGtoZAAAAAMAAAAAAAAAAAAAAAEAAAAAAABEcAAAAAAAAAAAAAAAAAAAAAAAAQAAAAAAAAAAAAAAAAAAAAEAAAAAAAAAAAAAAAAAAEAAAAACWAAAAZAAAAAAACRlZHRzAAAAHGVsc3QAAAAAAAAAAQAARHAAAAQAAAEAAAAAFfltZGlhAAAAIG1kaGQAAAAAAAAAAAAAAAAAADIAAANsAFXEAAAAAAAtaGRscgAAAAAAAAAAdmlkZQAAAAAAAAAAAAAAAFZpZGVvSGFuZGxlcgAAABWkbWluZgAAABR2bWhkAAAAAQAAAAAAAAAAAAAAJGRpbmYAAAAcZHJlZgAAAAAAAAABAAAADHVybCAAAAABAAAVZHN0YmwAAACYc3RzZAAAAAAAAAABAAAAiGF2YzEAAAAAAAAAAQAAAAAAAAAAAAAAAAAAAAACWAGQAEgAAABIAAAAAAAAAAEAAAAAAAAAAAAAAAAAAAAAAAAAAAAAAAAAAAAAAAAAAAAY//8AAAAyYXZjQwH0AB7/4QAaZ/QAHpGbKBMGfE8IAAADAAgAAAMBkHixbLABAAVo6+PESAAAABhzdHRzAAAAAAAAAAEAAAG2AAACAAAAABhzdHNzAAAAAAAAAAIAAAABAAAA+wAADXhjdHRzAAAAAAAAAa0AAAABAAAEAAAAAAEAAAoAAAAAAQAABAAAAAABAAAAAAAAAAEAAAIAAAAAAQAABgAAAAABAAACAAAAAAEAAAoAAAAAAQAABAAAAAABAAAAAAAAAAEAAAIAAAAAAQAACgAAAAABAAAEAAAAAAEAAAAAAAAAAQAAAgAAAAABAAAKAAAAAAEAAAQAAAAAAQAAAAAAAAABAAACAAAAAAEAAAoAAAAAAQAABAAAAAABAAAAAAAAAAEAAAIAAAAAAQAACgAAAAABAAAEAAAAAAEAAAAAAAAAAQAAAgAAAAABAAAIAAAAAAIAAAIAAAAAAQAACgAAAAABAAAEAAAAAAEAAAAAAAAAAQAAAgAAAAABAAAIAAAAAAIAAAIAAAAAAQAACgAAAAABAAAEAAAAAAEAAAAAAAAAAQAAAgAAAAABAAAKAAAAAAEAAAQAAAAAAQAAAAAAAAABAAACAAAAAAEAAAoAAAAAAQAABAAAAAABAAAAAAAAAAEAAAIAAAAAAQAACgAAAAABAAAEAAAAAAEAAAAAAAAAAQAAAgAAAAABAAAKAAAAAAEAAAQAAAAAAQAAAAAAAAABAAACAAAAAAEAAAoAAAAAAQAABAAAAAABAAAAAAAAAAEAAAIAAAAAAQAABAAAAAABAAAKAAAAAAEAAAQAAAAAAQAAAAAAAAABAAACAAAAAAEAAAoAAAAAAQAABAAAAAABAAAAAAAAAAEAAAIAAAAAAQAACgAAAAABAAAEAAAAAAEAAAAAAAAAAQAAAgAAAAABAAAKAAAAAAEAAAQAAAAAAQAAAAAAAAABAAACAAAAAAEAAAoAAAAAAQAABAAAAAABAAAAAAAAAAEAAAIAAAAAAQAACgAAAAABAAAEAAAAAAEAAAAAAAAAAQAAAgAAAAABAAAKAAAAAAEAAAQAAAAAAQAAAAAAAAABAAACAAAAAAEAAAoAAAAAAQAABAAAAAABAAAAAAAAAAEAAAIAAAAAAQAACAAAAAACAAACAAAAAAEAAAgAAAAAAgAAAgAAAAABAAAKAAAAAAEAAAQAAAAAAQAAAAAAAAABAAACAAAAAAEAAAoAAAAAAQAABAAAAAABAAAAAAAAAAEAAAIAAAAAAQAACgAAAAABAAAEAAAAAAEAAAAAAAAAAQAAAgAAAAABAAAKAAAAAAEAAAQAAAAAAQAAAAAAAAABAAACAAAAAAEAAAoAAAAAAQAABAAAAAABAAAAAAAAAAEAAAIAAAAAAQAACgAAAAABAAAEAAAAAAEAAAAAAAAAAQAAAgAAAAABAAAKAAAAAAEAAAQAAAAAAQAAAAAAAAABAAACAAAAAAEAAAoAAAAAAQAABAAAAAABAAAAAAAAAAEAAAIAAAAAAQAACgAAAAABAAAEAAAAAAEAAAAAAAAAAQAAAgAAAAABAAAKAAAAAAEAAAQAAAAAAQAAAAAAAAABAAACAAAAAAEAAAoAAAAAAQAABAAAAAABAAAAAAAAAAEAAAIAAAAAAQAACgAAAAABAAAEAAAAAAEAAAAAAAAAAQAAAgAAAAABAAAKAAAAAAEAAAQAAAAAAQAAAAAAAAABAAACAAAAAAEAAAoAAAAAAQAABAAAAAABAAAAAAAAAAEAAAIAAAAAAQAACgAAAAABAAAEAAAAAAEAAAAAAAAAAQAAAgAAAAABAAAKAAAAAAEAAAQAAAAAAQAAAAAAAAABAAACAAAAAAEAAAoAAAAAAQAABAAAAAABAAAAAAAAAAEAAAIAAAAAAQAACgAAAAABAAAEAAAAAAEAAAAAAAAAAQAAAgAAAAABAAAKAAAAAAEAAAQAAAAAAQAAAAAAAAABAAACAAAAAAEAAAoAAAAAAQAABAAAAAABAAAAAAAAAAEAAAIAAAAAAQAACgAAAAABAAAEAAAAAAEAAAAAAAAAAQAAAgAAAAABAAAKAAAAAAEAAAQAAAAAAQAAAAAAAAABAAACAAAAAAEAAAoAAAAAAQAABAAAAAABAAAAAAAAAAEAAAIAAAAAAQAACgAAAAABAAAEAAAAAAEAAAAAAAAAAQAAAgAAAAABAAAKAAAAAAEAAAQAAAAAAQAAAAAAAAABAAACAAAAAAEAAAoAAAAAAQAABAAAAAABAAAAAAAAAAEAAAIAAAAAAQAACgAAAAABAAAEAAAAAAEAAAAAAAAAAQAAAgAAAAABAAAKAAAAAAEAAAQAAAAAAQAAAAAAAAABAAACAAAAAAEAAAoAAAAAAQAABAAAAAABAAAAAAAAAAEAAAIAAAAAAQAACgAAAAABAAAEAAAAAAEAAAAAAAAAAQAAAgAAAAABAAAKAAAAAAEAAAQAAAAAAQAAAAAAAAABAAACAAAAAAEAAAoAAAAAAQAABAAAAAABAAAAAAAAAAEAAAIAAAAAAQAACgAAAAABAAAEAAAAAAEAAAAAAAAAAQAAAgAAAAABAAAKAAAAAAEAAAQAAAAAAQAAAAAAAAABAAACAAAAAAEAAAoAAAAAAQAABAAAAAABAAAAAAAAAAEAAAIAAAAAAQAACgAAAAABAAAEAAAAAAEAAAAAAAAAAQAAAgAAAAABAAAKAAAAAAEAAAQAAAAAAQAAAAAAAAABAAACAAAAAAEAAAYAAAAAAQAAAgAAAAABAAAEAAAAAAEAAAoAAAAAAQAABAAAAAABAAAAAAAAAAEAAAIAAAAAAQAACgAAAAABAAAEAAAAAAEAAAAAAAAAAQAAAgAAAAABAAAKAAAAAAEAAAQAAAAAAQAAAAAAAAABAAACAAAAAAEAAAoAAAAAAQAABAAAAAABAAAAAAAAAAEAAAIAAAAAAQAACgAAAAABAAAEAAAAAAEAAAAAAAAAAQAAAgAAAAABAAAKAAAAAAEAAAQAAAAAAQAAAAAAAAABAAACAAAAAAEAAAoAAAAAAQAABAAAAAABAAAAAAAAAAEAAAIAAAAAAQAACgAAAAABAAAEAAAAAAEAAAAAAAAAAQAAAgAAAAABAAAKAAAAAAEAAAQAAAAAAQAAAAAAAAABAAACAAAAAAEAAAoAAAAAAQAABAAAAAABAAAAAAAAAAEAAAIAAAAAAQAACgAAAAABAAAEAAAAAAEAAAAAAAAAAQAAAgAAAAABAAAKAAAAAAEAAAQAAAAAAQAAAAAAAAABAAACAAAAAAEAAAoAAAAAAQAABAAAAAABAAAAAAAAAAEAAAIAAAAAAQAACgAAAAABAAAEAAAAAAEAAAAAAAAAAQAAAgAAAAABAAAKAAAAAAEAAAQAAAAAAQAAAAAAAAABAAACAAAAAAEAAAoAAAAAAQAABAAAAAABAAAAAAAAAAEAAAIAAAAAAQAACgAAAAABAAAEAAAAAAEAAAAAAAAAAQAAAgAAAAABAAAKAAAAAAEAAAQAAAAAAQAAAAAAAAABAAACAAAAAAEAAAoAAAAAAQAABAAAAAABAAAAAAAAAAEAAAIAAAAAAQAACgAAAAABAAAEAAAAAAEAAAAAAAAAAQAAAgAAAAABAAAKAAAAAAEAAAQAAAAAAQAAAAAAAAABAAACAAAAAAEAAAoAAAAAAQAABAAAAAABAAAAAAAAAAEAAAIAAAAAAQAACgAAAAABAAAEAAAAAAEAAAAAAAAAAQAAAgAAAAABAAAKAAAAAAEAAAQAAAAAAQAAAAAAAAABAAACAAAAAAEAAAoAAAAAAQAABAAAAAABAAAAAAAAAAEAAAIAAAAAAQAACgAAAAABAAAEAAAAAAEAAAAAAAAAAQAAAgAAAAABAAAKAAAAAAEAAAQAAAAAAQAAAAAAAAABAAACAAAAAAEAAAYAAAAAAQAAAgAAAAABAAAKAAAAAAEAAAQAAAAAAQAAAAAAAAABAAACAAAAAAEAAAoAAAAAAQAABAAAAAABAAAAAAAAAAEAAAIAAAAAAQAACgAAAAABAAAEAAAAAAEAAAAAAAAAAQAAAgAAAAABAAAKAAAAAAEAAAQAAAAAAQAAAAAAAAABAAACAAAAAAEAAAoAAAAAAQAABAAAAAABAAAAAAAAAAEAAAIAAAAAAQAACAAAAAACAAACAAAAAAEAAAoAAAAAAQAABAAAAAABAAAAAAAAAAEAAAIAAAAAAQAACgAAAAABAAAEAAAAAAEAAAAAAAAAAQAAAgAAAAABAAAKAAAAAAEAAAQAAAAAAQAAAAAAAAABAAACAAAAAAEAAAgAAAAAAgAAAgAAAAABAAAKAAAAAAEAAAQAAAAAAQAAAAAAAAABAAACAAAAAAEAAAgAAAAAAgAAAgAAAAABAAAGAAAAAAEAAAIAAAAAAQAACAAAAAACAAACAAAAAAEAAAoAAAAAAQAABAAAAAABAAAAAAAAAAEAAAIAAAAAAQAABgAAAAABAAACAAAAAAEAAAoAAAAAAQAABAAAAAABAAAAAAAAAAEAAAIAAAAAAQAACgAAAAABAAAEAAAAAAEAAAAAAAAAAQAAAgAAAAABAAAKAAAAAAEAAAQAAAAAAQAAAAAAAAABAAACAAAAAAEAAAYAAAAAAQAAAgAAAAACAAAEAAAAAAEAAAYAAAAAAQAAAgAAAAABAAAEAAAAAAEAAAYAAAAAAQAAAgAAAAAcc3RzYwAAAAAAAAABAAAAAQAAAbYAAAABAAAG7HN0c3oAAAAAAAAAAAAAAbYAAAT2AAAAlQAAAFsAAAAyAAAALgAAAKgAAAApAAAAXwAAAEQAAAA7AAAAMwAAAFsAAABAAAAAPgAAADAAAABTAAAARAAAACgAAABKAAAAbgAAACUAAAAxAAAAGAAAAEYAAAAlAAAALAAAABUAAABCAAAAOwAAADQAAAA8AAAALAAAAFYAAAA+AAAAhwAAADwAAAA2AAAATwAAAEAAAAAjAAAAGwAAAHkAAAAuAAAAIQAAACEAAABuAAAAMAAAACIAAAAyAAAARwAAADYAAAAsAAAALwAAAFYAAABWAAAAPAAAADgAAABmAAAASwAAADMAAAAkAAAALgAAAHEAAABHAAAALgAAAD0AAABcAAAAKgAAACUAAAAnAAAAQgAAAD4AAAAeAAAAFgAAAKIAAAAwAAAAFwAAACwAAAB/AAAAPQAAACAAAAAhAAAALgAAAEUAAAAkAAAAIwAAAGgAAABYAAAAQAAAAC4AAABXAAAAOwAAACEAAAAaAAAAhAAAAEMAAAAZAAAAXAAAAEUAAAA6AAAAQAAAADQAAAAiAAAAGAAAAIgAAABJAAAAPQAAADsAAACOAAAAIQAAAB0AAAAVAAAAbQAAAE0AAAA5AAAAKQAAAFAAAAAyAAAALgAAADEAAABaAAAALgAAABwAAAAcAAAAgAAAACUAAAAdAAAALQAAAGIAAAA8AAAALQAAAEIAAABpAAAAMwAAACEAAAAaAAAANgAAAEEAAAAzAAAAMAAAAGYAAAA+AAAAOwAAAD8AAABmAAAAKQAAABoAAAAjAAAANgAAAB4AAAAaAAAAGgAAAFAAAAA1AAAASgAAAB0AAACBAAAAJgAAACEAAAAaAAAAbQAAAEAAAAA4AAAATQAAAI4AAAAlAAAAHQAAAB4AAABkAAAAXAAAADsAAAA0AAAAVAAAACcAAAAeAAAAHAAAAH4AAAApAAAANQAAAB0AAACFAAAAQgAAADkAAABJAAAAQwAAADkAAAAgAAAANQAAAEgAAABDAAAAOAAAAB4AAAA+AAAALwAAABcAAAAtAAAAdQAAADAAAAAdAAAAFwAAAE4AAAAzAAAAOgAAAB8AAABLAAAALgAAACsAAAA1AAAAMgAAAC4AAAAyAAAAGgAAAE0AAAA8AAAAQwAAABUAAABFAAAAJwAAABcAAAAfAAAAZgAAACsAAAAfAAAAFgAAAD0AAAAwAAAAJQAAAB0AAAB6AAAAQAAAABgAAAA4AAAARwAAACkAAAAWAAAAGgAAAEkAAAAmAAAAIgAAABcAAABLAAAANAAAADQAAAAgAAAAbAAAAC4AAAAXAAAAOgAAAEIAAAAYAAACJAAAAH4AAABEAAAAOQAAAC8AAAB5AAAAQAAAADUAAAAwAAAAewAAAD8AAAAeAAAAIgAAAE0AAAA5AAAAPAAAADIAAAA5AAAAJQAAACEAAAAaAAAAXQAAAD8AAAAtAAAAKAAAAE0AAAAlAAAAOAAAABMAAACUAAAAIgAAADYAAAAbAAAAaAAAACcAAAA7AAAAGQAAAGwAAABPAAAANgAAADcAAAAxAAAAPAAAACwAAAAxAAAAYgAAAEgAAAA3AAAAKQAAAEEAAAAtAAAAMAAAABQAAABKAAAAIAAAADMAAAAUAAAAdwAAACgAAAA1AAAAHAAAAIYAAAApAAAAMgAAACoAAABFAAAAJAAAABcAAAAhAAAASwAAACMAAAATAAAANgAAAFIAAABJAAAAIAAAAC4AAAB2AAAAQAAAACUAAAA0AAAAbwAAAC4AAAAtAAAAMQAAAJUAAABJAAAAQAAAACwAAACGAAAATgAAAE0AAAA7AAAAewAAAEQAAAA8AAAASQAAAI4AAABTAAAAQgAAADAAAACeAAAAVQAAADkAAABOAAAAdwAAAF4AAAA3AAAAOQAAAGUAAABCAAAAjQAAAFoAAAA6AAAAPAAAAHQAAABhAAAAMAAAAEkAAACOAAAAVgAAADIAAABDAAAAigAAAEUAAABiAAAATAAAAG4AAAA7AAAAUAAAAGUAAABxAAAAVwAAAFMAAACdAAAAbQAAAE0AAABXAAAAdQAAAGMAAABPAAAATgAAALYAAABhAAAARQAAAFAAAACSAAAAawAAAF8AAACUAAAAPwAAAGsAAABWAAAAZgAAAEkAAABgAAAAkwAAAGEAAACUAAAAQgAAADIAAACjAAAASAAAAGIAAABMAAAAbgAAAGgAAACkAAAARAAAAHEAAABnAAAAwAAAAFMAAABLAAAAagAAANMAAAB4AAAAWQAAAGgAAACyAAAAWAAAAJgAAACoAAAApgAAAFYAAACkAAAAoQAAAEEAAAAUc3RjbwAAAAAAAAABAAAAMAAAAGJ1ZHRhAAAAWm1ldGEAAAAAAAAAIWhkbHIAAAAAAAAAAG1kaXJhcHBsAAAAAAAAAAAAAAAALWlsc3QAAAAlqXRvbwAAAB1kYXRhAAAAAQAAAABMYXZmNTcuODMuMTAw\" type=\"video/mp4\" />\n",
              "        </video>"
            ]
          },
          "metadata": {},
          "execution_count": 16
        }
      ],
      "source": [
        "matplotlib.use('Agg') \n",
        "saved_cartpole = mdl.lab3.save_video_of_model(cartpole_model, \"CartPole-v1\")\n",
        "mdl.lab3.play_video(saved_cartpole)"
      ]
    },
    {
      "cell_type": "markdown",
      "metadata": {
        "id": "CSbVNDpaVb3_"
      },
      "source": [
        "How does the agent perform? Could you train it for shorter amounts of time and still perform well? Do you think that training longer would help even more? "
      ]
    },
    {
      "cell_type": "markdown",
      "metadata": {
        "id": "Eu6Mqxc720ST"
      },
      "source": [
        "# Part 2: Training Autonomous Driving Policies in VISTA\n",
        "Autonomous control has traditionally be dominated by algorithms that explicitly decompose individual aspects of the control pipeline. For example, in autonomous driving, traditional methods work by first detecting road and lane boundaries, and then using path planning and rule-based methods to derive a control policy. Deep learning offers something very different -- the possibility of optimizing all these steps simultaneously, learning control end-to-end directly from raw sensory inputs.\n",
        "\n",
        "**You will explore the power of deep learning to learn autonomous control policies that are trained *end-to-end, directly from raw sensory data, and entirely within a simulated world*.**\n",
        "\n",
        "We will use the data-driven simulation engine [VISTA](https://ieeexplore.ieee.org/stamp/stamp.jsp?arnumber=8957584&tag=1), which uses techniques in computer vision to synthesize new photorealistic trajectories and driving viewpoints, that are still consistent with the world's appearance and fall within the envelope of a real driving scene. This is a powerful approach -- we can synthesize data that is photorealistic, grounded in the real world, and then use this data for training and testing autonomous vehicle control policies within this simulator.\n",
        "\n",
        "In this part of the lab, you will use reinforcement lerning to build a self-driving agent with a neural network-based controller trained on RGB camera data. We will train the self-driving agent for the task of lane following. Beyond this data modality and control task, VISTA also supports [different data modalities](https://arxiv.org/pdf/2111.12083.pdf) (such as LiDAR data) and [different learning tasks](https://arxiv.org/pdf/2111.12137.pdf) (such as multi-car interactions).\n",
        "<p align=\"center\">\n",
        "<img src=\"https://raw.githubusercontent.com/aamini/introtodeeplearning/master/lab3/img/vista_overview.png\" width=\"600\"/>\n",
        "</p>\n",
        "\n",
        "\n",
        "You will put your agent to the test in the VISTA environment, and potentially, on board a full-scale autonomous vehicle! Specifically, as part of the MIT lab competitions, high-performing agents -- evaluated based on the maximum distance they can travel without crashing -- will have the opportunity to be put to the ***real*** test onboard a full-scale autonomous vehicle!!! \n",
        "\n",
        "We start by installing dependencies. This includes installing the VISTA package itself."
      ]
    },
    {
      "cell_type": "code",
      "source": [
        "!pip install --upgrade git+https://github.com/vista-simulator/vista-6s191.git"
      ],
      "metadata": {
        "id": "WKWcagMpRLIB",
        "outputId": "ab8b4ec1-72f0-47fa-c9c2-075426cf5c6e",
        "colab": {
          "base_uri": "https://localhost:8080/"
        }
      },
      "execution_count": 17,
      "outputs": [
        {
          "output_type": "stream",
          "name": "stdout",
          "text": [
            "Looking in indexes: https://pypi.org/simple, https://us-python.pkg.dev/colab-wheels/public/simple/\n",
            "Collecting git+https://github.com/vista-simulator/vista-6s191.git\n",
            "  Cloning https://github.com/vista-simulator/vista-6s191.git to /tmp/pip-req-build-gupzwmae\n",
            "  Running command git clone -q https://github.com/vista-simulator/vista-6s191.git /tmp/pip-req-build-gupzwmae\n",
            "Building wheels for collected packages: vista\n",
            "  Building wheel for vista (setup.py) ... \u001b[?25l\u001b[?25hdone\n",
            "  Created wheel for vista: filename=vista-0.1.0-py3-none-any.whl size=71732 sha256=fe8593bbeeae902c32c121e42fadbf7fd078aeabea22c2e2a95743ef9f9500fc\n",
            "  Stored in directory: /tmp/pip-ephem-wheel-cache-rbj3zx7u/wheels/ff/19/49/f129fb1af9a79d6833e2ba58a5e217487643c11d6f041d7419\n",
            "Successfully built vista\n",
            "Installing collected packages: vista\n",
            "Successfully installed vista-0.1.0\n"
          ]
        }
      ]
    },
    {
      "cell_type": "code",
      "source": [
        "!pip install vista"
      ],
      "metadata": {
        "id": "r-cM8Xm54MNX",
        "outputId": "74c863c2-30ca-4f1c-fab1-6653beea45e6",
        "colab": {
          "base_uri": "https://localhost:8080/"
        }
      },
      "execution_count": 20,
      "outputs": [
        {
          "output_type": "stream",
          "name": "stdout",
          "text": [
            "Looking in indexes: https://pypi.org/simple, https://us-python.pkg.dev/colab-wheels/public/simple/\n",
            "Requirement already satisfied: vista in /usr/local/lib/python3.7/dist-packages (0.1.0)\n"
          ]
        }
      ]
    },
    {
      "cell_type": "code",
      "source": [
        "import vista\n",
        "from vista.utils import logging\n",
        "logging.setLevel(logging.ERROR)"
      ],
      "metadata": {
        "id": "ByV6c5GKTgHq"
      },
      "execution_count": 21,
      "outputs": []
    },
    {
      "cell_type": "markdown",
      "metadata": {
        "id": "70Vpby5VJ9Bp"
      },
      "source": [
        "VISTA provides some documentation which will be very helpful to completing this lab. You can always use the `?vista` command to access the package documentation."
      ]
    },
    {
      "cell_type": "code",
      "source": [
        "### Access documentation for VISTA\n",
        "### Run ?vista.<[name of module or function]>\n",
        "?vista.Display "
      ],
      "metadata": {
        "id": "-RTw0OK4nTYi"
      },
      "execution_count": 22,
      "outputs": []
    },
    {
      "cell_type": "markdown",
      "source": [
        "## 3.6 Create an environment in VISTA\n",
        "\n",
        "Environments in VISTA are based on and built from human-collected driving *traces*. A trace is the data from a single driving run. In this case we'll be working with RGB camera data, from the viewpoint of the driver looking out at the road: the camera collects this data as the car drives around!\n",
        "\n",
        "We will start by accessing a trace. We use that trace to instantiate an environment within VISTA. This is our `World` and defines the environment we will use for reinforcement learning. The trace itself helps to define a space for the environment; with VISTA, we can use the trace to generate new photorealistic viewpoints anywhere within that space. This provides valuable new training data as well as a robust testing environment.\n",
        "\n",
        "The simulated environment of VISTA will serve as our training ground and testbed for reinforcement learning. We also define an `Agent` -- a car -- that will actually move around in the environmnet, and make and carry out *actions* in this world. Because this is an entirely simulated environment, our car agent will also be simulated!\n",
        "\n"
      ],
      "metadata": {
        "id": "XauFMMZjnYxn"
      }
    },
    {
      "cell_type": "code",
      "source": [
        "!export EGL_DEVICE_ID=1\n",
        "!pip install pyrender"
      ],
      "metadata": {
        "id": "T7vpTl2q5BYU",
        "outputId": "185c1552-e987-49f9-cf9d-6c73957f56f0",
        "colab": {
          "base_uri": "https://localhost:8080/"
        }
      },
      "execution_count": 27,
      "outputs": [
        {
          "output_type": "stream",
          "name": "stdout",
          "text": [
            "Looking in indexes: https://pypi.org/simple, https://us-python.pkg.dev/colab-wheels/public/simple/\n",
            "Requirement already satisfied: pyrender in /usr/local/lib/python3.7/dist-packages (0.1.45)\n",
            "Requirement already satisfied: imageio in /usr/local/lib/python3.7/dist-packages (from pyrender) (2.4.1)\n",
            "Requirement already satisfied: pyglet>=1.4.10 in /usr/local/lib/python3.7/dist-packages (from pyrender) (1.5.0)\n",
            "Requirement already satisfied: six in /usr/local/lib/python3.7/dist-packages (from pyrender) (1.15.0)\n",
            "Requirement already satisfied: PyOpenGL==3.1.0 in /usr/local/lib/python3.7/dist-packages (from pyrender) (3.1.0)\n",
            "Requirement already satisfied: trimesh in /usr/local/lib/python3.7/dist-packages (from pyrender) (3.12.3)\n",
            "Requirement already satisfied: freetype-py in /usr/local/lib/python3.7/dist-packages (from pyrender) (2.3.0)\n",
            "Requirement already satisfied: numpy in /usr/local/lib/python3.7/dist-packages (from pyrender) (1.21.6)\n",
            "Requirement already satisfied: Pillow in /usr/local/lib/python3.7/dist-packages (from pyrender) (7.1.2)\n",
            "Requirement already satisfied: scipy in /usr/local/lib/python3.7/dist-packages (from pyrender) (1.4.1)\n",
            "Requirement already satisfied: networkx in /usr/local/lib/python3.7/dist-packages (from pyrender) (2.6.3)\n",
            "Requirement already satisfied: future in /usr/local/lib/python3.7/dist-packages (from pyglet>=1.4.10->pyrender) (0.16.0)\n"
          ]
        }
      ]
    },
    {
      "cell_type": "code",
      "execution_count": 28,
      "metadata": {
        "scrolled": true,
        "id": "JrTpTBJsJ9Bp",
        "outputId": "356947b2-6c30-4b13-c905-c0bdd18fe77b",
        "colab": {
          "base_uri": "https://localhost:8080/",
          "height": 603
        }
      },
      "outputs": [
        {
          "output_type": "stream",
          "name": "stdout",
          "text": [
            "Unzipping data...\n",
            "Done downloading and unzipping data!\n"
          ]
        },
        {
          "output_type": "error",
          "ename": "GLError",
          "evalue": "ignored",
          "traceback": [
            "\u001b[0;31m---------------------------------------------------------------------------\u001b[0m",
            "\u001b[0;31mGLError\u001b[0m                                   Traceback (most recent call last)",
            "\u001b[0;32m<ipython-input-28-4568a7e313fe>\u001b[0m in \u001b[0;36m<module>\u001b[0;34m()\u001b[0m\n\u001b[1;32m     29\u001b[0m \u001b[0;34m\u001b[0m\u001b[0m\n\u001b[1;32m     30\u001b[0m \u001b[0;31m# Create a camera on the car for synthesizing the sensor data that we can use to train with!\u001b[0m\u001b[0;34m\u001b[0m\u001b[0;34m\u001b[0m\u001b[0;34m\u001b[0m\u001b[0m\n\u001b[0;32m---> 31\u001b[0;31m \u001b[0mcamera\u001b[0m \u001b[0;34m=\u001b[0m \u001b[0mcar\u001b[0m\u001b[0;34m.\u001b[0m\u001b[0mspawn_camera\u001b[0m\u001b[0;34m(\u001b[0m\u001b[0mconfig\u001b[0m\u001b[0;34m=\u001b[0m\u001b[0;34m{\u001b[0m\u001b[0;34m'size'\u001b[0m\u001b[0;34m:\u001b[0m \u001b[0;34m(\u001b[0m\u001b[0;36m200\u001b[0m\u001b[0;34m,\u001b[0m \u001b[0;36m320\u001b[0m\u001b[0;34m)\u001b[0m\u001b[0;34m}\u001b[0m\u001b[0;34m)\u001b[0m\u001b[0;34m\u001b[0m\u001b[0;34m\u001b[0m\u001b[0m\n\u001b[0m\u001b[1;32m     32\u001b[0m \u001b[0;34m\u001b[0m\u001b[0m\n\u001b[1;32m     33\u001b[0m \u001b[0;31m# Define a rendering display so we can visualize the simulated car camera stream and also\u001b[0m\u001b[0;34m\u001b[0m\u001b[0;34m\u001b[0m\u001b[0;34m\u001b[0m\u001b[0m\n",
            "\u001b[0;32m/usr/local/lib/python3.7/dist-packages/vista/entities/agents/Car.py\u001b[0m in \u001b[0;36mspawn_camera\u001b[0;34m(self, config)\u001b[0m\n\u001b[1;32m    116\u001b[0m         \u001b[0mname\u001b[0m \u001b[0;34m=\u001b[0m \u001b[0mconfig\u001b[0m\u001b[0;34m.\u001b[0m\u001b[0mget\u001b[0m\u001b[0;34m(\u001b[0m\u001b[0;34m'name'\u001b[0m\u001b[0;34m,\u001b[0m \u001b[0;32mNone\u001b[0m\u001b[0;34m)\u001b[0m\u001b[0;34m\u001b[0m\u001b[0;34m\u001b[0m\u001b[0m\n\u001b[1;32m    117\u001b[0m         \u001b[0mlogging\u001b[0m\u001b[0;34m.\u001b[0m\u001b[0minfo\u001b[0m\u001b[0;34m(\u001b[0m\u001b[0;34mf'Spawn a new camera {name} in car ({self.id})'\u001b[0m\u001b[0;34m)\u001b[0m\u001b[0;34m\u001b[0m\u001b[0;34m\u001b[0m\u001b[0m\n\u001b[0;32m--> 118\u001b[0;31m         \u001b[0mcam\u001b[0m \u001b[0;34m=\u001b[0m \u001b[0mCamera\u001b[0m\u001b[0;34m(\u001b[0m\u001b[0mattach_to\u001b[0m\u001b[0;34m=\u001b[0m\u001b[0mself\u001b[0m\u001b[0;34m,\u001b[0m \u001b[0mconfig\u001b[0m\u001b[0;34m=\u001b[0m\u001b[0mconfig\u001b[0m\u001b[0;34m)\u001b[0m\u001b[0;34m\u001b[0m\u001b[0;34m\u001b[0m\u001b[0m\n\u001b[0m\u001b[1;32m    119\u001b[0m         \u001b[0mself\u001b[0m\u001b[0;34m.\u001b[0m\u001b[0m_sensors\u001b[0m\u001b[0;34m.\u001b[0m\u001b[0mappend\u001b[0m\u001b[0;34m(\u001b[0m\u001b[0mcam\u001b[0m\u001b[0;34m)\u001b[0m\u001b[0;34m\u001b[0m\u001b[0;34m\u001b[0m\u001b[0m\n\u001b[1;32m    120\u001b[0m \u001b[0;34m\u001b[0m\u001b[0m\n",
            "\u001b[0;32m/usr/local/lib/python3.7/dist-packages/vista/entities/sensors/Camera.py\u001b[0m in \u001b[0;36m__init__\u001b[0;34m(self, attach_to, config)\u001b[0m\n\u001b[1;32m     68\u001b[0m         \u001b[0;32mif\u001b[0m \u001b[0mself\u001b[0m\u001b[0;34m.\u001b[0m\u001b[0m_config\u001b[0m\u001b[0;34m.\u001b[0m\u001b[0mget\u001b[0m\u001b[0;34m(\u001b[0m\u001b[0;34m'use_synthesizer'\u001b[0m\u001b[0;34m,\u001b[0m \u001b[0;32mTrue\u001b[0m\u001b[0;34m)\u001b[0m\u001b[0;34m:\u001b[0m\u001b[0;34m\u001b[0m\u001b[0;34m\u001b[0m\u001b[0m\n\u001b[1;32m     69\u001b[0m             self._view_synthesis: ViewSynthesis = ViewSynthesis(\n\u001b[0;32m---> 70\u001b[0;31m                 self._virtual_cam, self._config)\n\u001b[0m\u001b[1;32m     71\u001b[0m         \u001b[0;32melse\u001b[0m\u001b[0;34m:\u001b[0m\u001b[0;34m\u001b[0m\u001b[0;34m\u001b[0m\u001b[0m\n\u001b[1;32m     72\u001b[0m             \u001b[0mself\u001b[0m\u001b[0;34m.\u001b[0m\u001b[0m_view_synthesis\u001b[0m \u001b[0;34m=\u001b[0m \u001b[0;32mNone\u001b[0m\u001b[0;34m\u001b[0m\u001b[0;34m\u001b[0m\u001b[0m\n",
            "\u001b[0;32m/usr/local/lib/python3.7/dist-packages/vista/entities/sensors/camera_utils/ViewSynthesis.py\u001b[0m in \u001b[0;36m__init__\u001b[0;34m(self, camera_param, config, init_with_bg_mesh)\u001b[0m\n\u001b[1;32m     54\u001b[0m         \u001b[0;31m# Renderer and scene\u001b[0m\u001b[0;34m\u001b[0m\u001b[0;34m\u001b[0m\u001b[0;34m\u001b[0m\u001b[0m\n\u001b[1;32m     55\u001b[0m         self._renderer = pyrender.OffscreenRenderer(\n\u001b[0;32m---> 56\u001b[0;31m             self._camera_param.get_width(), self._camera_param.get_height())\n\u001b[0m\u001b[1;32m     57\u001b[0m         self._scene = pyrender.Scene(ambient_light=[1., 1., 1.],\n\u001b[1;32m     58\u001b[0m                                      bg_color=[0, 0, 0])\n",
            "\u001b[0;32m/usr/local/lib/python3.7/dist-packages/pyrender/offscreen.py\u001b[0m in \u001b[0;36m__init__\u001b[0;34m(self, viewport_width, viewport_height, point_size)\u001b[0m\n\u001b[1;32m     29\u001b[0m         \u001b[0mself\u001b[0m\u001b[0;34m.\u001b[0m\u001b[0m_platform\u001b[0m \u001b[0;34m=\u001b[0m \u001b[0;32mNone\u001b[0m\u001b[0;34m\u001b[0m\u001b[0;34m\u001b[0m\u001b[0m\n\u001b[1;32m     30\u001b[0m         \u001b[0mself\u001b[0m\u001b[0;34m.\u001b[0m\u001b[0m_renderer\u001b[0m \u001b[0;34m=\u001b[0m \u001b[0;32mNone\u001b[0m\u001b[0;34m\u001b[0m\u001b[0;34m\u001b[0m\u001b[0m\n\u001b[0;32m---> 31\u001b[0;31m         \u001b[0mself\u001b[0m\u001b[0;34m.\u001b[0m\u001b[0m_create\u001b[0m\u001b[0;34m(\u001b[0m\u001b[0;34m)\u001b[0m\u001b[0;34m\u001b[0m\u001b[0;34m\u001b[0m\u001b[0m\n\u001b[0m\u001b[1;32m     32\u001b[0m \u001b[0;34m\u001b[0m\u001b[0m\n\u001b[1;32m     33\u001b[0m     \u001b[0;34m@\u001b[0m\u001b[0mproperty\u001b[0m\u001b[0;34m\u001b[0m\u001b[0;34m\u001b[0m\u001b[0m\n",
            "\u001b[0;32m/usr/local/lib/python3.7/dist-packages/pyrender/offscreen.py\u001b[0m in \u001b[0;36m_create\u001b[0;34m(self)\u001b[0m\n\u001b[1;32m    147\u001b[0m                 \u001b[0mos\u001b[0m\u001b[0;34m.\u001b[0m\u001b[0menviron\u001b[0m\u001b[0;34m[\u001b[0m\u001b[0;34m'PYOPENGL_PLATFORM'\u001b[0m\u001b[0;34m]\u001b[0m\u001b[0;34m\u001b[0m\u001b[0;34m\u001b[0m\u001b[0m\n\u001b[1;32m    148\u001b[0m             ))\n\u001b[0;32m--> 149\u001b[0;31m         \u001b[0mself\u001b[0m\u001b[0;34m.\u001b[0m\u001b[0m_platform\u001b[0m\u001b[0;34m.\u001b[0m\u001b[0minit_context\u001b[0m\u001b[0;34m(\u001b[0m\u001b[0;34m)\u001b[0m\u001b[0;34m\u001b[0m\u001b[0;34m\u001b[0m\u001b[0m\n\u001b[0m\u001b[1;32m    150\u001b[0m         \u001b[0mself\u001b[0m\u001b[0;34m.\u001b[0m\u001b[0m_platform\u001b[0m\u001b[0;34m.\u001b[0m\u001b[0mmake_current\u001b[0m\u001b[0;34m(\u001b[0m\u001b[0;34m)\u001b[0m\u001b[0;34m\u001b[0m\u001b[0;34m\u001b[0m\u001b[0m\n\u001b[1;32m    151\u001b[0m         \u001b[0mself\u001b[0m\u001b[0;34m.\u001b[0m\u001b[0m_renderer\u001b[0m \u001b[0;34m=\u001b[0m \u001b[0mRenderer\u001b[0m\u001b[0;34m(\u001b[0m\u001b[0mself\u001b[0m\u001b[0;34m.\u001b[0m\u001b[0mviewport_width\u001b[0m\u001b[0;34m,\u001b[0m \u001b[0mself\u001b[0m\u001b[0;34m.\u001b[0m\u001b[0mviewport_height\u001b[0m\u001b[0;34m)\u001b[0m\u001b[0;34m\u001b[0m\u001b[0;34m\u001b[0m\u001b[0m\n",
            "\u001b[0;32m/usr/local/lib/python3.7/dist-packages/pyrender/platforms/egl.py\u001b[0m in \u001b[0;36minit_context\u001b[0;34m(self)\u001b[0m\n\u001b[1;32m    190\u001b[0m \u001b[0;34m\u001b[0m\u001b[0m\n\u001b[1;32m    191\u001b[0m         \u001b[0;31m# Make it current\u001b[0m\u001b[0;34m\u001b[0m\u001b[0;34m\u001b[0m\u001b[0;34m\u001b[0m\u001b[0m\n\u001b[0;32m--> 192\u001b[0;31m         \u001b[0mself\u001b[0m\u001b[0;34m.\u001b[0m\u001b[0mmake_current\u001b[0m\u001b[0;34m(\u001b[0m\u001b[0;34m)\u001b[0m\u001b[0;34m\u001b[0m\u001b[0;34m\u001b[0m\u001b[0m\n\u001b[0m\u001b[1;32m    193\u001b[0m \u001b[0;34m\u001b[0m\u001b[0m\n\u001b[1;32m    194\u001b[0m     \u001b[0;32mdef\u001b[0m \u001b[0mmake_current\u001b[0m\u001b[0;34m(\u001b[0m\u001b[0mself\u001b[0m\u001b[0;34m)\u001b[0m\u001b[0;34m:\u001b[0m\u001b[0;34m\u001b[0m\u001b[0;34m\u001b[0m\u001b[0m\n",
            "\u001b[0;32m/usr/local/lib/python3.7/dist-packages/pyrender/platforms/egl.py\u001b[0m in \u001b[0;36mmake_current\u001b[0;34m(self)\u001b[0m\n\u001b[1;32m    196\u001b[0m         assert eglMakeCurrent(\n\u001b[1;32m    197\u001b[0m             \u001b[0mself\u001b[0m\u001b[0;34m.\u001b[0m\u001b[0m_egl_display\u001b[0m\u001b[0;34m,\u001b[0m \u001b[0mEGL_NO_SURFACE\u001b[0m\u001b[0;34m,\u001b[0m \u001b[0mEGL_NO_SURFACE\u001b[0m\u001b[0;34m,\u001b[0m\u001b[0;34m\u001b[0m\u001b[0;34m\u001b[0m\u001b[0m\n\u001b[0;32m--> 198\u001b[0;31m             \u001b[0mself\u001b[0m\u001b[0;34m.\u001b[0m\u001b[0m_egl_context\u001b[0m\u001b[0;34m\u001b[0m\u001b[0;34m\u001b[0m\u001b[0m\n\u001b[0m\u001b[1;32m    199\u001b[0m         )\n\u001b[1;32m    200\u001b[0m \u001b[0;34m\u001b[0m\u001b[0m\n",
            "\u001b[0;32m/usr/local/lib/python3.7/dist-packages/OpenGL/error.py\u001b[0m in \u001b[0;36mglCheckError\u001b[0;34m(self, result, baseOperation, cArguments, *args)\u001b[0m\n\u001b[1;32m    230\u001b[0m                         \u001b[0mresult\u001b[0m\u001b[0;34m,\u001b[0m\u001b[0;34m\u001b[0m\u001b[0;34m\u001b[0m\u001b[0m\n\u001b[1;32m    231\u001b[0m                         \u001b[0mcArguments\u001b[0m \u001b[0;34m=\u001b[0m \u001b[0mcArguments\u001b[0m\u001b[0;34m,\u001b[0m\u001b[0;34m\u001b[0m\u001b[0;34m\u001b[0m\u001b[0m\n\u001b[0;32m--> 232\u001b[0;31m                         \u001b[0mbaseOperation\u001b[0m \u001b[0;34m=\u001b[0m \u001b[0mbaseOperation\u001b[0m\u001b[0;34m,\u001b[0m\u001b[0;34m\u001b[0m\u001b[0;34m\u001b[0m\u001b[0m\n\u001b[0m\u001b[1;32m    233\u001b[0m                     )\n\u001b[1;32m    234\u001b[0m                 \u001b[0;32mreturn\u001b[0m \u001b[0mresult\u001b[0m\u001b[0;34m\u001b[0m\u001b[0;34m\u001b[0m\u001b[0m\n",
            "\u001b[0;31mGLError\u001b[0m: GLError(\n\terr = 12290,\n\tbaseOperation = eglMakeCurrent,\n\tcArguments = (\n\t\t<OpenGL._opaque.EGLDisplay_pointer object at 0x7fc67e220b90>,\n\t\t<OpenGL._opaque.EGLSurface_pointer object at 0x7fc68397a680>,\n\t\t<OpenGL._opaque.EGLSurface_pointer object at 0x7fc68397a680>,\n\t\t<OpenGL._opaque.EGLContext_pointer object at 0x7fc67e220e60>,\n\t),\n\tresult = 0\n)"
          ]
        }
      ],
      "source": [
        "# Download and extract the data for vista (auto-skip if already downloaded)\n",
        "!wget -nc -q --show-progress https://www.dropbox.com/s/62pao4mipyzk3xu/vista_traces.zip\n",
        "print(\"Unzipping data...\")\n",
        "!unzip -o -q vista_traces.zip\n",
        "print(\"Done downloading and unzipping data!\")\n",
        "\n",
        "trace_root = \"./vista_traces\"\n",
        "trace_path = [\n",
        "    \"20210726-154641_lexus_devens_center\", \n",
        "    \"20210726-155941_lexus_devens_center_reverse\", \n",
        "    \"20210726-184624_lexus_devens_center\", \n",
        "    \"20210726-184956_lexus_devens_center_reverse\", \n",
        "]\n",
        "trace_path = [os.path.join(trace_root, p) for p in trace_path]\n",
        "\n",
        "# Create a virtual world with VISTA, the world is defined by a series of data traces\n",
        "world = vista.World(trace_path, trace_config={'road_width': 4})\n",
        "\n",
        "# Create a car in our virtual world. The car will be able to step and take different \n",
        "#   control actions. As the car moves, its sensors will simulate any changes it environment\n",
        "car = world.spawn_agent(\n",
        "    config={\n",
        "        'length': 5.,\n",
        "        'width': 2.,\n",
        "        'wheel_base': 2.78,\n",
        "        'steering_ratio': 14.7,\n",
        "        'lookahead_road': True\n",
        "    })\n",
        "\n",
        "# Create a camera on the car for synthesizing the sensor data that we can use to train with! \n",
        "camera = car.spawn_camera(config={'size': (200, 320)})\n",
        "\n",
        "# Define a rendering display so we can visualize the simulated car camera stream and also \n",
        "#   get see its physical location with respect to the road in its environment. \n",
        "display = vista.Display(world, display_config={\"gui_scale\": 2, \"vis_full_frame\": False})\n",
        "\n",
        "# Define a simple helper function that allows us to reset VISTA and the rendering display\n",
        "def vista_reset():\n",
        "    world.reset()\n",
        "    display.reset()\n",
        "vista_reset()"
      ]
    },
    {
      "cell_type": "markdown",
      "source": [
        "If successful, you should see a blank black screen at this point. Your rendering display has  been initialized."
      ],
      "metadata": {
        "id": "aa3sA9FKndIx"
      }
    },
    {
      "cell_type": "markdown",
      "source": [
        "## 3.7 Our virtual agent: the car\n",
        "\n",
        "Our goal is to learn a control policy for our agent, our (hopefully) autonomous vehicle, end-to-end directly from RGB camera sensory input. As in Cartpole, we need to define how our virtual agent will interact with its environment.\n",
        "\n",
        "### Define agent's action functions\n",
        "In the case of driving, the car agent can act -- taking a step in the VISTA environment -- according to a given control command. This amounts to moving with a desired speed and a desired *curvature*, which reflects the car's turn radius. Curvature has units $\\frac{1}{meter}$. So, if a car is traversing a circle of radius $r$ meters, then it is turning with a curvature $\\frac{1}{r}$. The curvature is therefore correlated with the car's steering wheel angle, which actually controls its turn radius. Let's define the car agent's step function to capture the action of moving with a desired speed and desired curvature."
      ],
      "metadata": {
        "id": "rNzwTTwzngQH"
      }
    },
    {
      "cell_type": "code",
      "execution_count": 29,
      "metadata": {
        "id": "ZjFecj3WJ9Bp"
      },
      "outputs": [],
      "source": [
        "# First we define a step function, to allow our virtual agent to step \n",
        "# with a given control command through the environment \n",
        "# agent can act with a desired curvature (turning radius, like steering angle)\n",
        "# and desired speed. if either is not provided then this step function will \n",
        "# use whatever the human executed at that time in the real data.\n",
        "\n",
        "def vista_step(curvature=None, speed=None):\n",
        "    # Arguments:\n",
        "    #   curvature: curvature to step with\n",
        "    #   speed: speed to step with\n",
        "    if curvature is None: \n",
        "        curvature = car.trace.f_curvature(car.timestamp)\n",
        "    if speed is None: \n",
        "        speed = car.trace.f_speed(car.timestamp)\n",
        "    \n",
        "    car.step_dynamics(action=np.array([curvature, speed]), dt=1/15.)\n",
        "    car.step_sensors()"
      ]
    },
    {
      "cell_type": "markdown",
      "metadata": {
        "id": "aRmV3GtkJ9Bp"
      },
      "source": [
        "### Inspect driving trajectories in VISTA\n",
        "\n",
        "Recall that our VISTA environment is based off an initial human-collected driving trace. Also, we defined the agent's step function to defer to what the human executed if it is not provided with a desired speed and curvature with which to move.\n",
        "\n",
        "Thus, we can further inspect our environment by using the step function for the driving agent to move through the environment by following the human path. The stepping and iteration will take about 1 iteration per second. We will then observe the data that comes out to see the agent's traversal of the environment."
      ]
    },
    {
      "cell_type": "code",
      "execution_count": 30,
      "metadata": {
        "id": "rp8G7eirJ9Bp"
      },
      "outputs": [],
      "source": [
        "import shutil, os, subprocess, cv2\n",
        "\n",
        "# Create a simple helper class that will assist us in storing videos of the render\n",
        "class VideoStream():\n",
        "    def __init__(self):\n",
        "        self.tmp = \"./tmp\"\n",
        "        if os.path.exists(self.tmp) and os.path.isdir(self.tmp):\n",
        "            shutil.rmtree(self.tmp)\n",
        "        os.mkdir(self.tmp)\n",
        "    def write(self, image, index):\n",
        "        cv2.imwrite(os.path.join(self.tmp, f\"{index:04}.png\"), image)\n",
        "    def save(self, fname):\n",
        "        cmd = f\"/usr/bin/ffmpeg -f image2 -i {self.tmp}/%04d.png -crf 0 -y {fname}\"\n",
        "        subprocess.call(cmd, shell=True)\n",
        "        "
      ]
    },
    {
      "cell_type": "code",
      "execution_count": 31,
      "metadata": {
        "scrolled": true,
        "id": "MlC5t0dyJ9Bq",
        "outputId": "69f40e0d-c5eb-492e-936d-c27687d0000a",
        "colab": {
          "base_uri": "https://localhost:8080/",
          "height": 240
        }
      },
      "outputs": [
        {
          "output_type": "error",
          "ename": "NameError",
          "evalue": "ignored",
          "traceback": [
            "\u001b[0;31m---------------------------------------------------------------------------\u001b[0m",
            "\u001b[0;31mNameError\u001b[0m                                 Traceback (most recent call last)",
            "\u001b[0;32m<ipython-input-31-221ad19af3ff>\u001b[0m in \u001b[0;36m<module>\u001b[0;34m()\u001b[0m\n\u001b[1;32m      1\u001b[0m \u001b[0;31m## Render and inspect a human trace ##\u001b[0m\u001b[0;34m\u001b[0m\u001b[0;34m\u001b[0m\u001b[0;34m\u001b[0m\u001b[0m\n\u001b[1;32m      2\u001b[0m \u001b[0;34m\u001b[0m\u001b[0m\n\u001b[0;32m----> 3\u001b[0;31m \u001b[0mvista_reset\u001b[0m\u001b[0;34m(\u001b[0m\u001b[0;34m)\u001b[0m\u001b[0;34m\u001b[0m\u001b[0;34m\u001b[0m\u001b[0m\n\u001b[0m\u001b[1;32m      4\u001b[0m \u001b[0mstream\u001b[0m \u001b[0;34m=\u001b[0m \u001b[0mVideoStream\u001b[0m\u001b[0;34m(\u001b[0m\u001b[0;34m)\u001b[0m\u001b[0;34m\u001b[0m\u001b[0;34m\u001b[0m\u001b[0m\n\u001b[1;32m      5\u001b[0m \u001b[0;34m\u001b[0m\u001b[0m\n",
            "\u001b[0;31mNameError\u001b[0m: name 'vista_reset' is not defined"
          ]
        }
      ],
      "source": [
        "## Render and inspect a human trace ##\n",
        "\n",
        "vista_reset()\n",
        "stream = VideoStream()\n",
        "\n",
        "for i in tqdm(range(100)):\n",
        "    vista_step()\n",
        "    \n",
        "    # Render and save the display\n",
        "    vis_img = display.render()\n",
        "    stream.write(vis_img[:, :, ::-1], index=i)\n",
        "    if car.done: \n",
        "        break\n",
        "\n",
        "print(\"Saving trajectory of human following...\")\n",
        "stream.save(\"human_follow.mp4\")      \n",
        "mdl.lab3.play_video(\"human_follow.mp4\")"
      ]
    },
    {
      "cell_type": "markdown",
      "source": [
        "Check out the simulated VISTA environment. What do you notice about the environment, the agent, and the setup of the simulation engine? How could these aspects useful for training models?"
      ],
      "metadata": {
        "id": "SCeRDuqV-bye"
      }
    },
    {
      "cell_type": "markdown",
      "metadata": {
        "id": "CvJCRINbJ9Bq"
      },
      "source": [
        "### Define terminal states: crashing! (oh no)\n",
        "\n",
        "Recall from Cartpole, our training episodes ended when the pole toppled, i.e., the agent crashed and failed. Similarly for training vehicle control policies in VISTA, we have to define what a ***crash*** means. We will define a crash as any time the car moves out of its lane or exceeds its maximum rotation. This will define the end of a training episode."
      ]
    },
    {
      "cell_type": "code",
      "execution_count": 32,
      "metadata": {
        "id": "2_6U_VAFJ9Bq"
      },
      "outputs": [],
      "source": [
        "## Define terminal states and crashing conditions ##\n",
        "\n",
        "def check_out_of_lane(car):\n",
        "    distance_from_center = np.abs(car.relative_state.x)\n",
        "    road_width = car.trace.road_width \n",
        "    half_road_width = road_width / 2\n",
        "    return distance_from_center > half_road_width\n",
        "\n",
        "def check_exceed_max_rot(car):\n",
        "    maximal_rotation = np.pi / 10.\n",
        "    current_rotation = np.abs(car.relative_state.yaw)\n",
        "    return current_rotation > maximal_rotation\n",
        "\n",
        "def check_crash(car): \n",
        "    return check_out_of_lane(car) or check_exceed_max_rot(car) or car.done"
      ]
    },
    {
      "cell_type": "markdown",
      "metadata": {
        "id": "YFXUZ8ppJ9Bq"
      },
      "source": [
        "### Quick check: acting with a random control policy\n",
        "\n",
        "At this point, we have (1) an environment; (2) an agent, with a step function. Before we start learning a control policy for our vehicle agent, we start by testing out the behavior of the agent in the virtual world by providing it with a completely random control policy. Naturally we expect that the behavior will not be very robust! Let's take a look."
      ]
    },
    {
      "cell_type": "code",
      "execution_count": 33,
      "metadata": {
        "id": "ZIyI5MqwJ9Bq",
        "outputId": "c9fe30bb-b447-4026-d79e-72c7b1e86a2e",
        "colab": {
          "base_uri": "https://localhost:8080/",
          "height": 240
        }
      },
      "outputs": [
        {
          "output_type": "error",
          "ename": "NameError",
          "evalue": "ignored",
          "traceback": [
            "\u001b[0;31m---------------------------------------------------------------------------\u001b[0m",
            "\u001b[0;31mNameError\u001b[0m                                 Traceback (most recent call last)",
            "\u001b[0;32m<ipython-input-33-475e407a2f04>\u001b[0m in \u001b[0;36m<module>\u001b[0;34m()\u001b[0m\n\u001b[1;32m      6\u001b[0m \u001b[0;34m\u001b[0m\u001b[0m\n\u001b[1;32m      7\u001b[0m \u001b[0;32mfor\u001b[0m \u001b[0m_\u001b[0m \u001b[0;32min\u001b[0m \u001b[0mrange\u001b[0m\u001b[0;34m(\u001b[0m\u001b[0mnum_crashes\u001b[0m\u001b[0;34m)\u001b[0m\u001b[0;34m:\u001b[0m\u001b[0;34m\u001b[0m\u001b[0;34m\u001b[0m\u001b[0m\n\u001b[0;32m----> 8\u001b[0;31m     \u001b[0mvista_reset\u001b[0m\u001b[0;34m(\u001b[0m\u001b[0;34m)\u001b[0m\u001b[0;34m\u001b[0m\u001b[0;34m\u001b[0m\u001b[0m\n\u001b[0m\u001b[1;32m      9\u001b[0m \u001b[0;34m\u001b[0m\u001b[0m\n\u001b[1;32m     10\u001b[0m     \u001b[0;32mwhile\u001b[0m \u001b[0;32mnot\u001b[0m \u001b[0mcheck_crash\u001b[0m\u001b[0;34m(\u001b[0m\u001b[0mcar\u001b[0m\u001b[0;34m)\u001b[0m\u001b[0;34m:\u001b[0m\u001b[0;34m\u001b[0m\u001b[0;34m\u001b[0m\u001b[0m\n",
            "\u001b[0;31mNameError\u001b[0m: name 'vista_reset' is not defined"
          ]
        }
      ],
      "source": [
        "## Behavior with random control policy ##\n",
        "\n",
        "i = 0\n",
        "num_crashes = 5\n",
        "stream = VideoStream()\n",
        "\n",
        "for _ in range(num_crashes):\n",
        "    vista_reset()\n",
        "    \n",
        "    while not check_crash(car):\n",
        "\n",
        "        # Sample a random curvature (between +/- 1/3), keep speed constant\n",
        "        curvature = np.random.uniform(-1/3, 1/3)\n",
        "\n",
        "        # Step the simulated car with the same action\n",
        "        vista_step(curvature=curvature)\n",
        "\n",
        "        # Render and save the display\n",
        "        vis_img = display.render()\n",
        "        stream.write(vis_img[:, :, ::-1], index=i)\n",
        "        i += 1\n",
        "    \n",
        "    print(f\"Car crashed on step {i}\")\n",
        "    for _ in range(5):\n",
        "        stream.write(vis_img[:, :, ::-1], index=i)\n",
        "        i += 1\n",
        "\n",
        "print(\"Saving trajectory with random policy...\")\n",
        "stream.save(\"random_policy.mp4\")\n",
        "mdl.lab3.play_video(\"random_policy.mp4\")"
      ]
    },
    {
      "cell_type": "markdown",
      "metadata": {
        "id": "OL02qW5vJ9Br"
      },
      "source": [
        "## 3.8 Preparing to learn a control policy: data preprocessing\n",
        "\n",
        "So, hopefully you saw that the random control policy was, indeed, not very robust. Yikes. Our overall goal in this lab is to build a self-driving agent using a neural network controller trained entirely in the simulator VISTA. This means that the data used to train and test the self-driving agent will be supplied by VISTA. As a step towards this, we will do some data preprocessing to make it easier for the network to learn from these visual data.\n",
        "\n",
        "Previously we rendered the data with a display as a quick check that the environment was working properly. For training the agent, we will directly access the car's observations, extract Regions Of Interest (ROI) from those observations, crop them out, and use these crops as training data for our self-driving agent controller. Observe both the full observation and the extracted ROI."
      ]
    },
    {
      "cell_type": "code",
      "execution_count": 34,
      "metadata": {
        "id": "4UxX6mk5J9Br",
        "outputId": "9d01d712-b878-4157-b7b3-e02efcb0b273",
        "colab": {
          "base_uri": "https://localhost:8080/",
          "height": 240
        }
      },
      "outputs": [
        {
          "output_type": "error",
          "ename": "NameError",
          "evalue": "ignored",
          "traceback": [
            "\u001b[0;31m---------------------------------------------------------------------------\u001b[0m",
            "\u001b[0;31mNameError\u001b[0m                                 Traceback (most recent call last)",
            "\u001b[0;32m<ipython-input-34-1e419917e48a>\u001b[0m in \u001b[0;36m<module>\u001b[0;34m()\u001b[0m\n\u001b[1;32m      2\u001b[0m \u001b[0;34m\u001b[0m\u001b[0m\n\u001b[1;32m      3\u001b[0m \u001b[0;31m# Directly access the raw sensor observations of the simulated car\u001b[0m\u001b[0;34m\u001b[0m\u001b[0;34m\u001b[0m\u001b[0;34m\u001b[0m\u001b[0m\n\u001b[0;32m----> 4\u001b[0;31m \u001b[0mvista_reset\u001b[0m\u001b[0;34m(\u001b[0m\u001b[0;34m)\u001b[0m\u001b[0;34m\u001b[0m\u001b[0;34m\u001b[0m\u001b[0m\n\u001b[0m\u001b[1;32m      5\u001b[0m \u001b[0mfull_obs\u001b[0m \u001b[0;34m=\u001b[0m \u001b[0mcar\u001b[0m\u001b[0;34m.\u001b[0m\u001b[0mobservations\u001b[0m\u001b[0;34m[\u001b[0m\u001b[0mcamera\u001b[0m\u001b[0;34m.\u001b[0m\u001b[0mname\u001b[0m\u001b[0;34m]\u001b[0m\u001b[0;34m\u001b[0m\u001b[0;34m\u001b[0m\u001b[0m\n\u001b[1;32m      6\u001b[0m \u001b[0mcv2_imshow\u001b[0m\u001b[0;34m(\u001b[0m\u001b[0mfull_obs\u001b[0m\u001b[0;34m)\u001b[0m\u001b[0;34m\u001b[0m\u001b[0;34m\u001b[0m\u001b[0m\n",
            "\u001b[0;31mNameError\u001b[0m: name 'vista_reset' is not defined"
          ]
        }
      ],
      "source": [
        "from google.colab.patches import cv2_imshow\n",
        "\n",
        "# Directly access the raw sensor observations of the simulated car\n",
        "vista_reset()\n",
        "full_obs = car.observations[camera.name]\n",
        "cv2_imshow(full_obs)"
      ]
    },
    {
      "cell_type": "code",
      "source": [
        "## ROIs ##\n",
        "\n",
        "# Crop a smaller region of interest (ROI). This is necessary because: \n",
        "#   1. The full observation will have distortions on the edge as the car deviates from the human\n",
        "#   2. A smaller image of the environment will be easier for our model to learn from\n",
        "region_of_interest = camera.camera_param.get_roi()\n",
        "i1, j1, i2, j2 = region_of_interest\n",
        "cropped_obs = full_obs[i1:i2, j1:j2]\n",
        "cv2_imshow(cropped_obs)"
      ],
      "metadata": {
        "id": "KAH-5uxrbkng",
        "outputId": "b74f99f8-52c5-43b5-96b5-b24bdde9b780",
        "colab": {
          "base_uri": "https://localhost:8080/",
          "height": 240
        }
      },
      "execution_count": 35,
      "outputs": [
        {
          "output_type": "error",
          "ename": "NameError",
          "evalue": "ignored",
          "traceback": [
            "\u001b[0;31m---------------------------------------------------------------------------\u001b[0m",
            "\u001b[0;31mNameError\u001b[0m                                 Traceback (most recent call last)",
            "\u001b[0;32m<ipython-input-35-8cf979d60b22>\u001b[0m in \u001b[0;36m<module>\u001b[0;34m()\u001b[0m\n\u001b[1;32m      4\u001b[0m \u001b[0;31m#   1. The full observation will have distortions on the edge as the car deviates from the human\u001b[0m\u001b[0;34m\u001b[0m\u001b[0;34m\u001b[0m\u001b[0;34m\u001b[0m\u001b[0m\n\u001b[1;32m      5\u001b[0m \u001b[0;31m#   2. A smaller image of the environment will be easier for our model to learn from\u001b[0m\u001b[0;34m\u001b[0m\u001b[0;34m\u001b[0m\u001b[0;34m\u001b[0m\u001b[0m\n\u001b[0;32m----> 6\u001b[0;31m \u001b[0mregion_of_interest\u001b[0m \u001b[0;34m=\u001b[0m \u001b[0mcamera\u001b[0m\u001b[0;34m.\u001b[0m\u001b[0mcamera_param\u001b[0m\u001b[0;34m.\u001b[0m\u001b[0mget_roi\u001b[0m\u001b[0;34m(\u001b[0m\u001b[0;34m)\u001b[0m\u001b[0;34m\u001b[0m\u001b[0;34m\u001b[0m\u001b[0m\n\u001b[0m\u001b[1;32m      7\u001b[0m \u001b[0mi1\u001b[0m\u001b[0;34m,\u001b[0m \u001b[0mj1\u001b[0m\u001b[0;34m,\u001b[0m \u001b[0mi2\u001b[0m\u001b[0;34m,\u001b[0m \u001b[0mj2\u001b[0m \u001b[0;34m=\u001b[0m \u001b[0mregion_of_interest\u001b[0m\u001b[0;34m\u001b[0m\u001b[0;34m\u001b[0m\u001b[0m\n\u001b[1;32m      8\u001b[0m \u001b[0mcropped_obs\u001b[0m \u001b[0;34m=\u001b[0m \u001b[0mfull_obs\u001b[0m\u001b[0;34m[\u001b[0m\u001b[0mi1\u001b[0m\u001b[0;34m:\u001b[0m\u001b[0mi2\u001b[0m\u001b[0;34m,\u001b[0m \u001b[0mj1\u001b[0m\u001b[0;34m:\u001b[0m\u001b[0mj2\u001b[0m\u001b[0;34m]\u001b[0m\u001b[0;34m\u001b[0m\u001b[0;34m\u001b[0m\u001b[0m\n",
            "\u001b[0;31mNameError\u001b[0m: name 'camera' is not defined"
          ]
        }
      ]
    },
    {
      "cell_type": "markdown",
      "metadata": {
        "id": "znxypklaJ9Br"
      },
      "source": [
        "We will group these steps into some helper functions that we can use during training: \n",
        "1. `preprocess`: takes a full observation as input and returns a preprocessed version. This can include whatever preprocessing steps you would like! For example, ROI extraction, cropping, augmentations, and so on. You are welcome to add and modify this function as you seek to optimize your self-driving agent!\n",
        "2. `grab_and_preprocess`: grab the car's current observation (i.e., image view from its perspective), and then call the `preprocess` function on that observation."
      ]
    },
    {
      "cell_type": "code",
      "execution_count": 36,
      "metadata": {
        "id": "7GQY_UwSJ9Br"
      },
      "outputs": [],
      "source": [
        "## Data preprocessing functions ##\n",
        "\n",
        "def preprocess(full_obs):\n",
        "    # Extract ROI\n",
        "    i1, j1, i2, j2 = camera.camera_param.get_roi()\n",
        "    obs = full_obs[i1:i2, j1:j2]\n",
        "    \n",
        "    # Rescale to [0, 1]\n",
        "    obs = obs / 255.\n",
        "    return obs\n",
        "\n",
        "def grab_and_preprocess_obs(car):\n",
        "    full_obs = car.observations[camera.name]\n",
        "    obs = preprocess(full_obs)\n",
        "    return obs"
      ]
    },
    {
      "cell_type": "markdown",
      "metadata": {
        "id": "WAueY4PfJ9Br"
      },
      "source": [
        "## 3.9 Define the self-driving agent and learning algorithm\n",
        "\n",
        "As before, we'll use a neural network to define our agent and output actions that it will take. Fixing the agent's driving speed, we will train this network to predict a curvature -- a continuous value -- that will relate to the car's turn radius. Specifically, define the model to output a prediction of a continuous distribution of curvature, defined by a mean $\\mu$ and standard deviation $\\sigma$. These parameters will define a Normal distribution over curvature.\n",
        "\n",
        "What network architecture do you think would be especially well suited to the task of end-to-end control learning from RGB images? Since our observations are in the form of RGB images, we'll start with a convolutional network. Note that you will be tasked with completing a template CNN architecture for the self-driving car agent -- but you should certainly experiment beyond this template to try to optimize performance!"
      ]
    },
    {
      "cell_type": "code",
      "execution_count": 37,
      "metadata": {
        "id": "f-pAQA7zJ9Br"
      },
      "outputs": [],
      "source": [
        "### Define the self-driving agent ###\n",
        "# Note: we start with a template CNN architecture -- experiment away as you \n",
        "#   try to optimize your agent!\n",
        "\n",
        "# Functionally define layers for convenience\n",
        "# All convolutional layers will have ReLu activation\n",
        "act = tf.keras.activations.swish\n",
        "Conv2D = functools.partial(tf.keras.layers.Conv2D, padding='valid', activation=act)\n",
        "Flatten = tf.keras.layers.Flatten\n",
        "Dense = tf.keras.layers.Dense\n",
        "\n",
        "# Defines a CNN for the self-driving agent\n",
        "def create_driving_model():\n",
        "    model = tf.keras.models.Sequential([\n",
        "        # Convolutional layers\n",
        "        # First, 32 5x5 filters and 2x2 stride\n",
        "        Conv2D(filters=32, kernel_size=5, strides=2),\n",
        "\n",
        "        # TODO: define convolutional layers with 48 5x5 filters and 2x2 stride\n",
        "        Conv2D(filters=48, kernel_size=5, strides=2), # TODO\n",
        "\n",
        "        # TODO: define two convolutional layers with 64 3x3 filters and 2x2 stride\n",
        "        Conv2D(filters=64, kernel_size=3, strides=2), # TODO\n",
        "        Conv2D(filters=64, kernel_size=3, strides=2), # TODO\n",
        "\n",
        "        Flatten(),\n",
        "\n",
        "        # Fully connected layer and output\n",
        "        Dense(units=128, activation=act),\n",
        "        \n",
        "        # TODO: define the output dimension of the last Dense layer. \n",
        "        #    Pay attention to the space the agent needs to act in.\n",
        "        #    Remember that this model is outputing a distribution of *continuous* \n",
        "        #    actions, which take a different shape than discrete actions.\n",
        "        #    How many outputs should there be to define a distribution?'''\n",
        "\n",
        "        Dense(units=2, activation=None) # TODO\n",
        "\n",
        "    ])\n",
        "    return model\n",
        "\n",
        "driving_model = create_driving_model()"
      ]
    },
    {
      "cell_type": "markdown",
      "metadata": {
        "id": "hlyL0HL1J9Bs"
      },
      "source": [
        "Now we will define the learing algorithm which will be used to reinforce good behaviors of the agent and discourage bad behaviours. As with Cartpole, we will use a *policy gradient* method that aims to **maximize** the likelihood of actions that result in large rewards. However, there are some key differences. In Cartpole, the agent's action space was discrete: it could only move left or right. In driving, the agent's action space is continuous: the control network is outputting a curvature, which is a continuous variable. We will define a probability distribution, defined by a mean and variance, over this continuous action space to define the possible actions the self-driving agent can take.\n",
        "\n",
        "You will define three functions that reflect these changes and form the core of the the learning algorithm:\n",
        "1. `run_driving_model`: takes an input image, and outputs a prediction of a continuous distribution of curvature. This will take the form of a Normal distribuion and will be defined using TensorFlow probability's [`tfp.distributions.Normal`](https://www.tensorflow.org/probability/api_docs/python/tfp/distributions/Normal) function, so the model's prediction will include both a mean and variance. Operates on an instance `driving_model` defined above.\n",
        "2. `compute_driving_loss`: computes the loss for a prediction that is in the form of a continuous Normal distribution. Recall as in Cartpole, computing the loss involves multiplying the predicted log probabilities by the discounted rewards. Similar to `compute_loss` in Cartpole.\n",
        "\n",
        "The `train_step` function to use the loss function to execute a training step will be the same as we used in Cartpole! This will have to be executed abov in order for the driving agent to train properly."
      ]
    },
    {
      "cell_type": "code",
      "execution_count": 38,
      "metadata": {
        "id": "-UWhFhToJ9Bs"
      },
      "outputs": [],
      "source": [
        "## The self-driving learning algorithm ##\n",
        "\n",
        "# hyperparameters\n",
        "max_curvature = 1/8. \n",
        "max_std = 0.1 \n",
        "\n",
        "def run_driving_model(image):\n",
        "    # Arguments:\n",
        "    #   image: an input image\n",
        "    # Returns:\n",
        "    #   pred_dist: predicted distribution of control actions \n",
        "    single_image_input = tf.rank(image) == 3  # missing 4th batch dimension\n",
        "    if single_image_input:\n",
        "        image = tf.expand_dims(image, axis=0)\n",
        "\n",
        "    '''TODO: get the prediction of the model given the current observation.'''    \n",
        "    distribution = driving_model(image) # TODO\n",
        "\n",
        "    mu, logsigma = tf.split(distribution, 2, axis=1)\n",
        "    mu = max_curvature * tf.tanh(mu) # conversion\n",
        "    sigma = max_std * tf.sigmoid(logsigma) + 0.005 # conversion\n",
        "    \n",
        "    '''TODO: define the predicted distribution of curvature, given the predicted\n",
        "    mean mu and standard deviation sigma. Use a Normal distribution as defined\n",
        "    in TF probability (hint: tfp.distributions)'''\n",
        "    pred_dist = tfp.distributions.Normal(mu, sigma) # TODO\n",
        "  \n",
        "    return pred_dist\n",
        "\n",
        "\n",
        "def compute_driving_loss(dist, actions, rewards):\n",
        "    # Arguments:\n",
        "    #   logits: network's predictions for actions to take\n",
        "    #   actions: the actions the agent took in an episode\n",
        "    #   rewards: the rewards the agent received in an episode\n",
        "    # Returns:\n",
        "    #   loss\n",
        "    '''TODO: complete the function call to compute the negative log probabilities\n",
        "    of the agent's actions.'''\n",
        "    neg_logprob = -1 * dist.log_prob(actions) # TODO\n",
        "\n",
        "    '''TODO: scale the negative log probability by the rewards.'''\n",
        "    loss = tf.reduce_mean( neg_logprob * rewards ) # TODO\n",
        "    return loss\n"
      ]
    },
    {
      "cell_type": "markdown",
      "metadata": {
        "id": "fCCMKLaIJ9Bs"
      },
      "source": [
        "## 3.10 Train the self-driving agent\n",
        "\n",
        "We're now all set up to start training our RL algorithm and agent for autonomous driving!\n",
        "\n",
        "We begin be initializing an opitimizer, environment, a new driving agent, and `Memory` buffer. This will be in the first code block. To restart training completely, you will need to re-run this cell to re-initiailize everything.\n",
        "\n",
        "The second code block is the main training script. Here reinforcement learning episodes will be executed by agents in the VISTA environment. Since the self-driving agent starts out with literally zero knowledge of its environment, it can often take a long time to train and achieve stable behavior -- keep this in mind! For convenience, stopping and restarting the second cell will pick up training where you left off.\n",
        "\n",
        "The training block will execute a policy in the environment until the agent crashes. When the agent crashes, the (state, action, reward) triplet `(s,a,r)` of the agent at the end of the episode will be saved into the `Memory` buffer, and then provided as input to the policy gradient loss function. This information will be used to execute optimization within the training step. Memory will be cleared, and we will then do it all over again!\n",
        "\n",
        "Let's run the code block to train our self-driving agent. We will again visualize the evolution of the total reward as a function of training to get a sense of how the agent is learning. **You should reach a reward of at least 100 to get bare minimum stable behavior.**"
      ]
    },
    {
      "cell_type": "code",
      "source": [
        "## Training parameters and initialization ##\n",
        "## Re-run this cell to restart training from scratch ##\n",
        "\n",
        "''' TODO: Learning rate and optimizer '''\n",
        "learning_rate = 5e-4 # TODO\n",
        "\n",
        "optimizer = tf.keras.optimizers.Adam(learning_rate) # TODO\n",
        "\n",
        "# instantiate driving agent\n",
        "vista_reset()\n",
        "driving_model = create_driving_model()\n",
        "# NOTE: the variable driving_model will be used in run_driving_model execution\n",
        "\n",
        "# to track our progress\n",
        "smoothed_reward = mdl.util.LossHistory(smoothing_factor=0.9)\n",
        "plotter = mdl.util.PeriodicPlotter(sec=2, xlabel='Iterations', ylabel='Rewards')\n",
        "\n",
        "# instantiate Memory buffer\n",
        "memory = Memory()"
      ],
      "metadata": {
        "id": "uZGn94sJCtBb",
        "outputId": "a7ada523-d110-48e1-f9b7-be84c324ddba",
        "colab": {
          "base_uri": "https://localhost:8080/",
          "height": 240
        }
      },
      "execution_count": 39,
      "outputs": [
        {
          "output_type": "error",
          "ename": "NameError",
          "evalue": "ignored",
          "traceback": [
            "\u001b[0;31m---------------------------------------------------------------------------\u001b[0m",
            "\u001b[0;31mNameError\u001b[0m                                 Traceback (most recent call last)",
            "\u001b[0;32m<ipython-input-39-c183fdb9dad4>\u001b[0m in \u001b[0;36m<module>\u001b[0;34m()\u001b[0m\n\u001b[1;32m      8\u001b[0m \u001b[0;34m\u001b[0m\u001b[0m\n\u001b[1;32m      9\u001b[0m \u001b[0;31m# instantiate driving agent\u001b[0m\u001b[0;34m\u001b[0m\u001b[0;34m\u001b[0m\u001b[0;34m\u001b[0m\u001b[0m\n\u001b[0;32m---> 10\u001b[0;31m \u001b[0mvista_reset\u001b[0m\u001b[0;34m(\u001b[0m\u001b[0;34m)\u001b[0m\u001b[0;34m\u001b[0m\u001b[0;34m\u001b[0m\u001b[0m\n\u001b[0m\u001b[1;32m     11\u001b[0m \u001b[0mdriving_model\u001b[0m \u001b[0;34m=\u001b[0m \u001b[0mcreate_driving_model\u001b[0m\u001b[0;34m(\u001b[0m\u001b[0;34m)\u001b[0m\u001b[0;34m\u001b[0m\u001b[0;34m\u001b[0m\u001b[0m\n\u001b[1;32m     12\u001b[0m \u001b[0;31m# NOTE: the variable driving_model will be used in run_driving_model execution\u001b[0m\u001b[0;34m\u001b[0m\u001b[0;34m\u001b[0m\u001b[0;34m\u001b[0m\u001b[0m\n",
            "\u001b[0;31mNameError\u001b[0m: name 'vista_reset' is not defined"
          ]
        }
      ]
    },
    {
      "cell_type": "code",
      "execution_count": null,
      "metadata": {
        "scrolled": true,
        "id": "G8GhVvZQJ9Bs"
      },
      "outputs": [],
      "source": [
        "## Driving training! Main training block. ##\n",
        "## Note: stopping and restarting this cell will pick up training where you\n",
        "#        left off. To restart training you need to rerun the cell above as \n",
        "#        well (to re-initialize the model and optimizer)\n",
        "\n",
        "max_batch_size = 300\n",
        "max_reward = float('-inf') # keep track of the maximum reward acheived during training\n",
        "if hasattr(tqdm, '_instances'): tqdm._instances.clear() # clear if it exists\n",
        "for i_episode in range(500):\n",
        "\n",
        "    plotter.plot(smoothed_reward.get())\n",
        "    # Restart the environment\n",
        "    vista_reset()\n",
        "    memory.clear()\n",
        "    observation = grab_and_preprocess_obs(car)\n",
        "\n",
        "    while True:\n",
        "        # TODO: using the car's current observation compute the desired \n",
        "        #  action (curvature) distribution by feeding it into our \n",
        "        #  driving model (use the function you already built to do this!) '''\n",
        "        curvature_dist = run_driving_model(observation) # TODO\n",
        "        \n",
        "        # TODO: sample from the action *distribution* to decide how to step\n",
        "        #   the car in the environment. You may want to check the documentation\n",
        "        #   for tfp.distributions.Normal online. Remember that the sampled action\n",
        "        #   should be a single scalar value after this step.\n",
        "        curvature_action = curvature_dist.sample()[0,0] # TODO\n",
        "        \n",
        "        # Step the simulated car with the same action\n",
        "        vista_step(curvature_action)\n",
        "        observation = grab_and_preprocess_obs(car)\n",
        "               \n",
        "        # TODO: Compute the reward for this iteration. You define \n",
        "        #   the reward function for this policy, start with something \n",
        "        #   simple - for example, give a reward of 1 if the car did not \n",
        "        #   crash and a reward of 0 if it did crash.\n",
        "        reward = 1.0 if not check_crash(car) else 0.0 # TODO\n",
        "        \n",
        "        # add to memory\n",
        "        memory.add_to_memory(observation, curvature_action, reward)\n",
        "        \n",
        "        # is the episode over? did you crash or do so well that you're done?\n",
        "        if reward == 0.0:\n",
        "            # determine total reward and keep a record of this\n",
        "            total_reward = sum(memory.rewards)\n",
        "            smoothed_reward.append(total_reward)\n",
        "            \n",
        "            # execute training step - remember we don't know anything about how the \n",
        "            #   agent is doing until it has crashed! if the training step is too large \n",
        "            #   we need to sample a mini-batch for this step.\n",
        "            batch_size = min(len(memory), max_batch_size)\n",
        "            i = np.random.choice(len(memory), batch_size, replace=False)\n",
        "            train_step(driving_model, compute_driving_loss, optimizer, \n",
        "                               observations=np.array(memory.observations)[i],\n",
        "                               actions=np.array(memory.actions)[i],\n",
        "                               discounted_rewards = discount_rewards(memory.rewards)[i], \n",
        "                               custom_fwd_fn=run_driving_model)            \n",
        "            # reset the memory\n",
        "            memory.clear()\n",
        "            break"
      ]
    },
    {
      "cell_type": "markdown",
      "metadata": {
        "id": "yevBnJCFJ9Bt"
      },
      "source": [
        "## 3.11 Evaluate the self-driving agent\n",
        "\n",
        "Finally we can put our trained self-driving agent to the test! It will execute autonomous control, in VISTA, based on the learned controller. We will evaluate how well it does based on this distance the car travels without crashing. We await the result..."
      ]
    },
    {
      "cell_type": "code",
      "execution_count": null,
      "metadata": {
        "scrolled": true,
        "id": "DzeswkSnJ9Bt"
      },
      "outputs": [],
      "source": [
        "## Evaluation block!##\n",
        "\n",
        "i_step = 0\n",
        "num_episodes = 5\n",
        "num_reset = 5\n",
        "stream = VideoStream()\n",
        "for i_episode in range(num_episodes):\n",
        "    \n",
        "    # Restart the environment\n",
        "    vista_reset()\n",
        "    observation = grab_and_preprocess_obs(car)\n",
        "    \n",
        "    print(\"rolling out in env\")\n",
        "    episode_step = 0\n",
        "    while not check_crash(car) and episode_step < 100:\n",
        "        # using our observation, choose an action and take it in the environment\n",
        "        curvature_dist = run_driving_model(observation)\n",
        "        curvature = curvature_dist.mean()[0,0]\n",
        "\n",
        "        # Step the simulated car with the same action\n",
        "        vista_step(curvature)\n",
        "        observation = grab_and_preprocess_obs(car)\n",
        "\n",
        "        vis_img = display.render()\n",
        "        stream.write(vis_img[:, :, ::-1], index=i_step)\n",
        "        i_step += 1\n",
        "        episode_step += 1\n",
        "        \n",
        "    for _ in range(num_reset):\n",
        "        stream.write(np.zeros_like(vis_img), index=i_step)\n",
        "        i_step += 1\n",
        "        \n",
        "print(f\"Average reward: {(i_step - (num_reset*num_episodes)) / num_episodes}\")\n",
        "\n",
        "print(\"Saving trajectory with trained policy...\")\n",
        "stream.save(\"trained_policy.mp4\")\n",
        "mdl.lab3.play_video(\"trained_policy.mp4\")"
      ]
    },
    {
      "cell_type": "markdown",
      "source": [
        "Congratulations for making it to this point and for training an autonomous vehicle control policy using deep neural networks and reinforcement learning! Now, with an eye towards the lab competition, think about what you can change -- about the controller model, your data, your learning algorithm... -- to improve performance even further. Below in 3.11 we have some suggestions to get you started. We hope to see your self-driving control policy put to the ***real*** test!"
      ],
      "metadata": {
        "id": "Dq6TZoYvoPyy"
      }
    },
    {
      "cell_type": "markdown",
      "source": [
        "## 3.11 Conclusion and submission information\n",
        "\n",
        "That's it! Congratulations on training two RL agents and putting them to the test! We encourage you to consider the following:\n",
        "\n",
        "* How does each agent perform?\n",
        "* How does the complexity of the self-driving car agent compare to CartPole, and how does it alter the rate at which the agent learns and its performance? \n",
        "* What are some things you could change about the agent or the learning process to potentially improve performance?\n",
        "\n",
        "Try to optimize your **self-driving car** model and algorithm to achieve improved performance.  **MIT students and affiliates will be eligible for prizes during the IAP offering. The prize for this lab includes an opportunity to test your model and algorithm onboard a full-scale autonomous vehicle in the real world.**\n",
        "\n",
        "To get you started, here are some suggested ways to improve your self-driving car model and/or RL algorithm:\n",
        "\n",
        "* different model architectures, for example recurrent models or Transformers with self-attention;\n",
        "* data augmentation and improved pre-processing;\n",
        "* different data modalities from different sensor types. VISTA also supports [LiDAR](https://driving.ca/car-culture/auto-tech/what-is-lidar-and-how-is-it-used-in-cars) and [event-based camera](https://arxiv.org/pdf/1804.01310.pdf) data, with a [new VISTA paper](https://arxiv.org/pdf/2111.12083.pdf) describing this. If you are interested in this, please contact Alexander Amini (amini@mit.edu)!\n",
        "* improved reinforcement learning algorithms, such as [PPO](https://paperswithcode.com/paper/proximal-policy-optimization-algorithms), [TRPO](https://paperswithcode.com/method/trpo), or [A3C](https://paperswithcode.com/method/a3c);\n",
        "* different reward functions for reinforcemnt learning, for example penalizing the car's distance to the lane center rather than just whether or not it crashed;\n",
        "* [Guided Policy Learning (GPL)](https://rll.berkeley.edu/gps/). Not reinforcement learning, but a powerful algorithm to leverage human data to provide additional supervision the learning task.\n",
        "\n",
        "To enter the competition, MIT students and affiliates should upload the following to the course Canvas:\n",
        "\n",
        "* Jupyter notebook with the code you used to generate your results, **with the self-driving car agent training fully executed**;\n",
        "* **saved video of your self-driving agent executing a trajectory in VISTA**;\n",
        "* printout / recording of the **maximum distance traveled by your agent** before crashing;\n",
        "* **text description and/or visual diagram** of the architecture, settings, algorithm, hyperparameters, etc you used to generate your result -- if there are any additional or interesting modifications you made to the template code, please include these in your description;\n",
        "* finally, **separate `.py` script** containing the code for your model, as well as **a function call to load your model and the final trained weights**. This will mean you will have to access and load the weights of your trained model in this script;\n",
        "\n",
        "We will evaluate your entries based on the above components, as well as potential real-time evaluation of top candidates in new VISTA environments with snow / winter traces. The link for these traces is [here](https://www.dropbox.com/s/3wxyvjfquloonqc/vista_traces_snow.zip). You are welcome to download this data and evaluate your models on it as well.\n",
        "\n",
        "Good luck!\n",
        "\n",
        "<p align=\"center\">\n",
        "<img src=\"https://media.giphy.com/media/H7rpSYHRyYgamxQNqw/giphy-downsized-large.gif\" width=\"700\"/>\n",
        "</p>"
      ],
      "metadata": {
        "id": "6c6uO21GoRfw"
      }
    },
    {
      "cell_type": "code",
      "source": [
        ""
      ],
      "metadata": {
        "id": "ac8FNK-x8gNn"
      },
      "execution_count": null,
      "outputs": []
    }
  ],
  "metadata": {
    "accelerator": "GPU",
    "colab": {
      "collapsed_sections": [
        "WoXYKhfZMHiw",
        "UT7YL8KBJIIc",
        "Eu6Mqxc720ST"
      ],
      "name": "RL.ipynb",
      "provenance": []
    },
    "kernelspec": {
      "display_name": "Python 3",
      "language": "python",
      "name": "python3"
    },
    "language_info": {
      "codemirror_mode": {
        "name": "ipython",
        "version": 3
      },
      "file_extension": ".py",
      "mimetype": "text/x-python",
      "name": "python",
      "nbconvert_exporter": "python",
      "pygments_lexer": "ipython3",
      "version": "3.9.7"
    }
  },
  "nbformat": 4,
  "nbformat_minor": 0
}